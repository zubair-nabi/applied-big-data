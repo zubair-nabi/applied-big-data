{
  "nbformat": 4,
  "nbformat_minor": 0,
  "metadata": {
    "colab": {
      "provenance": []
    },
    "kernelspec": {
      "name": "python3",
      "display_name": "Python 3"
    },
    "language_info": {
      "name": "python"
    }
  },
  "cells": [
    {
      "cell_type": "markdown",
      "source": [
        "This Notebook will write an Iceberg table to your Google Drive. In order for it to do so, you will have to give it access. When prompted, select all permissions."
      ],
      "metadata": {
        "id": "Tp4T2WablvcG"
      }
    },
    {
      "cell_type": "code",
      "source": [
        "pip install pyiceberg[sql-sqlite]"
      ],
      "metadata": {
        "colab": {
          "base_uri": "https://localhost:8080/"
        },
        "id": "pU4OsFCvWJwy",
        "outputId": "d5c1a4d2-7b9f-4e41-b5b3-41d8607b9687"
      },
      "execution_count": 1,
      "outputs": [
        {
          "output_type": "stream",
          "name": "stdout",
          "text": [
            "Collecting pyiceberg[sql-sqlite]\n",
            "  Downloading pyiceberg-0.9.1-cp311-cp311-manylinux_2_17_x86_64.manylinux2014_x86_64.whl.metadata (4.5 kB)\n",
            "Requirement already satisfied: cachetools<6.0.0,>=5.5.0 in /usr/local/lib/python3.11/dist-packages (from pyiceberg[sql-sqlite]) (5.5.2)\n",
            "Requirement already satisfied: click<9.0.0,>=7.1.1 in /usr/local/lib/python3.11/dist-packages (from pyiceberg[sql-sqlite]) (8.2.1)\n",
            "Requirement already satisfied: fsspec>=2023.1.0 in /usr/local/lib/python3.11/dist-packages (from pyiceberg[sql-sqlite]) (2025.3.2)\n",
            "Collecting mmh3<6.0.0,>=4.0.0 (from pyiceberg[sql-sqlite])\n",
            "  Downloading mmh3-5.1.0-cp311-cp311-manylinux_2_5_x86_64.manylinux1_x86_64.manylinux_2_17_x86_64.manylinux2014_x86_64.whl.metadata (16 kB)\n",
            "Requirement already satisfied: pydantic!=2.4.0,!=2.4.1,<3.0,>=2.0 in /usr/local/lib/python3.11/dist-packages (from pyiceberg[sql-sqlite]) (2.11.4)\n",
            "Requirement already satisfied: pyparsing<4.0.0,>=3.1.0 in /usr/local/lib/python3.11/dist-packages (from pyiceberg[sql-sqlite]) (3.2.3)\n",
            "Requirement already satisfied: requests<3.0.0,>=2.20.0 in /usr/local/lib/python3.11/dist-packages (from pyiceberg[sql-sqlite]) (2.32.3)\n",
            "Requirement already satisfied: rich<14.0.0,>=10.11.0 in /usr/local/lib/python3.11/dist-packages (from pyiceberg[sql-sqlite]) (13.9.4)\n",
            "Requirement already satisfied: sortedcontainers==2.4.0 in /usr/local/lib/python3.11/dist-packages (from pyiceberg[sql-sqlite]) (2.4.0)\n",
            "Requirement already satisfied: sqlalchemy<3.0.0,>=2.0.18 in /usr/local/lib/python3.11/dist-packages (from pyiceberg[sql-sqlite]) (2.0.41)\n",
            "Collecting strictyaml<2.0.0,>=1.7.0 (from pyiceberg[sql-sqlite])\n",
            "  Downloading strictyaml-1.7.3-py3-none-any.whl.metadata (11 kB)\n",
            "Requirement already satisfied: tenacity<10.0.0,>=8.2.3 in /usr/local/lib/python3.11/dist-packages (from pyiceberg[sql-sqlite]) (9.1.2)\n",
            "Requirement already satisfied: annotated-types>=0.6.0 in /usr/local/lib/python3.11/dist-packages (from pydantic!=2.4.0,!=2.4.1,<3.0,>=2.0->pyiceberg[sql-sqlite]) (0.7.0)\n",
            "Requirement already satisfied: pydantic-core==2.33.2 in /usr/local/lib/python3.11/dist-packages (from pydantic!=2.4.0,!=2.4.1,<3.0,>=2.0->pyiceberg[sql-sqlite]) (2.33.2)\n",
            "Requirement already satisfied: typing-extensions>=4.12.2 in /usr/local/lib/python3.11/dist-packages (from pydantic!=2.4.0,!=2.4.1,<3.0,>=2.0->pyiceberg[sql-sqlite]) (4.13.2)\n",
            "Requirement already satisfied: typing-inspection>=0.4.0 in /usr/local/lib/python3.11/dist-packages (from pydantic!=2.4.0,!=2.4.1,<3.0,>=2.0->pyiceberg[sql-sqlite]) (0.4.1)\n",
            "Requirement already satisfied: charset-normalizer<4,>=2 in /usr/local/lib/python3.11/dist-packages (from requests<3.0.0,>=2.20.0->pyiceberg[sql-sqlite]) (3.4.2)\n",
            "Requirement already satisfied: idna<4,>=2.5 in /usr/local/lib/python3.11/dist-packages (from requests<3.0.0,>=2.20.0->pyiceberg[sql-sqlite]) (3.10)\n",
            "Requirement already satisfied: urllib3<3,>=1.21.1 in /usr/local/lib/python3.11/dist-packages (from requests<3.0.0,>=2.20.0->pyiceberg[sql-sqlite]) (2.4.0)\n",
            "Requirement already satisfied: certifi>=2017.4.17 in /usr/local/lib/python3.11/dist-packages (from requests<3.0.0,>=2.20.0->pyiceberg[sql-sqlite]) (2025.4.26)\n",
            "Requirement already satisfied: markdown-it-py>=2.2.0 in /usr/local/lib/python3.11/dist-packages (from rich<14.0.0,>=10.11.0->pyiceberg[sql-sqlite]) (3.0.0)\n",
            "Requirement already satisfied: pygments<3.0.0,>=2.13.0 in /usr/local/lib/python3.11/dist-packages (from rich<14.0.0,>=10.11.0->pyiceberg[sql-sqlite]) (2.19.1)\n",
            "Requirement already satisfied: greenlet>=1 in /usr/local/lib/python3.11/dist-packages (from sqlalchemy<3.0.0,>=2.0.18->pyiceberg[sql-sqlite]) (3.2.2)\n",
            "Requirement already satisfied: python-dateutil>=2.6.0 in /usr/local/lib/python3.11/dist-packages (from strictyaml<2.0.0,>=1.7.0->pyiceberg[sql-sqlite]) (2.9.0.post0)\n",
            "Requirement already satisfied: mdurl~=0.1 in /usr/local/lib/python3.11/dist-packages (from markdown-it-py>=2.2.0->rich<14.0.0,>=10.11.0->pyiceberg[sql-sqlite]) (0.1.2)\n",
            "Requirement already satisfied: six>=1.5 in /usr/local/lib/python3.11/dist-packages (from python-dateutil>=2.6.0->strictyaml<2.0.0,>=1.7.0->pyiceberg[sql-sqlite]) (1.17.0)\n",
            "Downloading mmh3-5.1.0-cp311-cp311-manylinux_2_5_x86_64.manylinux1_x86_64.manylinux_2_17_x86_64.manylinux2014_x86_64.whl (101 kB)\n",
            "\u001b[2K   \u001b[90m━━━━━━━━━━━━━━━━━━━━━━━━━━━━━━━━━━━━━━━━\u001b[0m \u001b[32m101.6/101.6 kB\u001b[0m \u001b[31m4.3 MB/s\u001b[0m eta \u001b[36m0:00:00\u001b[0m\n",
            "\u001b[?25hDownloading strictyaml-1.7.3-py3-none-any.whl (123 kB)\n",
            "\u001b[2K   \u001b[90m━━━━━━━━━━━━━━━━━━━━━━━━━━━━━━━━━━━━━━━━\u001b[0m \u001b[32m123.9/123.9 kB\u001b[0m \u001b[31m9.1 MB/s\u001b[0m eta \u001b[36m0:00:00\u001b[0m\n",
            "\u001b[?25hDownloading pyiceberg-0.9.1-cp311-cp311-manylinux_2_17_x86_64.manylinux2014_x86_64.whl (1.1 MB)\n",
            "\u001b[2K   \u001b[90m━━━━━━━━━━━━━━━━━━━━━━━━━━━━━━━━━━━━━━━━\u001b[0m \u001b[32m1.1/1.1 MB\u001b[0m \u001b[31m4.3 MB/s\u001b[0m eta \u001b[36m0:00:00\u001b[0m\n",
            "\u001b[?25hInstalling collected packages: mmh3, strictyaml, pyiceberg\n",
            "Successfully installed mmh3-5.1.0 pyiceberg-0.9.1 strictyaml-1.7.3\n"
          ]
        }
      ]
    },
    {
      "cell_type": "code",
      "source": [
        "from google.colab import drive\n",
        "drive.mount('/content/drive')"
      ],
      "metadata": {
        "colab": {
          "base_uri": "https://localhost:8080/"
        },
        "id": "d0yi1omgYqp0",
        "outputId": "2f553ada-4e37-4ff8-d76c-2172b9eb09fb"
      },
      "execution_count": 2,
      "outputs": [
        {
          "output_type": "stream",
          "name": "stdout",
          "text": [
            "Mounted at /content/drive\n"
          ]
        }
      ]
    },
    {
      "cell_type": "code",
      "execution_count": 5,
      "metadata": {
        "id": "jEUVhkcfT05F"
      },
      "outputs": [],
      "source": [
        "from pyiceberg.catalog.sql import SqlCatalog\n",
        "import os\n",
        "\n",
        "warehouse_path = \"/content/drive/MyDrive/Lecture2Iceberg/\"\n",
        "\n",
        "if not os.path.exists(warehouse_path):\n",
        "    os.makedirs(warehouse_path)\n",
        "\n",
        "catalog = SqlCatalog(\n",
        "    \"default\",\n",
        "    **{\n",
        "        \"uri\": f\"sqlite:///{warehouse_path}/pyiceberg_catalog.db\",\n",
        "        \"warehouse\": f\"file://{warehouse_path}\",\n",
        "    },\n",
        ")"
      ]
    },
    {
      "cell_type": "code",
      "source": [
        "import pyarrow.parquet as pq\n",
        "\n",
        "parquet_file = \"/content/drive/MyDrive/Lecture2/financial.parquet\"\n",
        "\n",
        "df = pq.read_table(parquet_file)\n",
        "\n",
        "df"
      ],
      "metadata": {
        "colab": {
          "base_uri": "https://localhost:8080/"
        },
        "id": "EcLZjaOzZSQD",
        "outputId": "22478055-c01a-4ca6-864d-579d22eb0658"
      },
      "execution_count": 6,
      "outputs": [
        {
          "output_type": "execute_result",
          "data": {
            "text/plain": [
              "pyarrow.Table\n",
              "Transaction ID: int64\n",
              "Account ID: string\n",
              "Transaction Amount: double\n",
              "Transaction Type: string\n",
              "Merchant/Counterparty: string\n",
              "Location: string\n",
              "Date and Time: string\n",
              "----\n",
              "Transaction ID: [[1000000000,1000000001,1000000002,1000000003,1000000004,...,1000009995,1000009996,1000009997,1000009998,1000009999]]\n",
              "Account ID: [[\"ACC456789\",\"ACC567890\",\"ACC345678\",\"ACC567890\",\"ACC567890\",...,\"ACC234567\",\"ACC345678\",\"ACC234567\",\"ACC456789\",\"ACC345678\"]]\n",
              "Transaction Amount: [[86.8,1758.97,636.72,266.67,942.24,...,1770.98,1512.92,653.26,1876.98,162.44]]\n",
              "Transaction Type: [[\"Deposit\",\"Withdrawal\",\"Purchase\",\"Deposit\",\"Deposit\",...,\"Deposit\",\"Purchase\",\"Trade\",\"Withdrawal\",\"Deposit\"]]\n",
              "Merchant/Counterparty: [[\"Employer\",\"ABC Store\",\"XYZ Electronics\",\"Employer\",\"ATM\",...,\"ABC Store\",\"Supermarket\",\"Employer\",\"Online Store\",\"Supermarket\"]]\n",
              "Location: [[\"Los Angeles, CA\",\"Chicago, IL\",\"New York, NY\",\"New York, NY\",\"Chicago, IL\",...,\"Miami, FL\",\"New York, NY\",\"Los Angeles, CA\",\"Online\",\"Chicago, IL\"]]\n",
              "Date and Time: [[\"2024-08-01 00:00\",\"2024-08-01 01:00\",\"2024-08-01 02:00\",\"2024-08-01 03:00\",\"2024-08-01 04:00\",...,\"2025-09-21 11:00\",\"2025-09-21 12:00\",\"2025-09-21 13:00\",\"2025-09-21 14:00\",\"2025-09-21 15:00\"]]"
            ]
          },
          "metadata": {},
          "execution_count": 6
        }
      ]
    },
    {
      "cell_type": "code",
      "source": [
        "catalog.create_namespace(\"default\")"
      ],
      "metadata": {
        "id": "lNB1ypcCZgph"
      },
      "execution_count": 7,
      "outputs": []
    },
    {
      "cell_type": "code",
      "source": [
        "table = catalog.create_table(\n",
        "    \"default.financial\",\n",
        "    schema=df.schema,\n",
        ")"
      ],
      "metadata": {
        "id": "T8YLy4arZ0gZ"
      },
      "execution_count": 8,
      "outputs": []
    },
    {
      "cell_type": "code",
      "source": [
        "table.append(df)"
      ],
      "metadata": {
        "id": "Pt8z8S90bZwy"
      },
      "execution_count": 9,
      "outputs": []
    },
    {
      "cell_type": "markdown",
      "source": [
        "Now let's look at its schema evolution capability"
      ],
      "metadata": {
        "id": "3pk6gmKNkvf6"
      }
    },
    {
      "cell_type": "code",
      "source": [
        "import pyarrow.compute as pc\n",
        "\n",
        "df = df.append_column(\"amount_in_cents\", pc.multiply(df[\"Transaction Amount\"], 100))"
      ],
      "metadata": {
        "id": "YHvsPGL3jdRY"
      },
      "execution_count": 10,
      "outputs": []
    },
    {
      "cell_type": "code",
      "source": [
        "with table.update_schema() as update_schema:\n",
        "    update_schema.union_by_name(df.schema)"
      ],
      "metadata": {
        "id": "0MrP2TJ7j2PH"
      },
      "execution_count": 11,
      "outputs": []
    },
    {
      "cell_type": "code",
      "source": [
        "table.overwrite(df)\n",
        "print(table.scan().to_arrow())"
      ],
      "metadata": {
        "colab": {
          "base_uri": "https://localhost:8080/"
        },
        "id": "5--0aleFj4ZZ",
        "outputId": "e1e8a06f-fb3c-4dbb-fb89-912aa0460f1a"
      },
      "execution_count": 12,
      "outputs": [
        {
          "output_type": "stream",
          "name": "stdout",
          "text": [
            "pyarrow.Table\n",
            "Transaction ID: int64\n",
            "Account ID: large_string\n",
            "Transaction Amount: double\n",
            "Transaction Type: large_string\n",
            "Merchant/Counterparty: large_string\n",
            "Location: large_string\n",
            "Date and Time: large_string\n",
            "amount_in_cents: double\n",
            "----\n",
            "Transaction ID: [[1000000000,1000000001,1000000002,1000000003,1000000004,...,1000009995,1000009996,1000009997,1000009998,1000009999]]\n",
            "Account ID: [[\"ACC456789\",\"ACC567890\",\"ACC345678\",\"ACC567890\",\"ACC567890\",...,\"ACC234567\",\"ACC345678\",\"ACC234567\",\"ACC456789\",\"ACC345678\"]]\n",
            "Transaction Amount: [[86.8,1758.97,636.72,266.67,942.24,...,1770.98,1512.92,653.26,1876.98,162.44]]\n",
            "Transaction Type: [[\"Deposit\",\"Withdrawal\",\"Purchase\",\"Deposit\",\"Deposit\",...,\"Deposit\",\"Purchase\",\"Trade\",\"Withdrawal\",\"Deposit\"]]\n",
            "Merchant/Counterparty: [[\"Employer\",\"ABC Store\",\"XYZ Electronics\",\"Employer\",\"ATM\",...,\"ABC Store\",\"Supermarket\",\"Employer\",\"Online Store\",\"Supermarket\"]]\n",
            "Location: [[\"Los Angeles, CA\",\"Chicago, IL\",\"New York, NY\",\"New York, NY\",\"Chicago, IL\",...,\"Miami, FL\",\"New York, NY\",\"Los Angeles, CA\",\"Online\",\"Chicago, IL\"]]\n",
            "Date and Time: [[\"2024-08-01 00:00\",\"2024-08-01 01:00\",\"2024-08-01 02:00\",\"2024-08-01 03:00\",\"2024-08-01 04:00\",...,\"2025-09-21 11:00\",\"2025-09-21 12:00\",\"2025-09-21 13:00\",\"2025-09-21 14:00\",\"2025-09-21 15:00\"]]\n",
            "amount_in_cents: [[8680,175897,63672,26667,94224,...,177098,151292,65326,187698,16244]]\n"
          ]
        }
      ]
    },
    {
      "cell_type": "markdown",
      "source": [
        "Now let's time travel!"
      ],
      "metadata": {
        "id": "R0xcmrHOk0xZ"
      }
    },
    {
      "cell_type": "code",
      "source": [
        "snapshots = table.snapshots()\n",
        "print(\"Snapshots:\")\n",
        "for snapshot in snapshots:\n",
        "    print(snapshot)\n",
        "    print(f\"Snapshot ID: {snapshot.snapshot_id}\")\n"
      ],
      "metadata": {
        "colab": {
          "base_uri": "https://localhost:8080/"
        },
        "id": "4VngV8otkYVk",
        "outputId": "78d6b272-091c-4b42-ba7b-c0dc2a7a4c10"
      },
      "execution_count": 13,
      "outputs": [
        {
          "output_type": "stream",
          "name": "stdout",
          "text": [
            "Snapshots:\n",
            "Operation.APPEND: id=7195230645844944471, schema_id=0\n",
            "Snapshot ID: 7195230645844944471\n",
            "Operation.DELETE: id=6516950793692017886, parent_id=7195230645844944471, schema_id=1\n",
            "Snapshot ID: 6516950793692017886\n",
            "Operation.APPEND: id=239807549678947714, parent_id=6516950793692017886, schema_id=1\n",
            "Snapshot ID: 239807549678947714\n"
          ]
        }
      ]
    },
    {
      "cell_type": "code",
      "source": [
        "snapshot_id = snapshots[0].snapshot_id  # Use the first snapshot\n",
        "table_at_snapshot = table.scan(snapshot_id=snapshot_id).to_arrow()\n",
        "print(\"Data at Snapshot ID:\", snapshot_id)\n",
        "print(table_at_snapshot)"
      ],
      "metadata": {
        "colab": {
          "base_uri": "https://localhost:8080/"
        },
        "id": "EPLP0ogwkn-p",
        "outputId": "24ec507d-393e-448c-9e56-e029905148ae"
      },
      "execution_count": 14,
      "outputs": [
        {
          "output_type": "stream",
          "name": "stdout",
          "text": [
            "Data at Snapshot ID: 7195230645844944471\n",
            "pyarrow.Table\n",
            "Transaction ID: int64\n",
            "Account ID: large_string\n",
            "Transaction Amount: double\n",
            "Transaction Type: large_string\n",
            "Merchant/Counterparty: large_string\n",
            "Location: large_string\n",
            "Date and Time: large_string\n",
            "----\n",
            "Transaction ID: [[1000000000,1000000001,1000000002,1000000003,1000000004,...,1000009995,1000009996,1000009997,1000009998,1000009999]]\n",
            "Account ID: [[\"ACC456789\",\"ACC567890\",\"ACC345678\",\"ACC567890\",\"ACC567890\",...,\"ACC234567\",\"ACC345678\",\"ACC234567\",\"ACC456789\",\"ACC345678\"]]\n",
            "Transaction Amount: [[86.8,1758.97,636.72,266.67,942.24,...,1770.98,1512.92,653.26,1876.98,162.44]]\n",
            "Transaction Type: [[\"Deposit\",\"Withdrawal\",\"Purchase\",\"Deposit\",\"Deposit\",...,\"Deposit\",\"Purchase\",\"Trade\",\"Withdrawal\",\"Deposit\"]]\n",
            "Merchant/Counterparty: [[\"Employer\",\"ABC Store\",\"XYZ Electronics\",\"Employer\",\"ATM\",...,\"ABC Store\",\"Supermarket\",\"Employer\",\"Online Store\",\"Supermarket\"]]\n",
            "Location: [[\"Los Angeles, CA\",\"Chicago, IL\",\"New York, NY\",\"New York, NY\",\"Chicago, IL\",...,\"Miami, FL\",\"New York, NY\",\"Los Angeles, CA\",\"Online\",\"Chicago, IL\"]]\n",
            "Date and Time: [[\"2024-08-01 00:00\",\"2024-08-01 01:00\",\"2024-08-01 02:00\",\"2024-08-01 03:00\",\"2024-08-01 04:00\",...,\"2025-09-21 11:00\",\"2025-09-21 12:00\",\"2025-09-21 13:00\",\"2025-09-21 14:00\",\"2025-09-21 15:00\"]]\n"
          ]
        }
      ]
    }
  ]
}