{
  "nbformat": 4,
  "nbformat_minor": 0,
  "metadata": {
    "colab": {
      "provenance": []
    },
    "kernelspec": {
      "name": "python3",
      "display_name": "Python 3"
    },
    "language_info": {
      "name": "python"
    }
  },
  "cells": [
    {
      "cell_type": "markdown",
      "source": [
        "This Notebook will write a Parquet file to your Google Drive. In order for it to do so, you will have to give it access. When prompted, select all permissions."
      ],
      "metadata": {
        "id": "zufnu7P8kOGf"
      }
    },
    {
      "cell_type": "code",
      "source": [
        "pip install fastparquet"
      ],
      "metadata": {
        "colab": {
          "base_uri": "https://localhost:8080/"
        },
        "id": "k5lZfR6k74T7",
        "outputId": "103a8b88-c526-4bab-e85b-0d4429c37042"
      },
      "execution_count": 1,
      "outputs": [
        {
          "output_type": "stream",
          "name": "stdout",
          "text": [
            "Collecting fastparquet\n",
            "  Downloading fastparquet-2024.11.0-cp311-cp311-manylinux_2_17_x86_64.manylinux2014_x86_64.whl.metadata (4.2 kB)\n",
            "Requirement already satisfied: pandas>=1.5.0 in /usr/local/lib/python3.11/dist-packages (from fastparquet) (2.2.2)\n",
            "Requirement already satisfied: numpy in /usr/local/lib/python3.11/dist-packages (from fastparquet) (2.0.2)\n",
            "Requirement already satisfied: cramjam>=2.3 in /usr/local/lib/python3.11/dist-packages (from fastparquet) (2.10.0)\n",
            "Requirement already satisfied: fsspec in /usr/local/lib/python3.11/dist-packages (from fastparquet) (2025.3.2)\n",
            "Requirement already satisfied: packaging in /usr/local/lib/python3.11/dist-packages (from fastparquet) (24.2)\n",
            "Requirement already satisfied: python-dateutil>=2.8.2 in /usr/local/lib/python3.11/dist-packages (from pandas>=1.5.0->fastparquet) (2.9.0.post0)\n",
            "Requirement already satisfied: pytz>=2020.1 in /usr/local/lib/python3.11/dist-packages (from pandas>=1.5.0->fastparquet) (2025.2)\n",
            "Requirement already satisfied: tzdata>=2022.7 in /usr/local/lib/python3.11/dist-packages (from pandas>=1.5.0->fastparquet) (2025.2)\n",
            "Requirement already satisfied: six>=1.5 in /usr/local/lib/python3.11/dist-packages (from python-dateutil>=2.8.2->pandas>=1.5.0->fastparquet) (1.17.0)\n",
            "Downloading fastparquet-2024.11.0-cp311-cp311-manylinux_2_17_x86_64.manylinux2014_x86_64.whl (1.8 MB)\n",
            "\u001b[2K   \u001b[90m━━━━━━━━━━━━━━━━━━━━━━━━━━━━━━━━━━━━━━━━\u001b[0m \u001b[32m1.8/1.8 MB\u001b[0m \u001b[31m20.9 MB/s\u001b[0m eta \u001b[36m0:00:00\u001b[0m\n",
            "\u001b[?25hInstalling collected packages: fastparquet\n",
            "Successfully installed fastparquet-2024.11.0\n"
          ]
        }
      ]
    },
    {
      "cell_type": "code",
      "source": [
        "from google.colab import drive\n",
        "drive.mount('/content/drive')"
      ],
      "metadata": {
        "colab": {
          "base_uri": "https://localhost:8080/"
        },
        "id": "IIFlthku7Rta",
        "outputId": "c8c5b994-a60b-4de5-dd0f-c62a756d043e"
      },
      "execution_count": 5,
      "outputs": [
        {
          "output_type": "stream",
          "name": "stdout",
          "text": [
            "Mounted at /content/drive\n"
          ]
        }
      ]
    },
    {
      "cell_type": "code",
      "execution_count": 9,
      "metadata": {
        "colab": {
          "base_uri": "https://localhost:8080/"
        },
        "id": "iim9BQx57P-V",
        "outputId": "9daa4740-6ba2-4988-8179-380b571eff96"
      },
      "outputs": [
        {
          "output_type": "stream",
          "name": "stderr",
          "text": [
            "<ipython-input-9-835e934de079>:19: FutureWarning: 'H' is deprecated and will be removed in a future version, please use 'h' instead.\n",
            "  'Date and Time': pd.date_range(start='2024-08-01', periods=n_rows, freq='H').strftime('%Y-%m-%d %H:%M').tolist()\n"
          ]
        }
      ],
      "source": [
        "import pandas as pd\n",
        "import numpy as np\n",
        "import os\n",
        "\n",
        "np.random.seed(42)\n",
        "\n",
        "accounts = ['ACC123456', 'ACC234567', 'ACC345678', 'ACC456789', 'ACC567890']\n",
        "merchants = ['ABC Store', 'ATM', 'Employer', 'Stock Exchange', 'XYZ Electronics', 'Online Store', 'Cafe', 'Supermarket']\n",
        "\n",
        "n_rows = 10000\n",
        "\n",
        "data = {\n",
        "    'Transaction ID': np.arange(1000000000, 1000000000 + n_rows),\n",
        "    'Account ID': np.random.choice(accounts, n_rows),\n",
        "    'Transaction Amount': np.round(np.random.uniform(10.00, 2000.00, n_rows), 2),\n",
        "    'Transaction Type': np.random.choice(['Purchase', 'Withdrawal', 'Deposit', 'Trade'], n_rows),\n",
        "    'Merchant/Counterparty': np.random.choice(merchants, n_rows),\n",
        "    'Location': np.random.choice(['New York, NY', 'Los Angeles, CA', 'Chicago, IL', 'Miami, FL', 'Online'], n_rows),\n",
        "    'Date and Time': pd.date_range(start='2024-08-01', periods=n_rows, freq='H').strftime('%Y-%m-%d %H:%M').tolist()\n",
        "}\n",
        "\n",
        "data = pd.DataFrame(data)\n",
        "\n",
        "parquet_folder = \"/content/drive/MyDrive/Lecture2\"\n",
        "\n",
        "if not os.path.exists(parquet_folder):\n",
        "    os.makedirs(parquet_folder)\n",
        "\n",
        "parquet_file = f\"{parquet_folder}/financial.parquet\"\n",
        "data.to_parquet(parquet_file, engine='fastparquet', index=False)"
      ]
    },
    {
      "cell_type": "code",
      "source": [
        "from pyspark.sql import SparkSession\n",
        "from pyspark.sql.functions import col, sum as spark_sum, max as spark_max\n",
        "\n",
        "spark = SparkSession.builder \\\n",
        "    .appName(\"Financial Dataset Analysis\") \\\n",
        "    .getOrCreate()\n",
        "\n",
        "df = spark.read.parquet(parquet_file)\n",
        "\n",
        "# Group by 'Account ID' and 'Merchant/Counterparty' and sum 'Transaction Amount'\n",
        "grouped_df = df.groupBy('Account ID', 'Merchant/Counterparty').agg(spark_sum('Transaction Amount').alias('Total Spending'))\n",
        "\n",
        "# Find the maximum 'Total Spending' for each 'Account ID'\n",
        "max_spending_df = grouped_df.groupBy('Account ID').agg(spark_max('Total Spending').alias('Max Spending'))\n",
        "\n",
        "highest_spending_df = grouped_df.join(max_spending_df,\n",
        "                                      on=['Account ID'],\n",
        "                                      how='inner') \\\n",
        "                                .filter(col('Total Spending') == col('Max Spending'))\n",
        "\n",
        "highest_spending_df = highest_spending_df.drop('Max Spending')\n",
        "highest_spending_df.show(truncate=False)\n"
      ],
      "metadata": {
        "colab": {
          "base_uri": "https://localhost:8080/"
        },
        "id": "1uegHFt0mpsA",
        "outputId": "a55d07d6-1fcf-401a-f430-53dedf1b7edd"
      },
      "execution_count": 10,
      "outputs": [
        {
          "output_type": "stream",
          "name": "stdout",
          "text": [
            "+----------+---------------------+------------------+\n",
            "|Account ID|Merchant/Counterparty|Total Spending    |\n",
            "+----------+---------------------+------------------+\n",
            "|ACC234567 |XYZ Electronics      |278558.4099999999 |\n",
            "|ACC567890 |Employer             |291355.0          |\n",
            "|ACC345678 |Cafe                 |271944.07999999996|\n",
            "|ACC123456 |Stock Exchange       |279712.87000000005|\n",
            "|ACC456789 |XYZ Electronics      |266071.94999999995|\n",
            "+----------+---------------------+------------------+\n",
            "\n"
          ]
        }
      ]
    }
  ]
}