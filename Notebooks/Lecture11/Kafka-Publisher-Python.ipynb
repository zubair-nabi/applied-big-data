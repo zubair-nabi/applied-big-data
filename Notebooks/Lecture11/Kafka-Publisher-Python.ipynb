{
  "nbformat": 4,
  "nbformat_minor": 0,
  "metadata": {
    "colab": {
      "provenance": []
    },
    "kernelspec": {
      "name": "python3",
      "display_name": "Python 3"
    },
    "language_info": {
      "name": "python"
    }
  },
  "cells": [
    {
      "cell_type": "markdown",
      "source": [
        "This notebook will continuously publish a JSON message to the lecture11 topic on an Aiven managed Kafka broker. The message will contain sensor data such as sensorId, value, quality, and timestamp. The message will be published once every second.\n",
        "\n",
        "This notebook also assumes that you have already created a Kafka broker via Aiven with SASL based authentication. The broker address should be present as `kafka_server` and its password as `kafka_password`. In addition, the CA for Kafka is present on your Google Drive. Finally, you also need to create a topic called `lecture11`."
      ],
      "metadata": {
        "id": "oNHO-w_GSwO_"
      }
    },
    {
      "cell_type": "code",
      "execution_count": 1,
      "metadata": {
        "colab": {
          "base_uri": "https://localhost:8080/"
        },
        "id": "04t00n_ZQs2n",
        "outputId": "c605f3b0-ebb8-4684-9eb5-268bbef04d70"
      },
      "outputs": [
        {
          "output_type": "stream",
          "name": "stdout",
          "text": [
            "Collecting kafka-python\n",
            "  Downloading kafka_python-2.2.10-py2.py3-none-any.whl.metadata (10.0 kB)\n",
            "Downloading kafka_python-2.2.10-py2.py3-none-any.whl (309 kB)\n",
            "\u001b[2K   \u001b[90m━━━━━━━━━━━━━━━━━━━━━━━━━━━━━━━━━━━━━━━━\u001b[0m \u001b[32m309.3/309.3 kB\u001b[0m \u001b[31m6.4 MB/s\u001b[0m eta \u001b[36m0:00:00\u001b[0m\n",
            "\u001b[?25hInstalling collected packages: kafka-python\n",
            "Successfully installed kafka-python-2.2.10\n"
          ]
        }
      ],
      "source": [
        "pip install kafka-python"
      ]
    },
    {
      "cell_type": "code",
      "source": [
        "import json\n",
        "import random\n",
        "from datetime import datetime\n",
        "import time\n",
        "\n",
        "\n",
        "def get_message():\n",
        "    random_value = round(random.uniform(60.0, 100.0), 2)\n",
        "    quality = \"Good\" if random_value > 70 else \"Fair\"\n",
        "\n",
        "    message = {\n",
        "        \"sensorId\": \"temp-sensor-001\",\n",
        "        \"value\": random_value,\n",
        "        \"quality\": quality,\n",
        "        \"timestamp\": datetime.now().strftime('%Y-%m-%dT%H:%M:%SZ')\n",
        "    }\n",
        "\n",
        "    message_str = json.dumps(message)\n",
        "\n",
        "    return message_str"
      ],
      "metadata": {
        "id": "dG86qVSVDTVF"
      },
      "execution_count": 2,
      "outputs": []
    },
    {
      "cell_type": "code",
      "source": [
        "from google.colab import drive\n",
        "drive.mount('/content/drive')"
      ],
      "metadata": {
        "colab": {
          "base_uri": "https://localhost:8080/"
        },
        "id": "KebcI0ZvEfQf",
        "outputId": "172924d1-1c83-4be9-db99-3cc71da3880d"
      },
      "execution_count": 3,
      "outputs": [
        {
          "output_type": "stream",
          "name": "stdout",
          "text": [
            "Mounted at /content/drive\n"
          ]
        }
      ]
    },
    {
      "cell_type": "code",
      "source": [
        "from google.colab import userdata\n",
        "\n",
        "kafka_password = userdata.get('kafka_password')\n",
        "kafka_server = userdata.get('kafka_server')"
      ],
      "metadata": {
        "id": "EEZXLITaHGrV"
      },
      "execution_count": 4,
      "outputs": []
    },
    {
      "cell_type": "code",
      "source": [
        "from kafka import KafkaProducer\n",
        "\n",
        "TOPIC_NAME = \"lecture11\"\n",
        "SASL_MECHANISM = 'SCRAM-SHA-256'\n",
        "\n",
        "producer = KafkaProducer(\n",
        "    bootstrap_servers=kafka_server,\n",
        "    sasl_mechanism = SASL_MECHANISM,\n",
        "    sasl_plain_username = \"avnadmin\",\n",
        "    sasl_plain_password = kafka_password,\n",
        "    security_protocol=\"SASL_SSL\",\n",
        "    ssl_cafile=\"/content/drive/MyDrive/Lecture11/ca.pem\",\n",
        ")\n",
        "\n",
        "for i in range(100):\n",
        "    message = get_message()\n",
        "    producer.send(TOPIC_NAME, message.encode('utf-8'))\n",
        "    print(f\"Message sent: {message}\")\n",
        "    time.sleep(1)\n",
        "\n",
        "producer.close()"
      ],
      "metadata": {
        "colab": {
          "base_uri": "https://localhost:8080/",
          "height": 859
        },
        "id": "j9bp9pbKDKAT",
        "outputId": "aa171169-15c7-4f0f-cfd1-11da58f462c8"
      },
      "execution_count": 7,
      "outputs": [
        {
          "output_type": "stream",
          "name": "stdout",
          "text": [
            "Message sent: {\"sensorId\": \"temp-sensor-001\", \"value\": 62.81, \"quality\": \"Fair\", \"timestamp\": \"2025-06-03T01:57:49Z\"}\n",
            "Message sent: {\"sensorId\": \"temp-sensor-001\", \"value\": 82.29, \"quality\": \"Good\", \"timestamp\": \"2025-06-03T01:57:51Z\"}\n",
            "Message sent: {\"sensorId\": \"temp-sensor-001\", \"value\": 74.1, \"quality\": \"Good\", \"timestamp\": \"2025-06-03T01:57:52Z\"}\n",
            "Message sent: {\"sensorId\": \"temp-sensor-001\", \"value\": 78.09, \"quality\": \"Good\", \"timestamp\": \"2025-06-03T01:57:53Z\"}\n",
            "Message sent: {\"sensorId\": \"temp-sensor-001\", \"value\": 78.04, \"quality\": \"Good\", \"timestamp\": \"2025-06-03T01:57:54Z\"}\n",
            "Message sent: {\"sensorId\": \"temp-sensor-001\", \"value\": 88.4, \"quality\": \"Good\", \"timestamp\": \"2025-06-03T01:57:55Z\"}\n",
            "Message sent: {\"sensorId\": \"temp-sensor-001\", \"value\": 74.57, \"quality\": \"Good\", \"timestamp\": \"2025-06-03T01:57:56Z\"}\n",
            "Message sent: {\"sensorId\": \"temp-sensor-001\", \"value\": 69.17, \"quality\": \"Fair\", \"timestamp\": \"2025-06-03T01:57:57Z\"}\n",
            "Message sent: {\"sensorId\": \"temp-sensor-001\", \"value\": 84.16, \"quality\": \"Good\", \"timestamp\": \"2025-06-03T01:57:58Z\"}\n",
            "Message sent: {\"sensorId\": \"temp-sensor-001\", \"value\": 68.31, \"quality\": \"Fair\", \"timestamp\": \"2025-06-03T01:57:59Z\"}\n",
            "Message sent: {\"sensorId\": \"temp-sensor-001\", \"value\": 89.4, \"quality\": \"Good\", \"timestamp\": \"2025-06-03T01:58:00Z\"}\n",
            "Message sent: {\"sensorId\": \"temp-sensor-001\", \"value\": 83.74, \"quality\": \"Good\", \"timestamp\": \"2025-06-03T01:58:01Z\"}\n",
            "Message sent: {\"sensorId\": \"temp-sensor-001\", \"value\": 60.28, \"quality\": \"Fair\", \"timestamp\": \"2025-06-03T01:58:02Z\"}\n",
            "Message sent: {\"sensorId\": \"temp-sensor-001\", \"value\": 77.26, \"quality\": \"Good\", \"timestamp\": \"2025-06-03T01:58:03Z\"}\n",
            "Message sent: {\"sensorId\": \"temp-sensor-001\", \"value\": 67.26, \"quality\": \"Fair\", \"timestamp\": \"2025-06-03T01:58:04Z\"}\n",
            "Message sent: {\"sensorId\": \"temp-sensor-001\", \"value\": 83.35, \"quality\": \"Good\", \"timestamp\": \"2025-06-03T01:58:05Z\"}\n",
            "Message sent: {\"sensorId\": \"temp-sensor-001\", \"value\": 88.94, \"quality\": \"Good\", \"timestamp\": \"2025-06-03T01:58:06Z\"}\n",
            "Message sent: {\"sensorId\": \"temp-sensor-001\", \"value\": 78.55, \"quality\": \"Good\", \"timestamp\": \"2025-06-03T01:58:07Z\"}\n",
            "Message sent: {\"sensorId\": \"temp-sensor-001\", \"value\": 78.72, \"quality\": \"Good\", \"timestamp\": \"2025-06-03T01:58:08Z\"}\n",
            "Message sent: {\"sensorId\": \"temp-sensor-001\", \"value\": 69.67, \"quality\": \"Fair\", \"timestamp\": \"2025-06-03T01:58:09Z\"}\n",
            "Message sent: {\"sensorId\": \"temp-sensor-001\", \"value\": 73.24, \"quality\": \"Good\", \"timestamp\": \"2025-06-03T01:58:10Z\"}\n",
            "Message sent: {\"sensorId\": \"temp-sensor-001\", \"value\": 80.7, \"quality\": \"Good\", \"timestamp\": \"2025-06-03T01:58:11Z\"}\n",
            "Message sent: {\"sensorId\": \"temp-sensor-001\", \"value\": 64.69, \"quality\": \"Fair\", \"timestamp\": \"2025-06-03T01:58:12Z\"}\n",
            "Message sent: {\"sensorId\": \"temp-sensor-001\", \"value\": 85.8, \"quality\": \"Good\", \"timestamp\": \"2025-06-03T01:58:13Z\"}\n",
            "Message sent: {\"sensorId\": \"temp-sensor-001\", \"value\": 85.37, \"quality\": \"Good\", \"timestamp\": \"2025-06-03T01:58:14Z\"}\n",
            "Message sent: {\"sensorId\": \"temp-sensor-001\", \"value\": 76.26, \"quality\": \"Good\", \"timestamp\": \"2025-06-03T01:58:15Z\"}\n",
            "Message sent: {\"sensorId\": \"temp-sensor-001\", \"value\": 94.67, \"quality\": \"Good\", \"timestamp\": \"2025-06-03T01:58:16Z\"}\n",
            "Message sent: {\"sensorId\": \"temp-sensor-001\", \"value\": 82.26, \"quality\": \"Good\", \"timestamp\": \"2025-06-03T01:58:17Z\"}\n",
            "Message sent: {\"sensorId\": \"temp-sensor-001\", \"value\": 78.88, \"quality\": \"Good\", \"timestamp\": \"2025-06-03T01:58:18Z\"}\n",
            "Message sent: {\"sensorId\": \"temp-sensor-001\", \"value\": 94.28, \"quality\": \"Good\", \"timestamp\": \"2025-06-03T01:58:19Z\"}\n",
            "Message sent: {\"sensorId\": \"temp-sensor-001\", \"value\": 73.82, \"quality\": \"Good\", \"timestamp\": \"2025-06-03T01:58:20Z\"}\n",
            "Message sent: {\"sensorId\": \"temp-sensor-001\", \"value\": 75.11, \"quality\": \"Good\", \"timestamp\": \"2025-06-03T01:58:21Z\"}\n",
            "Message sent: {\"sensorId\": \"temp-sensor-001\", \"value\": 82.13, \"quality\": \"Good\", \"timestamp\": \"2025-06-03T01:58:22Z\"}\n",
            "Message sent: {\"sensorId\": \"temp-sensor-001\", \"value\": 80.07, \"quality\": \"Good\", \"timestamp\": \"2025-06-03T01:58:23Z\"}\n",
            "Message sent: {\"sensorId\": \"temp-sensor-001\", \"value\": 67.34, \"quality\": \"Fair\", \"timestamp\": \"2025-06-03T01:58:24Z\"}\n",
            "Message sent: {\"sensorId\": \"temp-sensor-001\", \"value\": 97.48, \"quality\": \"Good\", \"timestamp\": \"2025-06-03T01:58:25Z\"}\n"
          ]
        },
        {
          "output_type": "error",
          "ename": "KeyboardInterrupt",
          "evalue": "",
          "traceback": [
            "\u001b[0;31m---------------------------------------------------------------------------\u001b[0m",
            "\u001b[0;31mKeyboardInterrupt\u001b[0m                         Traceback (most recent call last)",
            "\u001b[0;32m<ipython-input-7-7fdb1ced87a3>\u001b[0m in \u001b[0;36m<cell line: 0>\u001b[0;34m()\u001b[0m\n\u001b[1;32m     17\u001b[0m     \u001b[0mproducer\u001b[0m\u001b[0;34m.\u001b[0m\u001b[0msend\u001b[0m\u001b[0;34m(\u001b[0m\u001b[0mTOPIC_NAME\u001b[0m\u001b[0;34m,\u001b[0m \u001b[0mmessage\u001b[0m\u001b[0;34m.\u001b[0m\u001b[0mencode\u001b[0m\u001b[0;34m(\u001b[0m\u001b[0;34m'utf-8'\u001b[0m\u001b[0;34m)\u001b[0m\u001b[0;34m)\u001b[0m\u001b[0;34m\u001b[0m\u001b[0;34m\u001b[0m\u001b[0m\n\u001b[1;32m     18\u001b[0m     \u001b[0mprint\u001b[0m\u001b[0;34m(\u001b[0m\u001b[0;34mf\"Message sent: {message}\"\u001b[0m\u001b[0;34m)\u001b[0m\u001b[0;34m\u001b[0m\u001b[0;34m\u001b[0m\u001b[0m\n\u001b[0;32m---> 19\u001b[0;31m     \u001b[0mtime\u001b[0m\u001b[0;34m.\u001b[0m\u001b[0msleep\u001b[0m\u001b[0;34m(\u001b[0m\u001b[0;36m1\u001b[0m\u001b[0;34m)\u001b[0m\u001b[0;34m\u001b[0m\u001b[0;34m\u001b[0m\u001b[0m\n\u001b[0m\u001b[1;32m     20\u001b[0m \u001b[0;34m\u001b[0m\u001b[0m\n\u001b[1;32m     21\u001b[0m \u001b[0mproducer\u001b[0m\u001b[0;34m.\u001b[0m\u001b[0mclose\u001b[0m\u001b[0;34m(\u001b[0m\u001b[0;34m)\u001b[0m\u001b[0;34m\u001b[0m\u001b[0;34m\u001b[0m\u001b[0m\n",
            "\u001b[0;31mKeyboardInterrupt\u001b[0m: "
          ]
        }
      ]
    }
  ]
}