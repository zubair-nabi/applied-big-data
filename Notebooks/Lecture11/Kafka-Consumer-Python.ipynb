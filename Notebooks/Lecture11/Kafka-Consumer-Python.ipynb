{
  "nbformat": 4,
  "nbformat_minor": 0,
  "metadata": {
    "colab": {
      "provenance": []
    },
    "kernelspec": {
      "name": "python3",
      "display_name": "Python 3"
    },
    "language_info": {
      "name": "python"
    }
  },
  "cells": [
    {
      "cell_type": "markdown",
      "source": [
        "This notebook will subscribe to the lecture11 topic on the same Kafka broker and print any received messages. Whenever a new message is published to the topic (e.g., by the Publisher Notebook), it will be printed in real-time as it arrives.\n",
        "\n",
        "\n",
        "This notebook also assumes that you have already created a Kafka broker via Aiven with SASL based authentication. The broker address should be present as `kafka_server` and its password as `kafka_password`. In addition, the CA for Kafka is present on your Google Drive. Finally, you also need to create a topic called `lecture11`.\n",
        "\n",
        "Data will be published using this notebook: https://colab.research.google.com/github/zubair-nabi/applied-big-data/blob/main/Notebooks/Lecture11/Kafka-Publisher-Python.ipynb"
      ],
      "metadata": {
        "id": "Bpa8UDCTTAeE"
      }
    },
    {
      "cell_type": "code",
      "execution_count": 6,
      "metadata": {
        "colab": {
          "base_uri": "https://localhost:8080/"
        },
        "id": "04t00n_ZQs2n",
        "outputId": "a7f694e3-4062-474c-b7f8-82e6226fda35"
      },
      "outputs": [
        {
          "output_type": "stream",
          "name": "stdout",
          "text": [
            "Requirement already satisfied: kafka-python in /usr/local/lib/python3.11/dist-packages (2.2.10)\n"
          ]
        }
      ],
      "source": [
        "pip install kafka-python"
      ]
    },
    {
      "cell_type": "code",
      "source": [
        "from google.colab import drive\n",
        "drive.mount('/content/drive')"
      ],
      "metadata": {
        "colab": {
          "base_uri": "https://localhost:8080/"
        },
        "id": "tEuXmJieFPTh",
        "outputId": "ba7f8f67-6e6a-44bb-e4dc-95ee46371a20"
      },
      "execution_count": 2,
      "outputs": [
        {
          "output_type": "stream",
          "name": "stdout",
          "text": [
            "Mounted at /content/drive\n"
          ]
        }
      ]
    },
    {
      "cell_type": "code",
      "source": [
        "from google.colab import userdata\n",
        "\n",
        "kafka_password = userdata.get('kafka_password')\n",
        "kafka_server = userdata.get('kafka_server')"
      ],
      "metadata": {
        "id": "CbQhlm3MG7Nz"
      },
      "execution_count": 3,
      "outputs": []
    },
    {
      "cell_type": "code",
      "source": [
        "from kafka import KafkaConsumer\n",
        "import json\n",
        "from time import sleep\n",
        "\n",
        "TOPIC_NAME = \"lecture11\"\n",
        "SASL_MECHANISM = 'SCRAM-SHA-256'\n",
        "\n",
        "consumer_new_group = KafkaConsumer(\n",
        "    bootstrap_servers=kafka_server,\n",
        "    client_id=\"lecture11_client_id\",\n",
        "    group_id=\"lecture11_group_id\",\n",
        "    auto_offset_reset=\"earliest\",\n",
        "    sasl_mechanism=SASL_MECHANISM,\n",
        "    sasl_plain_username=\"avnadmin\",\n",
        "    sasl_plain_password=kafka_password,\n",
        "    security_protocol=\"SASL_SSL\",\n",
        "    ssl_cafile=\"/content/drive/MyDrive/Lecture11/ca.pem\",\n",
        ")\n",
        "\n",
        "consumer_new_group.subscribe(topics=[TOPIC_NAME])\n",
        "print(\"Current subscription:\", consumer_new_group.subscription())"
      ],
      "metadata": {
        "colab": {
          "base_uri": "https://localhost:8080/"
        },
        "id": "SahRPQTpOQU1",
        "outputId": "4982013e-138d-44a6-ec7d-4fab892c7362"
      },
      "execution_count": 4,
      "outputs": [
        {
          "output_type": "stream",
          "name": "stdout",
          "text": [
            "Current subscription: {'lecture11'}\n"
          ]
        }
      ]
    },
    {
      "cell_type": "code",
      "source": [
        "while True:\n",
        "    records = consumer_new_group.poll(timeout_ms=1000)\n",
        "    for topic_partition, messages in records.items():\n",
        "        for message in messages:\n",
        "            try:\n",
        "                message_json = json.loads(message.value.decode('utf-8'))\n",
        "                print(f\"Message received: {message_json}\")\n",
        "            except Exception as e:\n",
        "                print(f\"Error decoding message: {e}\")\n",
        "    sleep(0.1)\n"
      ],
      "metadata": {
        "colab": {
          "base_uri": "https://localhost:8080/",
          "height": 1000
        },
        "id": "7DYMOyICFV7z",
        "outputId": "1f3f0861-2b24-413a-fd5d-cd45797a428a"
      },
      "execution_count": 5,
      "outputs": [
        {
          "output_type": "stream",
          "name": "stdout",
          "text": [
            "Message received: {'sensorId': 'temp-sensor-001', 'value': 65.42, 'quality': 'Fair', 'timestamp': '2025-06-03T01:28:57Z'}\n",
            "Message received: {'sensorId': 'temp-sensor-001', 'value': 99.61, 'quality': 'Good', 'timestamp': '2025-06-03T01:28:59Z'}\n",
            "Message received: {'sensorId': 'temp-sensor-001', 'value': 72.48, 'quality': 'Good', 'timestamp': '2025-06-03T01:29:00Z'}\n",
            "Message received: {'sensorId': 'temp-sensor-001', 'value': 66.87, 'quality': 'Fair', 'timestamp': '2025-06-03T01:29:01Z'}\n",
            "Message received: {'sensorId': 'temp-sensor-001', 'value': 63.05, 'quality': 'Fair', 'timestamp': '2025-06-03T01:29:02Z'}\n",
            "Message received: {'sensorId': 'temp-sensor-001', 'value': 84.24, 'quality': 'Good', 'timestamp': '2025-06-03T01:29:03Z'}\n",
            "Message received: {'sensorId': 'temp-sensor-001', 'value': 91.7, 'quality': 'Good', 'timestamp': '2025-06-03T01:29:04Z'}\n",
            "Message received: {'sensorId': 'temp-sensor-001', 'value': 93.55, 'quality': 'Good', 'timestamp': '2025-06-03T01:29:05Z'}\n",
            "Message received: {'sensorId': 'temp-sensor-001', 'value': 87.69, 'quality': 'Good', 'timestamp': '2025-06-03T01:29:06Z'}\n",
            "Message received: {'sensorId': 'temp-sensor-001', 'value': 72.37, 'quality': 'Good', 'timestamp': '2025-06-03T01:29:07Z'}\n",
            "Message received: {'sensorId': 'temp-sensor-001', 'value': 94.55, 'quality': 'Good', 'timestamp': '2025-06-03T01:29:08Z'}\n",
            "Message received: {'sensorId': 'temp-sensor-001', 'value': 66.57, 'quality': 'Fair', 'timestamp': '2025-06-03T01:29:09Z'}\n",
            "Message received: {'sensorId': 'temp-sensor-001', 'value': 67.62, 'quality': 'Fair', 'timestamp': '2025-06-03T01:29:10Z'}\n",
            "Message received: {'sensorId': 'temp-sensor-001', 'value': 66.8, 'quality': 'Fair', 'timestamp': '2025-06-03T01:29:11Z'}\n",
            "Message received: {'sensorId': 'temp-sensor-001', 'value': 83.81, 'quality': 'Good', 'timestamp': '2025-06-03T01:29:12Z'}\n",
            "Message received: {'sensorId': 'temp-sensor-001', 'value': 82.01, 'quality': 'Good', 'timestamp': '2025-06-03T01:29:13Z'}\n",
            "Message received: {'sensorId': 'temp-sensor-001', 'value': 96.23, 'quality': 'Good', 'timestamp': '2025-06-03T01:29:14Z'}\n",
            "Message received: {'sensorId': 'temp-sensor-001', 'value': 90.58, 'quality': 'Good', 'timestamp': '2025-06-03T01:29:15Z'}\n",
            "Message received: {'sensorId': 'temp-sensor-001', 'value': 88.33, 'quality': 'Good', 'timestamp': '2025-06-03T01:29:16Z'}\n",
            "Message received: {'sensorId': 'temp-sensor-001', 'value': 93.24, 'quality': 'Good', 'timestamp': '2025-06-03T01:29:17Z'}\n",
            "Message received: {'sensorId': 'temp-sensor-001', 'value': 96.54, 'quality': 'Good', 'timestamp': '2025-06-03T01:29:18Z'}\n",
            "Message received: {'sensorId': 'temp-sensor-001', 'value': 63.64, 'quality': 'Fair', 'timestamp': '2025-06-03T01:29:19Z'}\n",
            "Message received: {'sensorId': 'temp-sensor-001', 'value': 85.68, 'quality': 'Good', 'timestamp': '2025-06-03T01:29:20Z'}\n",
            "Message received: {'sensorId': 'temp-sensor-001', 'value': 81.29, 'quality': 'Good', 'timestamp': '2025-06-03T01:29:21Z'}\n",
            "Message received: {'sensorId': 'temp-sensor-001', 'value': 66.93, 'quality': 'Fair', 'timestamp': '2025-06-03T01:29:22Z'}\n",
            "Message received: {'sensorId': 'temp-sensor-001', 'value': 88.34, 'quality': 'Good', 'timestamp': '2025-06-03T01:29:23Z'}\n",
            "Message received: {'sensorId': 'temp-sensor-001', 'value': 98.94, 'quality': 'Good', 'timestamp': '2025-06-03T01:29:24Z'}\n",
            "Message received: {'sensorId': 'temp-sensor-001', 'value': 82.74, 'quality': 'Good', 'timestamp': '2025-06-03T01:29:25Z'}\n",
            "Message received: {'sensorId': 'temp-sensor-001', 'value': 99.02, 'quality': 'Good', 'timestamp': '2025-06-03T01:29:26Z'}\n",
            "Message received: {'sensorId': 'temp-sensor-001', 'value': 84.82, 'quality': 'Good', 'timestamp': '2025-06-03T01:29:27Z'}\n",
            "Message received: {'sensorId': 'temp-sensor-001', 'value': 61.57, 'quality': 'Fair', 'timestamp': '2025-06-03T01:29:28Z'}\n",
            "Message received: {'sensorId': 'temp-sensor-001', 'value': 90.4, 'quality': 'Good', 'timestamp': '2025-06-03T01:29:29Z'}\n",
            "Message received: {'sensorId': 'temp-sensor-001', 'value': 75.1, 'quality': 'Good', 'timestamp': '2025-06-03T01:29:30Z'}\n",
            "Message received: {'sensorId': 'temp-sensor-001', 'value': 95.59, 'quality': 'Good', 'timestamp': '2025-06-03T01:29:31Z'}\n",
            "Message received: {'sensorId': 'temp-sensor-001', 'value': 91.53, 'quality': 'Good', 'timestamp': '2025-06-03T01:29:32Z'}\n",
            "Message received: {'sensorId': 'temp-sensor-001', 'value': 93.87, 'quality': 'Good', 'timestamp': '2025-06-03T01:29:33Z'}\n",
            "Message received: {'sensorId': 'temp-sensor-001', 'value': 81.62, 'quality': 'Good', 'timestamp': '2025-06-03T01:29:34Z'}\n",
            "Message received: {'sensorId': 'temp-sensor-001', 'value': 80.47, 'quality': 'Good', 'timestamp': '2025-06-03T01:29:35Z'}\n",
            "Message received: {'sensorId': 'temp-sensor-001', 'value': 61.98, 'quality': 'Fair', 'timestamp': '2025-06-03T01:29:36Z'}\n",
            "Message received: {'sensorId': 'temp-sensor-001', 'value': 72.45, 'quality': 'Good', 'timestamp': '2025-06-03T01:29:37Z'}\n",
            "Message received: {'sensorId': 'temp-sensor-001', 'value': 84.76, 'quality': 'Good', 'timestamp': '2025-06-03T01:29:38Z'}\n",
            "Message received: {'sensorId': 'temp-sensor-001', 'value': 78.29, 'quality': 'Good', 'timestamp': '2025-06-03T01:29:39Z'}\n",
            "Message received: {'sensorId': 'temp-sensor-001', 'value': 90.82, 'quality': 'Good', 'timestamp': '2025-06-03T01:29:40Z'}\n",
            "Message received: {'sensorId': 'temp-sensor-001', 'value': 67.11, 'quality': 'Fair', 'timestamp': '2025-06-03T01:29:41Z'}\n",
            "Message received: {'sensorId': 'temp-sensor-001', 'value': 84.3, 'quality': 'Good', 'timestamp': '2025-06-03T01:29:42Z'}\n",
            "Message received: {'sensorId': 'temp-sensor-001', 'value': 62.53, 'quality': 'Fair', 'timestamp': '2025-06-03T01:29:43Z'}\n",
            "Message received: {'sensorId': 'temp-sensor-001', 'value': 88.15, 'quality': 'Good', 'timestamp': '2025-06-03T01:29:44Z'}\n",
            "Message received: {'sensorId': 'temp-sensor-001', 'value': 84.74, 'quality': 'Good', 'timestamp': '2025-06-03T01:29:45Z'}\n",
            "Message received: {'sensorId': 'temp-sensor-001', 'value': 95.39, 'quality': 'Good', 'timestamp': '2025-06-03T01:29:46Z'}\n",
            "Message received: {'sensorId': 'temp-sensor-001', 'value': 82.74, 'quality': 'Good', 'timestamp': '2025-06-03T01:29:47Z'}\n",
            "Message received: {'sensorId': 'temp-sensor-001', 'value': 99.03, 'quality': 'Good', 'timestamp': '2025-06-03T01:29:48Z'}\n",
            "Message received: {'sensorId': 'temp-sensor-001', 'value': 96.34, 'quality': 'Good', 'timestamp': '2025-06-03T01:29:49Z'}\n",
            "Message received: {'sensorId': 'temp-sensor-001', 'value': 65.19, 'quality': 'Fair', 'timestamp': '2025-06-03T01:29:50Z'}\n",
            "Message received: {'sensorId': 'temp-sensor-001', 'value': 64.81, 'quality': 'Fair', 'timestamp': '2025-06-03T01:29:51Z'}\n",
            "Message received: {'sensorId': 'temp-sensor-001', 'value': 97.68, 'quality': 'Good', 'timestamp': '2025-06-03T01:29:52Z'}\n",
            "Message received: {'sensorId': 'temp-sensor-001', 'value': 66.83, 'quality': 'Fair', 'timestamp': '2025-06-03T01:29:53Z'}\n",
            "Message received: {'sensorId': 'temp-sensor-001', 'value': 74.74, 'quality': 'Good', 'timestamp': '2025-06-03T01:29:54Z'}\n",
            "Message received: {'sensorId': 'temp-sensor-001', 'value': 95.2, 'quality': 'Good', 'timestamp': '2025-06-03T01:29:55Z'}\n",
            "Message received: {'sensorId': 'temp-sensor-001', 'value': 73.56, 'quality': 'Good', 'timestamp': '2025-06-03T01:29:56Z'}\n",
            "Message received: {'sensorId': 'temp-sensor-001', 'value': 68.51, 'quality': 'Fair', 'timestamp': '2025-06-03T01:29:57Z'}\n",
            "Message received: {'sensorId': 'temp-sensor-001', 'value': 81.53, 'quality': 'Good', 'timestamp': '2025-06-03T01:29:58Z'}\n",
            "Message received: {'sensorId': 'temp-sensor-001', 'value': 63.33, 'quality': 'Fair', 'timestamp': '2025-06-03T01:29:59Z'}\n"
          ]
        },
        {
          "output_type": "error",
          "ename": "KeyboardInterrupt",
          "evalue": "",
          "traceback": [
            "\u001b[0;31m---------------------------------------------------------------------------\u001b[0m",
            "\u001b[0;31mKeyboardInterrupt\u001b[0m                         Traceback (most recent call last)",
            "\u001b[0;32m<ipython-input-5-2c51f136adc1>\u001b[0m in \u001b[0;36m<cell line: 0>\u001b[0;34m()\u001b[0m\n\u001b[1;32m      1\u001b[0m \u001b[0;32mwhile\u001b[0m \u001b[0;32mTrue\u001b[0m\u001b[0;34m:\u001b[0m\u001b[0;34m\u001b[0m\u001b[0;34m\u001b[0m\u001b[0m\n\u001b[0;32m----> 2\u001b[0;31m     \u001b[0mrecords\u001b[0m \u001b[0;34m=\u001b[0m \u001b[0mconsumer_new_group\u001b[0m\u001b[0;34m.\u001b[0m\u001b[0mpoll\u001b[0m\u001b[0;34m(\u001b[0m\u001b[0mtimeout_ms\u001b[0m\u001b[0;34m=\u001b[0m\u001b[0;36m1000\u001b[0m\u001b[0;34m)\u001b[0m\u001b[0;34m\u001b[0m\u001b[0;34m\u001b[0m\u001b[0m\n\u001b[0m\u001b[1;32m      3\u001b[0m     \u001b[0;32mfor\u001b[0m \u001b[0mtopic_partition\u001b[0m\u001b[0;34m,\u001b[0m \u001b[0mmessages\u001b[0m \u001b[0;32min\u001b[0m \u001b[0mrecords\u001b[0m\u001b[0;34m.\u001b[0m\u001b[0mitems\u001b[0m\u001b[0;34m(\u001b[0m\u001b[0;34m)\u001b[0m\u001b[0;34m:\u001b[0m\u001b[0;34m\u001b[0m\u001b[0;34m\u001b[0m\u001b[0m\n\u001b[1;32m      4\u001b[0m         \u001b[0;32mfor\u001b[0m \u001b[0mmessage\u001b[0m \u001b[0;32min\u001b[0m \u001b[0mmessages\u001b[0m\u001b[0;34m:\u001b[0m\u001b[0;34m\u001b[0m\u001b[0;34m\u001b[0m\u001b[0m\n\u001b[1;32m      5\u001b[0m             \u001b[0;32mtry\u001b[0m\u001b[0;34m:\u001b[0m\u001b[0;34m\u001b[0m\u001b[0;34m\u001b[0m\u001b[0m\n",
            "\u001b[0;32m/usr/local/lib/python3.11/dist-packages/kafka/consumer/group.py\u001b[0m in \u001b[0;36mpoll\u001b[0;34m(self, timeout_ms, max_records, update_offsets)\u001b[0m\n\u001b[1;32m    682\u001b[0m         \u001b[0mtimer\u001b[0m \u001b[0;34m=\u001b[0m \u001b[0mTimer\u001b[0m\u001b[0;34m(\u001b[0m\u001b[0mtimeout_ms\u001b[0m\u001b[0;34m)\u001b[0m\u001b[0;34m\u001b[0m\u001b[0;34m\u001b[0m\u001b[0m\n\u001b[1;32m    683\u001b[0m         \u001b[0;32mwhile\u001b[0m \u001b[0;32mnot\u001b[0m \u001b[0mself\u001b[0m\u001b[0;34m.\u001b[0m\u001b[0m_closed\u001b[0m\u001b[0;34m:\u001b[0m\u001b[0;34m\u001b[0m\u001b[0;34m\u001b[0m\u001b[0m\n\u001b[0;32m--> 684\u001b[0;31m             \u001b[0mrecords\u001b[0m \u001b[0;34m=\u001b[0m \u001b[0mself\u001b[0m\u001b[0;34m.\u001b[0m\u001b[0m_poll_once\u001b[0m\u001b[0;34m(\u001b[0m\u001b[0mtimer\u001b[0m\u001b[0;34m,\u001b[0m \u001b[0mmax_records\u001b[0m\u001b[0;34m,\u001b[0m \u001b[0mupdate_offsets\u001b[0m\u001b[0;34m=\u001b[0m\u001b[0mupdate_offsets\u001b[0m\u001b[0;34m)\u001b[0m\u001b[0;34m\u001b[0m\u001b[0;34m\u001b[0m\u001b[0m\n\u001b[0m\u001b[1;32m    685\u001b[0m             \u001b[0;32mif\u001b[0m \u001b[0mrecords\u001b[0m\u001b[0;34m:\u001b[0m\u001b[0;34m\u001b[0m\u001b[0;34m\u001b[0m\u001b[0m\n\u001b[1;32m    686\u001b[0m                 \u001b[0;32mreturn\u001b[0m \u001b[0mrecords\u001b[0m\u001b[0;34m\u001b[0m\u001b[0;34m\u001b[0m\u001b[0m\n",
            "\u001b[0;32m/usr/local/lib/python3.11/dist-packages/kafka/consumer/group.py\u001b[0m in \u001b[0;36m_poll_once\u001b[0;34m(self, timer, max_records, update_offsets)\u001b[0m\n\u001b[1;32m    729\u001b[0m             \u001b[0mpoll_timeout_ms\u001b[0m \u001b[0;34m=\u001b[0m \u001b[0mmin\u001b[0m\u001b[0;34m(\u001b[0m\u001b[0mpoll_timeout_ms\u001b[0m\u001b[0;34m,\u001b[0m \u001b[0mself\u001b[0m\u001b[0;34m.\u001b[0m\u001b[0mconfig\u001b[0m\u001b[0;34m[\u001b[0m\u001b[0;34m'retry_backoff_ms'\u001b[0m\u001b[0;34m]\u001b[0m\u001b[0;34m)\u001b[0m\u001b[0;34m\u001b[0m\u001b[0;34m\u001b[0m\u001b[0m\n\u001b[1;32m    730\u001b[0m \u001b[0;34m\u001b[0m\u001b[0m\n\u001b[0;32m--> 731\u001b[0;31m         \u001b[0mself\u001b[0m\u001b[0;34m.\u001b[0m\u001b[0m_client\u001b[0m\u001b[0;34m.\u001b[0m\u001b[0mpoll\u001b[0m\u001b[0;34m(\u001b[0m\u001b[0mtimeout_ms\u001b[0m\u001b[0;34m=\u001b[0m\u001b[0mpoll_timeout_ms\u001b[0m\u001b[0;34m)\u001b[0m\u001b[0;34m\u001b[0m\u001b[0;34m\u001b[0m\u001b[0m\n\u001b[0m\u001b[1;32m    732\u001b[0m         \u001b[0;31m# after the long poll, we should check whether the group needs to rebalance\u001b[0m\u001b[0;34m\u001b[0m\u001b[0;34m\u001b[0m\u001b[0m\n\u001b[1;32m    733\u001b[0m         \u001b[0;31m# prior to returning data so that the group can stabilize faster\u001b[0m\u001b[0;34m\u001b[0m\u001b[0;34m\u001b[0m\u001b[0m\n",
            "\u001b[0;32m/usr/local/lib/python3.11/dist-packages/kafka/client_async.py\u001b[0m in \u001b[0;36mpoll\u001b[0;34m(self, timeout_ms, future)\u001b[0m\n\u001b[1;32m    683\u001b[0m                     \u001b[0mtimeout\u001b[0m \u001b[0;34m=\u001b[0m \u001b[0mmax\u001b[0m\u001b[0;34m(\u001b[0m\u001b[0;36m0\u001b[0m\u001b[0;34m,\u001b[0m \u001b[0mtimeout\u001b[0m\u001b[0;34m)\u001b[0m  \u001b[0;31m# avoid negative timeouts\u001b[0m\u001b[0;34m\u001b[0m\u001b[0;34m\u001b[0m\u001b[0m\n\u001b[1;32m    684\u001b[0m \u001b[0;34m\u001b[0m\u001b[0m\n\u001b[0;32m--> 685\u001b[0;31m                 \u001b[0mself\u001b[0m\u001b[0;34m.\u001b[0m\u001b[0m_poll\u001b[0m\u001b[0;34m(\u001b[0m\u001b[0mtimeout\u001b[0m \u001b[0;34m/\u001b[0m \u001b[0;36m1000\u001b[0m\u001b[0;34m)\u001b[0m\u001b[0;34m\u001b[0m\u001b[0;34m\u001b[0m\u001b[0m\n\u001b[0m\u001b[1;32m    686\u001b[0m \u001b[0;34m\u001b[0m\u001b[0m\n\u001b[1;32m    687\u001b[0m             \u001b[0;31m# called without the lock to avoid deadlock potential\u001b[0m\u001b[0;34m\u001b[0m\u001b[0;34m\u001b[0m\u001b[0m\n",
            "\u001b[0;32m/usr/local/lib/python3.11/dist-packages/kafka/client_async.py\u001b[0m in \u001b[0;36m_poll\u001b[0;34m(self, timeout)\u001b[0m\n\u001b[1;32m    726\u001b[0m \u001b[0;34m\u001b[0m\u001b[0m\n\u001b[1;32m    727\u001b[0m         \u001b[0mstart_select\u001b[0m \u001b[0;34m=\u001b[0m \u001b[0mtime\u001b[0m\u001b[0;34m.\u001b[0m\u001b[0mtime\u001b[0m\u001b[0;34m(\u001b[0m\u001b[0;34m)\u001b[0m\u001b[0;34m\u001b[0m\u001b[0;34m\u001b[0m\u001b[0m\n\u001b[0;32m--> 728\u001b[0;31m         \u001b[0mready\u001b[0m \u001b[0;34m=\u001b[0m \u001b[0mself\u001b[0m\u001b[0;34m.\u001b[0m\u001b[0m_selector\u001b[0m\u001b[0;34m.\u001b[0m\u001b[0mselect\u001b[0m\u001b[0;34m(\u001b[0m\u001b[0mtimeout\u001b[0m\u001b[0;34m)\u001b[0m\u001b[0;34m\u001b[0m\u001b[0;34m\u001b[0m\u001b[0m\n\u001b[0m\u001b[1;32m    729\u001b[0m         \u001b[0mend_select\u001b[0m \u001b[0;34m=\u001b[0m \u001b[0mtime\u001b[0m\u001b[0;34m.\u001b[0m\u001b[0mtime\u001b[0m\u001b[0;34m(\u001b[0m\u001b[0;34m)\u001b[0m\u001b[0;34m\u001b[0m\u001b[0;34m\u001b[0m\u001b[0m\n\u001b[1;32m    730\u001b[0m         \u001b[0;32mif\u001b[0m \u001b[0mself\u001b[0m\u001b[0;34m.\u001b[0m\u001b[0m_sensors\u001b[0m\u001b[0;34m:\u001b[0m\u001b[0;34m\u001b[0m\u001b[0;34m\u001b[0m\u001b[0m\n",
            "\u001b[0;32m/usr/lib/python3.11/selectors.py\u001b[0m in \u001b[0;36mselect\u001b[0;34m(self, timeout)\u001b[0m\n\u001b[1;32m    466\u001b[0m             \u001b[0mready\u001b[0m \u001b[0;34m=\u001b[0m \u001b[0;34m[\u001b[0m\u001b[0;34m]\u001b[0m\u001b[0;34m\u001b[0m\u001b[0;34m\u001b[0m\u001b[0m\n\u001b[1;32m    467\u001b[0m             \u001b[0;32mtry\u001b[0m\u001b[0;34m:\u001b[0m\u001b[0;34m\u001b[0m\u001b[0;34m\u001b[0m\u001b[0m\n\u001b[0;32m--> 468\u001b[0;31m                 \u001b[0mfd_event_list\u001b[0m \u001b[0;34m=\u001b[0m \u001b[0mself\u001b[0m\u001b[0;34m.\u001b[0m\u001b[0m_selector\u001b[0m\u001b[0;34m.\u001b[0m\u001b[0mpoll\u001b[0m\u001b[0;34m(\u001b[0m\u001b[0mtimeout\u001b[0m\u001b[0;34m,\u001b[0m \u001b[0mmax_ev\u001b[0m\u001b[0;34m)\u001b[0m\u001b[0;34m\u001b[0m\u001b[0;34m\u001b[0m\u001b[0m\n\u001b[0m\u001b[1;32m    469\u001b[0m             \u001b[0;32mexcept\u001b[0m \u001b[0mInterruptedError\u001b[0m\u001b[0;34m:\u001b[0m\u001b[0;34m\u001b[0m\u001b[0;34m\u001b[0m\u001b[0m\n\u001b[1;32m    470\u001b[0m                 \u001b[0;32mreturn\u001b[0m \u001b[0mready\u001b[0m\u001b[0;34m\u001b[0m\u001b[0;34m\u001b[0m\u001b[0m\n",
            "\u001b[0;31mKeyboardInterrupt\u001b[0m: "
          ]
        }
      ]
    }
  ]
}