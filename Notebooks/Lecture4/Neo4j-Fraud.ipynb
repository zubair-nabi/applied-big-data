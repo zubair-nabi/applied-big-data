{
  "nbformat": 4,
  "nbformat_minor": 0,
  "metadata": {
    "colab": {
      "provenance": []
    },
    "kernelspec": {
      "name": "python3",
      "display_name": "Python 3"
    },
    "language_info": {
      "name": "python"
    },
    "widgets": {
      "application/vnd.jupyter.widget-state+json": {
        "18767b7401864c8198ee822bac7c9bac": {
          "model_module": "yfiles-jupyter-graphs",
          "model_name": "GraphModel",
          "model_module_version": "^1.10.6",
          "state": {
            "_context_pane_mapping": [
              {
                "id": "Neighborhood",
                "title": "Neighborhood"
              },
              {
                "id": "Data",
                "title": "Data"
              },
              {
                "id": "Search",
                "title": "Search"
              },
              {
                "id": "About",
                "title": "About"
              }
            ],
            "_data_importer": "neo4j",
            "_directed": true,
            "_dom_classes": [],
            "_edges": [
              {
                "id": 1152924803141730300,
                "start": 0,
                "end": 1,
                "properties": {
                  "weight": 1,
                  "label": "CONNECTED"
                },
                "color": "#2196F3",
                "thickness_factor": 1,
                "directed": true,
                "styles": {},
                "label": "CONNECTED"
              },
              {
                "id": 1155176602955415600,
                "start": 0,
                "end": 2,
                "properties": {
                  "weight": 2,
                  "label": "CONNECTED"
                },
                "color": "#2196F3",
                "thickness_factor": 1,
                "directed": true,
                "styles": {},
                "label": "CONNECTED"
              },
              {
                "id": 1157428402769100800,
                "start": 0,
                "end": 3,
                "properties": {
                  "weight": 4,
                  "label": "CONNECTED"
                },
                "color": "#2196F3",
                "thickness_factor": 1,
                "directed": true,
                "styles": {},
                "label": "CONNECTED"
              },
              {
                "id": 1152924803141730300,
                "start": 1,
                "end": 2,
                "properties": {
                  "weight": 2,
                  "label": "CONNECTED"
                },
                "color": "#2196F3",
                "thickness_factor": 1,
                "directed": true,
                "styles": {},
                "label": "CONNECTED"
              },
              {
                "id": 1155176602955415600,
                "start": 1,
                "end": 3,
                "properties": {
                  "weight": 3,
                  "label": "CONNECTED"
                },
                "color": "#2196F3",
                "thickness_factor": 1,
                "directed": true,
                "styles": {},
                "label": "CONNECTED"
              },
              {
                "id": 1152924803141730300,
                "start": 2,
                "end": 3,
                "properties": {
                  "weight": 1,
                  "label": "CONNECTED"
                },
                "color": "#2196F3",
                "thickness_factor": 1,
                "directed": true,
                "styles": {},
                "label": "CONNECTED"
              },
              {
                "id": 1152925902653358000,
                "start": 4,
                "end": 7,
                "properties": {
                  "label": "HAS_ADDRESS"
                },
                "color": "#4CAF50",
                "thickness_factor": 1,
                "directed": true,
                "styles": {},
                "label": "HAS_ADDRESS"
              },
              {
                "id": 1152927002164985900,
                "start": 4,
                "end": 8,
                "properties": {
                  "label": "HAS_PHONENUMBER"
                },
                "color": "#F44336",
                "thickness_factor": 1,
                "directed": true,
                "styles": {},
                "label": "HAS_PHONENUMBER"
              },
              {
                "id": 1152928101676613600,
                "start": 4,
                "end": 10,
                "properties": {
                  "label": "HAS_SSN"
                },
                "color": "#607D8B",
                "thickness_factor": 1,
                "directed": true,
                "styles": {},
                "label": "HAS_SSN"
              },
              {
                "id": 1152929201188241400,
                "start": 4,
                "end": 11,
                "properties": {
                  "label": "HAS_CREDITCARD"
                },
                "color": "#673AB7",
                "thickness_factor": 1,
                "directed": true,
                "styles": {},
                "label": "HAS_CREDITCARD"
              },
              {
                "id": 1152930300699869200,
                "start": 4,
                "end": 12,
                "properties": {
                  "label": "HAS_BANKACCOUNT"
                },
                "color": "#CDDC39",
                "thickness_factor": 1,
                "directed": true,
                "styles": {},
                "label": "HAS_BANKACCOUNT"
              },
              {
                "id": 1152925902653358000,
                "start": 5,
                "end": 7,
                "properties": {
                  "label": "HAS_ADDRESS"
                },
                "color": "#4CAF50",
                "thickness_factor": 1,
                "directed": true,
                "styles": {},
                "label": "HAS_ADDRESS"
              },
              {
                "id": 1152927002164985900,
                "start": 5,
                "end": 8,
                "properties": {
                  "label": "HAS_PHONENUMBER"
                },
                "color": "#F44336",
                "thickness_factor": 1,
                "directed": true,
                "styles": {},
                "label": "HAS_PHONENUMBER"
              },
              {
                "id": 1152928101676613600,
                "start": 5,
                "end": 9,
                "properties": {
                  "label": "HAS_SSN"
                },
                "color": "#607D8B",
                "thickness_factor": 1,
                "directed": true,
                "styles": {},
                "label": "HAS_SSN"
              },
              {
                "id": 1152929201188241400,
                "start": 5,
                "end": 13,
                "properties": {
                  "label": "HAS_CREDITCARD"
                },
                "color": "#673AB7",
                "thickness_factor": 1,
                "directed": true,
                "styles": {},
                "label": "HAS_CREDITCARD"
              },
              {
                "id": 1152930300699869200,
                "start": 5,
                "end": 14,
                "properties": {
                  "label": "HAS_BANKACCOUNT"
                },
                "color": "#CDDC39",
                "thickness_factor": 1,
                "directed": true,
                "styles": {},
                "label": "HAS_BANKACCOUNT"
              },
              {
                "id": 1152931400211497000,
                "start": 5,
                "end": 15,
                "properties": {
                  "label": "HAS_UNSECUREDLOAN"
                },
                "color": "#9E9E9E",
                "thickness_factor": 1,
                "directed": true,
                "styles": {},
                "label": "HAS_UNSECUREDLOAN"
              },
              {
                "id": 1152925902653358000,
                "start": 6,
                "end": 7,
                "properties": {
                  "label": "HAS_ADDRESS"
                },
                "color": "#4CAF50",
                "thickness_factor": 1,
                "directed": true,
                "styles": {},
                "label": "HAS_ADDRESS"
              },
              {
                "id": 1152927002164985900,
                "start": 6,
                "end": 18,
                "properties": {
                  "label": "HAS_PHONENUMBER"
                },
                "color": "#F44336",
                "thickness_factor": 1,
                "directed": true,
                "styles": {},
                "label": "HAS_PHONENUMBER"
              },
              {
                "id": 1152928101676613600,
                "start": 6,
                "end": 9,
                "properties": {
                  "label": "HAS_SSN"
                },
                "color": "#607D8B",
                "thickness_factor": 1,
                "directed": true,
                "styles": {},
                "label": "HAS_SSN"
              },
              {
                "id": 1152930300699869200,
                "start": 6,
                "end": 16,
                "properties": {
                  "label": "HAS_BANKACCOUNT"
                },
                "color": "#CDDC39",
                "thickness_factor": 1,
                "directed": true,
                "styles": {},
                "label": "HAS_BANKACCOUNT"
              },
              {
                "id": 1152931400211497000,
                "start": 6,
                "end": 17,
                "properties": {
                  "label": "HAS_UNSECUREDLOAN"
                },
                "color": "#9E9E9E",
                "thickness_factor": 1,
                "directed": true,
                "styles": {},
                "label": "HAS_UNSECUREDLOAN"
              }
            ],
            "_graph_layout": {
              "algorithm": "organic",
              "options": {}
            },
            "_highlight": [],
            "_license": {},
            "_model_module": "yfiles-jupyter-graphs",
            "_model_module_version": "^1.10.6",
            "_model_name": "GraphModel",
            "_neighborhood": {},
            "_nodes": [
              {
                "id": 0,
                "properties": {
                  "name": "A",
                  "label": "Location"
                },
                "color": "#2196F3",
                "styles": {},
                "label": "A",
                "scale_factor": 1,
                "type": "#2196F3",
                "size": [
                  55,
                  55
                ],
                "position": [
                  0,
                  0
                ]
              },
              {
                "id": 1,
                "properties": {
                  "name": "B",
                  "label": "Location"
                },
                "color": "#2196F3",
                "styles": {},
                "label": "B",
                "scale_factor": 1,
                "type": "#2196F3",
                "size": [
                  55,
                  55
                ],
                "position": [
                  0,
                  0
                ]
              },
              {
                "id": 2,
                "properties": {
                  "name": "C",
                  "label": "Location"
                },
                "color": "#2196F3",
                "styles": {},
                "label": "C",
                "scale_factor": 1,
                "type": "#2196F3",
                "size": [
                  55,
                  55
                ],
                "position": [
                  0,
                  0
                ]
              },
              {
                "id": 3,
                "properties": {
                  "name": "D",
                  "label": "Location"
                },
                "color": "#2196F3",
                "styles": {},
                "label": "D",
                "scale_factor": 1,
                "type": "#2196F3",
                "size": [
                  55,
                  55
                ],
                "position": [
                  0,
                  0
                ]
              },
              {
                "id": 4,
                "properties": {
                  "UniqueId": "JohnDoe",
                  "FirstName": "John",
                  "LastName": "Doe",
                  "label": "AccountHolder"
                },
                "color": "#4CAF50",
                "styles": {},
                "label": "AccountHolder",
                "scale_factor": 1,
                "type": "#4CAF50",
                "size": [
                  55,
                  55
                ],
                "position": [
                  0,
                  0
                ]
              },
              {
                "id": 7,
                "properties": {
                  "State": "California",
                  "ZipCode": "94101",
                  "Street": "123 NW 1st Street",
                  "City": "San Francisco",
                  "label": "Address"
                },
                "color": "#F44336",
                "styles": {},
                "label": "Address",
                "scale_factor": 1,
                "type": "#F44336",
                "size": [
                  55,
                  55
                ],
                "position": [
                  0,
                  0
                ]
              },
              {
                "id": 8,
                "properties": {
                  "PhoneNumber": "555-555-5555",
                  "label": "PhoneNumber"
                },
                "color": "#607D8B",
                "styles": {},
                "label": "PhoneNumber",
                "scale_factor": 1,
                "type": "#607D8B",
                "size": [
                  55,
                  55
                ],
                "position": [
                  0,
                  0
                ]
              },
              {
                "id": 10,
                "properties": {
                  "SSN": "241-23-4567",
                  "label": "SSN"
                },
                "color": "#673AB7",
                "styles": {},
                "label": "SSN",
                "scale_factor": 1,
                "type": "#673AB7",
                "size": [
                  55,
                  55
                ],
                "position": [
                  0,
                  0
                ]
              },
              {
                "id": 11,
                "properties": {
                  "ExpirationDate": "01-20",
                  "Limit": 5000,
                  "Balance": 1442.23,
                  "SecurityCode": "123",
                  "AccountNumber": "1234567890123456",
                  "label": "CreditCard"
                },
                "color": "#CDDC39",
                "styles": {},
                "label": "CreditCard",
                "scale_factor": 1,
                "type": "#CDDC39",
                "size": [
                  55,
                  55
                ],
                "position": [
                  0,
                  0
                ]
              },
              {
                "id": 12,
                "properties": {
                  "Balance": 7054.43,
                  "AccountNumber": "2345678901234567",
                  "label": "BankAccount"
                },
                "color": "#9E9E9E",
                "styles": {},
                "label": "BankAccount",
                "scale_factor": 1,
                "type": "#9E9E9E",
                "size": [
                  55,
                  55
                ],
                "position": [
                  0,
                  0
                ]
              },
              {
                "id": 5,
                "properties": {
                  "UniqueId": "JaneAppleseed",
                  "FirstName": "Jane",
                  "LastName": "Appleseed",
                  "label": "AccountHolder"
                },
                "color": "#4CAF50",
                "styles": {},
                "label": "AccountHolder",
                "scale_factor": 1,
                "type": "#4CAF50",
                "size": [
                  55,
                  55
                ],
                "position": [
                  0,
                  0
                ]
              },
              {
                "id": 9,
                "properties": {
                  "SSN": "241-23-1234",
                  "label": "SSN"
                },
                "color": "#673AB7",
                "styles": {},
                "label": "SSN",
                "scale_factor": 1,
                "type": "#673AB7",
                "size": [
                  55,
                  55
                ],
                "position": [
                  0,
                  0
                ]
              },
              {
                "id": 13,
                "properties": {
                  "ExpirationDate": "02-20",
                  "Limit": 4000,
                  "Balance": 2345.56,
                  "SecurityCode": "456",
                  "AccountNumber": "1234567890123456",
                  "label": "CreditCard"
                },
                "color": "#CDDC39",
                "styles": {},
                "label": "CreditCard",
                "scale_factor": 1,
                "type": "#CDDC39",
                "size": [
                  55,
                  55
                ],
                "position": [
                  0,
                  0
                ]
              },
              {
                "id": 14,
                "properties": {
                  "Balance": 4231.12,
                  "AccountNumber": "3456789012345678",
                  "label": "BankAccount"
                },
                "color": "#9E9E9E",
                "styles": {},
                "label": "BankAccount",
                "scale_factor": 1,
                "type": "#9E9E9E",
                "size": [
                  55,
                  55
                ],
                "position": [
                  0,
                  0
                ]
              },
              {
                "id": 15,
                "properties": {
                  "LoanAmount": 12000,
                  "APR": 0.0541,
                  "Balance": 9045.53,
                  "AccountNumber": "4567890123456789-0",
                  "label": "UnsecuredLoan"
                },
                "color": "#9C27B0",
                "styles": {},
                "label": "UnsecuredLoan",
                "scale_factor": 1,
                "type": "#9C27B0",
                "size": [
                  55,
                  55
                ],
                "position": [
                  0,
                  0
                ]
              },
              {
                "id": 6,
                "properties": {
                  "UniqueId": "MattSmith",
                  "FirstName": "Matt",
                  "LastName": "Smith",
                  "label": "AccountHolder"
                },
                "color": "#4CAF50",
                "styles": {},
                "label": "AccountHolder",
                "scale_factor": 1,
                "type": "#4CAF50",
                "size": [
                  55,
                  55
                ],
                "position": [
                  0,
                  0
                ]
              },
              {
                "id": 18,
                "properties": {
                  "PhoneNumber": "555-555-1234",
                  "label": "PhoneNumber"
                },
                "color": "#607D8B",
                "styles": {},
                "label": "PhoneNumber",
                "scale_factor": 1,
                "type": "#607D8B",
                "size": [
                  55,
                  55
                ],
                "position": [
                  0,
                  0
                ]
              },
              {
                "id": 16,
                "properties": {
                  "Balance": 12345.45,
                  "AccountNumber": "4567890123456789",
                  "label": "BankAccount"
                },
                "color": "#9E9E9E",
                "styles": {},
                "label": "BankAccount",
                "scale_factor": 1,
                "type": "#9E9E9E",
                "size": [
                  55,
                  55
                ],
                "position": [
                  0,
                  0
                ]
              },
              {
                "id": 17,
                "properties": {
                  "LoanAmount": 22000,
                  "APR": 0.0341,
                  "Balance": 16341.95,
                  "AccountNumber": "5678901234567890-0",
                  "label": "UnsecuredLoan"
                },
                "color": "#9C27B0",
                "styles": {},
                "label": "UnsecuredLoan",
                "scale_factor": 1,
                "type": "#9C27B0",
                "size": [
                  55,
                  55
                ],
                "position": [
                  0,
                  0
                ]
              }
            ],
            "_overview": {
              "enabled": null,
              "overview_set": false
            },
            "_selected_graph": [
              [],
              []
            ],
            "_sidebar": {
              "enabled": false,
              "start_with": null
            },
            "_view_count": null,
            "_view_module": "yfiles-jupyter-graphs",
            "_view_module_version": "^1.10.6",
            "_view_name": "GraphView",
            "layout": "IPY_MODEL_a9b2d65975484b2e84f24a3a1a9f2473"
          }
        },
        "a9b2d65975484b2e84f24a3a1a9f2473": {
          "model_module": "@jupyter-widgets/base",
          "model_name": "LayoutModel",
          "model_module_version": "1.2.0",
          "state": {
            "_model_module": "@jupyter-widgets/base",
            "_model_module_version": "1.2.0",
            "_model_name": "LayoutModel",
            "_view_count": null,
            "_view_module": "@jupyter-widgets/base",
            "_view_module_version": "1.2.0",
            "_view_name": "LayoutView",
            "align_content": null,
            "align_items": null,
            "align_self": null,
            "border": null,
            "bottom": null,
            "display": null,
            "flex": null,
            "flex_flow": null,
            "grid_area": null,
            "grid_auto_columns": null,
            "grid_auto_flow": null,
            "grid_auto_rows": null,
            "grid_column": null,
            "grid_gap": null,
            "grid_row": null,
            "grid_template_areas": null,
            "grid_template_columns": null,
            "grid_template_rows": null,
            "height": "690px",
            "justify_content": null,
            "justify_items": null,
            "left": null,
            "margin": null,
            "max_height": null,
            "max_width": null,
            "min_height": null,
            "min_width": null,
            "object_fit": null,
            "object_position": null,
            "order": null,
            "overflow": null,
            "overflow_x": null,
            "overflow_y": null,
            "padding": null,
            "right": null,
            "top": null,
            "visibility": null,
            "width": "100%"
          }
        },
        "81dab8743885426ba745e95628f08b59": {
          "model_module": "yfiles-jupyter-graphs",
          "model_name": "GraphModel",
          "model_module_version": "^1.10.6",
          "state": {
            "_context_pane_mapping": [
              {
                "id": "Neighborhood",
                "title": "Neighborhood"
              },
              {
                "id": "Data",
                "title": "Data"
              },
              {
                "id": "Search",
                "title": "Search"
              },
              {
                "id": "About",
                "title": "About"
              }
            ],
            "_data_importer": "neo4j",
            "_directed": true,
            "_dom_classes": [],
            "_edges": [
              {
                "id": 1152925902653358000,
                "start": 4,
                "end": 7,
                "properties": {
                  "label": "HAS_ADDRESS"
                },
                "color": "#673AB7",
                "thickness_factor": 1,
                "directed": true,
                "styles": {},
                "label": "HAS_ADDRESS"
              },
              {
                "id": 1152925902653358000,
                "start": 5,
                "end": 7,
                "properties": {
                  "label": "HAS_ADDRESS"
                },
                "color": "#673AB7",
                "thickness_factor": 1,
                "directed": true,
                "styles": {},
                "label": "HAS_ADDRESS"
              },
              {
                "id": 1152925902653358000,
                "start": 6,
                "end": 7,
                "properties": {
                  "label": "HAS_ADDRESS"
                },
                "color": "#673AB7",
                "thickness_factor": 1,
                "directed": true,
                "styles": {},
                "label": "HAS_ADDRESS"
              },
              {
                "id": 1152927002164985900,
                "start": 4,
                "end": 8,
                "properties": {
                  "label": "HAS_PHONENUMBER"
                },
                "color": "#CDDC39",
                "thickness_factor": 1,
                "directed": true,
                "styles": {},
                "label": "HAS_PHONENUMBER"
              },
              {
                "id": 1152927002164985900,
                "start": 5,
                "end": 8,
                "properties": {
                  "label": "HAS_PHONENUMBER"
                },
                "color": "#CDDC39",
                "thickness_factor": 1,
                "directed": true,
                "styles": {},
                "label": "HAS_PHONENUMBER"
              },
              {
                "id": 1152928101676613600,
                "start": 5,
                "end": 9,
                "properties": {
                  "label": "HAS_SSN"
                },
                "color": "#9E9E9E",
                "thickness_factor": 1,
                "directed": true,
                "styles": {},
                "label": "HAS_SSN"
              },
              {
                "id": 1152928101676613600,
                "start": 6,
                "end": 9,
                "properties": {
                  "label": "HAS_SSN"
                },
                "color": "#9E9E9E",
                "thickness_factor": 1,
                "directed": true,
                "styles": {},
                "label": "HAS_SSN"
              }
            ],
            "_graph_layout": {
              "algorithm": "organic",
              "options": {}
            },
            "_highlight": [],
            "_license": {},
            "_model_module": "yfiles-jupyter-graphs",
            "_model_module_version": "^1.10.6",
            "_model_name": "GraphModel",
            "_neighborhood": {},
            "_nodes": [
              {
                "id": 4,
                "properties": {
                  "UniqueId": "JohnDoe",
                  "FirstName": "John",
                  "LastName": "Doe",
                  "label": "AccountHolder"
                },
                "color": "#2196F3",
                "styles": {},
                "label": "AccountHolder",
                "scale_factor": 1,
                "type": "#2196F3",
                "size": [
                  55,
                  55
                ],
                "position": [
                  0,
                  0
                ]
              },
              {
                "id": 7,
                "properties": {
                  "State": "California",
                  "ZipCode": "94101",
                  "Street": "123 NW 1st Street",
                  "City": "San Francisco",
                  "label": "Address"
                },
                "color": "#4CAF50",
                "styles": {},
                "label": "Address",
                "scale_factor": 1,
                "type": "#4CAF50",
                "size": [
                  55,
                  55
                ],
                "position": [
                  0,
                  0
                ]
              },
              {
                "id": 5,
                "properties": {
                  "UniqueId": "JaneAppleseed",
                  "FirstName": "Jane",
                  "LastName": "Appleseed",
                  "label": "AccountHolder"
                },
                "color": "#2196F3",
                "styles": {},
                "label": "AccountHolder",
                "scale_factor": 1,
                "type": "#2196F3",
                "size": [
                  55,
                  55
                ],
                "position": [
                  0,
                  0
                ]
              },
              {
                "id": 6,
                "properties": {
                  "UniqueId": "MattSmith",
                  "FirstName": "Matt",
                  "LastName": "Smith",
                  "label": "AccountHolder"
                },
                "color": "#2196F3",
                "styles": {},
                "label": "AccountHolder",
                "scale_factor": 1,
                "type": "#2196F3",
                "size": [
                  55,
                  55
                ],
                "position": [
                  0,
                  0
                ]
              },
              {
                "id": 8,
                "properties": {
                  "PhoneNumber": "555-555-5555",
                  "label": "PhoneNumber"
                },
                "color": "#F44336",
                "styles": {},
                "label": "PhoneNumber",
                "scale_factor": 1,
                "type": "#F44336",
                "size": [
                  55,
                  55
                ],
                "position": [
                  0,
                  0
                ]
              },
              {
                "id": 9,
                "properties": {
                  "SSN": "241-23-1234",
                  "label": "SSN"
                },
                "color": "#607D8B",
                "styles": {},
                "label": "SSN",
                "scale_factor": 1,
                "type": "#607D8B",
                "size": [
                  55,
                  55
                ],
                "position": [
                  0,
                  0
                ]
              }
            ],
            "_overview": {
              "enabled": null,
              "overview_set": false
            },
            "_selected_graph": [
              [],
              []
            ],
            "_sidebar": {
              "enabled": false,
              "start_with": null
            },
            "_view_count": null,
            "_view_module": "yfiles-jupyter-graphs",
            "_view_module_version": "^1.10.6",
            "_view_name": "GraphView",
            "layout": "IPY_MODEL_d38de6919b29426d96cd391c42fafcf6"
          }
        },
        "d38de6919b29426d96cd391c42fafcf6": {
          "model_module": "@jupyter-widgets/base",
          "model_name": "LayoutModel",
          "model_module_version": "1.2.0",
          "state": {
            "_model_module": "@jupyter-widgets/base",
            "_model_module_version": "1.2.0",
            "_model_name": "LayoutModel",
            "_view_count": null,
            "_view_module": "@jupyter-widgets/base",
            "_view_module_version": "1.2.0",
            "_view_name": "LayoutView",
            "align_content": null,
            "align_items": null,
            "align_self": null,
            "border": null,
            "bottom": null,
            "display": null,
            "flex": null,
            "flex_flow": null,
            "grid_area": null,
            "grid_auto_columns": null,
            "grid_auto_flow": null,
            "grid_auto_rows": null,
            "grid_column": null,
            "grid_gap": null,
            "grid_row": null,
            "grid_template_areas": null,
            "grid_template_columns": null,
            "grid_template_rows": null,
            "height": "500px",
            "justify_content": null,
            "justify_items": null,
            "left": null,
            "margin": null,
            "max_height": null,
            "max_width": null,
            "min_height": null,
            "min_width": null,
            "object_fit": null,
            "object_position": null,
            "order": null,
            "overflow": null,
            "overflow_x": null,
            "overflow_y": null,
            "padding": null,
            "right": null,
            "top": null,
            "visibility": null,
            "width": "100%"
          }
        }
      }
    }
  },
  "cells": [
    {
      "cell_type": "markdown",
      "source": [
        "This notebook assumes that you have a running instance of Neo4J Aura. You can create a free one by heading over to https://neo4j.com/\n",
        "\n",
        "Once you have your instance, save its id as `neo4j_instance_id` and its password as `neo4j_password` as Colab secrets and grant this notebook access to said secrets."
      ],
      "metadata": {
        "id": "Q1BWbe4U0_8C"
      }
    },
    {
      "cell_type": "code",
      "execution_count": 1,
      "metadata": {
        "id": "JOlp5qcRPTJl",
        "collapsed": true,
        "colab": {
          "base_uri": "https://localhost:8080/"
        },
        "outputId": "e9941da1-7b04-4317-c9b6-628c1fefee3f"
      },
      "outputs": [
        {
          "output_type": "stream",
          "name": "stdout",
          "text": [
            "Collecting neo4j\n",
            "  Downloading neo4j-5.28.1-py3-none-any.whl.metadata (5.9 kB)\n",
            "Collecting yfiles_jupyter_graphs_for_neo4j\n",
            "  Downloading yfiles_jupyter_graphs_for_neo4j-1.7.0-py3-none-any.whl.metadata (18 kB)\n",
            "Requirement already satisfied: pytz in /usr/local/lib/python3.11/dist-packages (from neo4j) (2025.2)\n",
            "Collecting yfiles_jupyter_graphs>=1.10.0 (from yfiles_jupyter_graphs_for_neo4j)\n",
            "  Downloading yfiles_jupyter_graphs-1.10.6-py3-none-any.whl.metadata (21 kB)\n",
            "Requirement already satisfied: ipywidgets>=7.6.0 in /usr/local/lib/python3.11/dist-packages (from yfiles_jupyter_graphs>=1.10.0->yfiles_jupyter_graphs_for_neo4j) (7.7.1)\n",
            "Requirement already satisfied: ipykernel>=4.5.1 in /usr/local/lib/python3.11/dist-packages (from ipywidgets>=7.6.0->yfiles_jupyter_graphs>=1.10.0->yfiles_jupyter_graphs_for_neo4j) (6.17.1)\n",
            "Requirement already satisfied: ipython-genutils~=0.2.0 in /usr/local/lib/python3.11/dist-packages (from ipywidgets>=7.6.0->yfiles_jupyter_graphs>=1.10.0->yfiles_jupyter_graphs_for_neo4j) (0.2.0)\n",
            "Requirement already satisfied: traitlets>=4.3.1 in /usr/local/lib/python3.11/dist-packages (from ipywidgets>=7.6.0->yfiles_jupyter_graphs>=1.10.0->yfiles_jupyter_graphs_for_neo4j) (5.7.1)\n",
            "Requirement already satisfied: widgetsnbextension~=3.6.0 in /usr/local/lib/python3.11/dist-packages (from ipywidgets>=7.6.0->yfiles_jupyter_graphs>=1.10.0->yfiles_jupyter_graphs_for_neo4j) (3.6.10)\n",
            "Requirement already satisfied: ipython>=4.0.0 in /usr/local/lib/python3.11/dist-packages (from ipywidgets>=7.6.0->yfiles_jupyter_graphs>=1.10.0->yfiles_jupyter_graphs_for_neo4j) (7.34.0)\n",
            "Requirement already satisfied: jupyterlab-widgets>=1.0.0 in /usr/local/lib/python3.11/dist-packages (from ipywidgets>=7.6.0->yfiles_jupyter_graphs>=1.10.0->yfiles_jupyter_graphs_for_neo4j) (3.0.15)\n",
            "Requirement already satisfied: debugpy>=1.0 in /usr/local/lib/python3.11/dist-packages (from ipykernel>=4.5.1->ipywidgets>=7.6.0->yfiles_jupyter_graphs>=1.10.0->yfiles_jupyter_graphs_for_neo4j) (1.8.0)\n",
            "Requirement already satisfied: jupyter-client>=6.1.12 in /usr/local/lib/python3.11/dist-packages (from ipykernel>=4.5.1->ipywidgets>=7.6.0->yfiles_jupyter_graphs>=1.10.0->yfiles_jupyter_graphs_for_neo4j) (6.1.12)\n",
            "Requirement already satisfied: matplotlib-inline>=0.1 in /usr/local/lib/python3.11/dist-packages (from ipykernel>=4.5.1->ipywidgets>=7.6.0->yfiles_jupyter_graphs>=1.10.0->yfiles_jupyter_graphs_for_neo4j) (0.1.7)\n",
            "Requirement already satisfied: nest-asyncio in /usr/local/lib/python3.11/dist-packages (from ipykernel>=4.5.1->ipywidgets>=7.6.0->yfiles_jupyter_graphs>=1.10.0->yfiles_jupyter_graphs_for_neo4j) (1.6.0)\n",
            "Requirement already satisfied: packaging in /usr/local/lib/python3.11/dist-packages (from ipykernel>=4.5.1->ipywidgets>=7.6.0->yfiles_jupyter_graphs>=1.10.0->yfiles_jupyter_graphs_for_neo4j) (24.2)\n",
            "Requirement already satisfied: psutil in /usr/local/lib/python3.11/dist-packages (from ipykernel>=4.5.1->ipywidgets>=7.6.0->yfiles_jupyter_graphs>=1.10.0->yfiles_jupyter_graphs_for_neo4j) (5.9.5)\n",
            "Requirement already satisfied: pyzmq>=17 in /usr/local/lib/python3.11/dist-packages (from ipykernel>=4.5.1->ipywidgets>=7.6.0->yfiles_jupyter_graphs>=1.10.0->yfiles_jupyter_graphs_for_neo4j) (24.0.1)\n",
            "Requirement already satisfied: tornado>=6.1 in /usr/local/lib/python3.11/dist-packages (from ipykernel>=4.5.1->ipywidgets>=7.6.0->yfiles_jupyter_graphs>=1.10.0->yfiles_jupyter_graphs_for_neo4j) (6.4.2)\n",
            "Requirement already satisfied: setuptools>=18.5 in /usr/local/lib/python3.11/dist-packages (from ipython>=4.0.0->ipywidgets>=7.6.0->yfiles_jupyter_graphs>=1.10.0->yfiles_jupyter_graphs_for_neo4j) (75.2.0)\n",
            "Collecting jedi>=0.16 (from ipython>=4.0.0->ipywidgets>=7.6.0->yfiles_jupyter_graphs>=1.10.0->yfiles_jupyter_graphs_for_neo4j)\n",
            "  Downloading jedi-0.19.2-py2.py3-none-any.whl.metadata (22 kB)\n",
            "Requirement already satisfied: decorator in /usr/local/lib/python3.11/dist-packages (from ipython>=4.0.0->ipywidgets>=7.6.0->yfiles_jupyter_graphs>=1.10.0->yfiles_jupyter_graphs_for_neo4j) (4.4.2)\n",
            "Requirement already satisfied: pickleshare in /usr/local/lib/python3.11/dist-packages (from ipython>=4.0.0->ipywidgets>=7.6.0->yfiles_jupyter_graphs>=1.10.0->yfiles_jupyter_graphs_for_neo4j) (0.7.5)\n",
            "Requirement already satisfied: prompt-toolkit!=3.0.0,!=3.0.1,<3.1.0,>=2.0.0 in /usr/local/lib/python3.11/dist-packages (from ipython>=4.0.0->ipywidgets>=7.6.0->yfiles_jupyter_graphs>=1.10.0->yfiles_jupyter_graphs_for_neo4j) (3.0.51)\n",
            "Requirement already satisfied: pygments in /usr/local/lib/python3.11/dist-packages (from ipython>=4.0.0->ipywidgets>=7.6.0->yfiles_jupyter_graphs>=1.10.0->yfiles_jupyter_graphs_for_neo4j) (2.19.1)\n",
            "Requirement already satisfied: backcall in /usr/local/lib/python3.11/dist-packages (from ipython>=4.0.0->ipywidgets>=7.6.0->yfiles_jupyter_graphs>=1.10.0->yfiles_jupyter_graphs_for_neo4j) (0.2.0)\n",
            "Requirement already satisfied: pexpect>4.3 in /usr/local/lib/python3.11/dist-packages (from ipython>=4.0.0->ipywidgets>=7.6.0->yfiles_jupyter_graphs>=1.10.0->yfiles_jupyter_graphs_for_neo4j) (4.9.0)\n",
            "Requirement already satisfied: notebook>=4.4.1 in /usr/local/lib/python3.11/dist-packages (from widgetsnbextension~=3.6.0->ipywidgets>=7.6.0->yfiles_jupyter_graphs>=1.10.0->yfiles_jupyter_graphs_for_neo4j) (6.5.7)\n",
            "Requirement already satisfied: parso<0.9.0,>=0.8.4 in /usr/local/lib/python3.11/dist-packages (from jedi>=0.16->ipython>=4.0.0->ipywidgets>=7.6.0->yfiles_jupyter_graphs>=1.10.0->yfiles_jupyter_graphs_for_neo4j) (0.8.4)\n",
            "Requirement already satisfied: jupyter-core>=4.6.0 in /usr/local/lib/python3.11/dist-packages (from jupyter-client>=6.1.12->ipykernel>=4.5.1->ipywidgets>=7.6.0->yfiles_jupyter_graphs>=1.10.0->yfiles_jupyter_graphs_for_neo4j) (5.7.2)\n",
            "Requirement already satisfied: python-dateutil>=2.1 in /usr/local/lib/python3.11/dist-packages (from jupyter-client>=6.1.12->ipykernel>=4.5.1->ipywidgets>=7.6.0->yfiles_jupyter_graphs>=1.10.0->yfiles_jupyter_graphs_for_neo4j) (2.9.0.post0)\n",
            "Requirement already satisfied: jinja2 in /usr/local/lib/python3.11/dist-packages (from notebook>=4.4.1->widgetsnbextension~=3.6.0->ipywidgets>=7.6.0->yfiles_jupyter_graphs>=1.10.0->yfiles_jupyter_graphs_for_neo4j) (3.1.6)\n",
            "Requirement already satisfied: argon2-cffi in /usr/local/lib/python3.11/dist-packages (from notebook>=4.4.1->widgetsnbextension~=3.6.0->ipywidgets>=7.6.0->yfiles_jupyter_graphs>=1.10.0->yfiles_jupyter_graphs_for_neo4j) (23.1.0)\n",
            "Requirement already satisfied: nbformat in /usr/local/lib/python3.11/dist-packages (from notebook>=4.4.1->widgetsnbextension~=3.6.0->ipywidgets>=7.6.0->yfiles_jupyter_graphs>=1.10.0->yfiles_jupyter_graphs_for_neo4j) (5.10.4)\n",
            "Requirement already satisfied: nbconvert>=5 in /usr/local/lib/python3.11/dist-packages (from notebook>=4.4.1->widgetsnbextension~=3.6.0->ipywidgets>=7.6.0->yfiles_jupyter_graphs>=1.10.0->yfiles_jupyter_graphs_for_neo4j) (7.16.6)\n",
            "Requirement already satisfied: Send2Trash>=1.8.0 in /usr/local/lib/python3.11/dist-packages (from notebook>=4.4.1->widgetsnbextension~=3.6.0->ipywidgets>=7.6.0->yfiles_jupyter_graphs>=1.10.0->yfiles_jupyter_graphs_for_neo4j) (1.8.3)\n",
            "Requirement already satisfied: terminado>=0.8.3 in /usr/local/lib/python3.11/dist-packages (from notebook>=4.4.1->widgetsnbextension~=3.6.0->ipywidgets>=7.6.0->yfiles_jupyter_graphs>=1.10.0->yfiles_jupyter_graphs_for_neo4j) (0.18.1)\n",
            "Requirement already satisfied: prometheus-client in /usr/local/lib/python3.11/dist-packages (from notebook>=4.4.1->widgetsnbextension~=3.6.0->ipywidgets>=7.6.0->yfiles_jupyter_graphs>=1.10.0->yfiles_jupyter_graphs_for_neo4j) (0.22.0)\n",
            "Requirement already satisfied: nbclassic>=0.4.7 in /usr/local/lib/python3.11/dist-packages (from notebook>=4.4.1->widgetsnbextension~=3.6.0->ipywidgets>=7.6.0->yfiles_jupyter_graphs>=1.10.0->yfiles_jupyter_graphs_for_neo4j) (1.3.1)\n",
            "Requirement already satisfied: ptyprocess>=0.5 in /usr/local/lib/python3.11/dist-packages (from pexpect>4.3->ipython>=4.0.0->ipywidgets>=7.6.0->yfiles_jupyter_graphs>=1.10.0->yfiles_jupyter_graphs_for_neo4j) (0.7.0)\n",
            "Requirement already satisfied: wcwidth in /usr/local/lib/python3.11/dist-packages (from prompt-toolkit!=3.0.0,!=3.0.1,<3.1.0,>=2.0.0->ipython>=4.0.0->ipywidgets>=7.6.0->yfiles_jupyter_graphs>=1.10.0->yfiles_jupyter_graphs_for_neo4j) (0.2.13)\n",
            "Requirement already satisfied: platformdirs>=2.5 in /usr/local/lib/python3.11/dist-packages (from jupyter-core>=4.6.0->jupyter-client>=6.1.12->ipykernel>=4.5.1->ipywidgets>=7.6.0->yfiles_jupyter_graphs>=1.10.0->yfiles_jupyter_graphs_for_neo4j) (4.3.8)\n",
            "Requirement already satisfied: notebook-shim>=0.2.3 in /usr/local/lib/python3.11/dist-packages (from nbclassic>=0.4.7->notebook>=4.4.1->widgetsnbextension~=3.6.0->ipywidgets>=7.6.0->yfiles_jupyter_graphs>=1.10.0->yfiles_jupyter_graphs_for_neo4j) (0.2.4)\n",
            "Requirement already satisfied: beautifulsoup4 in /usr/local/lib/python3.11/dist-packages (from nbconvert>=5->notebook>=4.4.1->widgetsnbextension~=3.6.0->ipywidgets>=7.6.0->yfiles_jupyter_graphs>=1.10.0->yfiles_jupyter_graphs_for_neo4j) (4.13.4)\n",
            "Requirement already satisfied: bleach!=5.0.0 in /usr/local/lib/python3.11/dist-packages (from bleach[css]!=5.0.0->nbconvert>=5->notebook>=4.4.1->widgetsnbextension~=3.6.0->ipywidgets>=7.6.0->yfiles_jupyter_graphs>=1.10.0->yfiles_jupyter_graphs_for_neo4j) (6.2.0)\n",
            "Requirement already satisfied: defusedxml in /usr/local/lib/python3.11/dist-packages (from nbconvert>=5->notebook>=4.4.1->widgetsnbextension~=3.6.0->ipywidgets>=7.6.0->yfiles_jupyter_graphs>=1.10.0->yfiles_jupyter_graphs_for_neo4j) (0.7.1)\n",
            "Requirement already satisfied: jupyterlab-pygments in /usr/local/lib/python3.11/dist-packages (from nbconvert>=5->notebook>=4.4.1->widgetsnbextension~=3.6.0->ipywidgets>=7.6.0->yfiles_jupyter_graphs>=1.10.0->yfiles_jupyter_graphs_for_neo4j) (0.3.0)\n",
            "Requirement already satisfied: markupsafe>=2.0 in /usr/local/lib/python3.11/dist-packages (from nbconvert>=5->notebook>=4.4.1->widgetsnbextension~=3.6.0->ipywidgets>=7.6.0->yfiles_jupyter_graphs>=1.10.0->yfiles_jupyter_graphs_for_neo4j) (3.0.2)\n",
            "Requirement already satisfied: mistune<4,>=2.0.3 in /usr/local/lib/python3.11/dist-packages (from nbconvert>=5->notebook>=4.4.1->widgetsnbextension~=3.6.0->ipywidgets>=7.6.0->yfiles_jupyter_graphs>=1.10.0->yfiles_jupyter_graphs_for_neo4j) (3.1.3)\n",
            "Requirement already satisfied: nbclient>=0.5.0 in /usr/local/lib/python3.11/dist-packages (from nbconvert>=5->notebook>=4.4.1->widgetsnbextension~=3.6.0->ipywidgets>=7.6.0->yfiles_jupyter_graphs>=1.10.0->yfiles_jupyter_graphs_for_neo4j) (0.10.2)\n",
            "Requirement already satisfied: pandocfilters>=1.4.1 in /usr/local/lib/python3.11/dist-packages (from nbconvert>=5->notebook>=4.4.1->widgetsnbextension~=3.6.0->ipywidgets>=7.6.0->yfiles_jupyter_graphs>=1.10.0->yfiles_jupyter_graphs_for_neo4j) (1.5.1)\n",
            "Requirement already satisfied: fastjsonschema>=2.15 in /usr/local/lib/python3.11/dist-packages (from nbformat->notebook>=4.4.1->widgetsnbextension~=3.6.0->ipywidgets>=7.6.0->yfiles_jupyter_graphs>=1.10.0->yfiles_jupyter_graphs_for_neo4j) (2.21.1)\n",
            "Requirement already satisfied: jsonschema>=2.6 in /usr/local/lib/python3.11/dist-packages (from nbformat->notebook>=4.4.1->widgetsnbextension~=3.6.0->ipywidgets>=7.6.0->yfiles_jupyter_graphs>=1.10.0->yfiles_jupyter_graphs_for_neo4j) (4.23.0)\n",
            "Requirement already satisfied: six>=1.5 in /usr/local/lib/python3.11/dist-packages (from python-dateutil>=2.1->jupyter-client>=6.1.12->ipykernel>=4.5.1->ipywidgets>=7.6.0->yfiles_jupyter_graphs>=1.10.0->yfiles_jupyter_graphs_for_neo4j) (1.17.0)\n",
            "Requirement already satisfied: argon2-cffi-bindings in /usr/local/lib/python3.11/dist-packages (from argon2-cffi->notebook>=4.4.1->widgetsnbextension~=3.6.0->ipywidgets>=7.6.0->yfiles_jupyter_graphs>=1.10.0->yfiles_jupyter_graphs_for_neo4j) (21.2.0)\n",
            "Requirement already satisfied: webencodings in /usr/local/lib/python3.11/dist-packages (from bleach!=5.0.0->bleach[css]!=5.0.0->nbconvert>=5->notebook>=4.4.1->widgetsnbextension~=3.6.0->ipywidgets>=7.6.0->yfiles_jupyter_graphs>=1.10.0->yfiles_jupyter_graphs_for_neo4j) (0.5.1)\n",
            "Requirement already satisfied: tinycss2<1.5,>=1.1.0 in /usr/local/lib/python3.11/dist-packages (from bleach[css]!=5.0.0->nbconvert>=5->notebook>=4.4.1->widgetsnbextension~=3.6.0->ipywidgets>=7.6.0->yfiles_jupyter_graphs>=1.10.0->yfiles_jupyter_graphs_for_neo4j) (1.4.0)\n",
            "Requirement already satisfied: attrs>=22.2.0 in /usr/local/lib/python3.11/dist-packages (from jsonschema>=2.6->nbformat->notebook>=4.4.1->widgetsnbextension~=3.6.0->ipywidgets>=7.6.0->yfiles_jupyter_graphs>=1.10.0->yfiles_jupyter_graphs_for_neo4j) (25.3.0)\n",
            "Requirement already satisfied: jsonschema-specifications>=2023.03.6 in /usr/local/lib/python3.11/dist-packages (from jsonschema>=2.6->nbformat->notebook>=4.4.1->widgetsnbextension~=3.6.0->ipywidgets>=7.6.0->yfiles_jupyter_graphs>=1.10.0->yfiles_jupyter_graphs_for_neo4j) (2025.4.1)\n",
            "Requirement already satisfied: referencing>=0.28.4 in /usr/local/lib/python3.11/dist-packages (from jsonschema>=2.6->nbformat->notebook>=4.4.1->widgetsnbextension~=3.6.0->ipywidgets>=7.6.0->yfiles_jupyter_graphs>=1.10.0->yfiles_jupyter_graphs_for_neo4j) (0.36.2)\n",
            "Requirement already satisfied: rpds-py>=0.7.1 in /usr/local/lib/python3.11/dist-packages (from jsonschema>=2.6->nbformat->notebook>=4.4.1->widgetsnbextension~=3.6.0->ipywidgets>=7.6.0->yfiles_jupyter_graphs>=1.10.0->yfiles_jupyter_graphs_for_neo4j) (0.25.1)\n",
            "Requirement already satisfied: jupyter-server<3,>=1.8 in /usr/local/lib/python3.11/dist-packages (from notebook-shim>=0.2.3->nbclassic>=0.4.7->notebook>=4.4.1->widgetsnbextension~=3.6.0->ipywidgets>=7.6.0->yfiles_jupyter_graphs>=1.10.0->yfiles_jupyter_graphs_for_neo4j) (1.16.0)\n",
            "Requirement already satisfied: cffi>=1.0.1 in /usr/local/lib/python3.11/dist-packages (from argon2-cffi-bindings->argon2-cffi->notebook>=4.4.1->widgetsnbextension~=3.6.0->ipywidgets>=7.6.0->yfiles_jupyter_graphs>=1.10.0->yfiles_jupyter_graphs_for_neo4j) (1.17.1)\n",
            "Requirement already satisfied: soupsieve>1.2 in /usr/local/lib/python3.11/dist-packages (from beautifulsoup4->nbconvert>=5->notebook>=4.4.1->widgetsnbextension~=3.6.0->ipywidgets>=7.6.0->yfiles_jupyter_graphs>=1.10.0->yfiles_jupyter_graphs_for_neo4j) (2.7)\n",
            "Requirement already satisfied: typing-extensions>=4.0.0 in /usr/local/lib/python3.11/dist-packages (from beautifulsoup4->nbconvert>=5->notebook>=4.4.1->widgetsnbextension~=3.6.0->ipywidgets>=7.6.0->yfiles_jupyter_graphs>=1.10.0->yfiles_jupyter_graphs_for_neo4j) (4.13.2)\n",
            "Requirement already satisfied: pycparser in /usr/local/lib/python3.11/dist-packages (from cffi>=1.0.1->argon2-cffi-bindings->argon2-cffi->notebook>=4.4.1->widgetsnbextension~=3.6.0->ipywidgets>=7.6.0->yfiles_jupyter_graphs>=1.10.0->yfiles_jupyter_graphs_for_neo4j) (2.22)\n",
            "Requirement already satisfied: anyio>=3.1.0 in /usr/local/lib/python3.11/dist-packages (from jupyter-server<3,>=1.8->notebook-shim>=0.2.3->nbclassic>=0.4.7->notebook>=4.4.1->widgetsnbextension~=3.6.0->ipywidgets>=7.6.0->yfiles_jupyter_graphs>=1.10.0->yfiles_jupyter_graphs_for_neo4j) (4.9.0)\n",
            "Requirement already satisfied: websocket-client in /usr/local/lib/python3.11/dist-packages (from jupyter-server<3,>=1.8->notebook-shim>=0.2.3->nbclassic>=0.4.7->notebook>=4.4.1->widgetsnbextension~=3.6.0->ipywidgets>=7.6.0->yfiles_jupyter_graphs>=1.10.0->yfiles_jupyter_graphs_for_neo4j) (1.8.0)\n",
            "Requirement already satisfied: idna>=2.8 in /usr/local/lib/python3.11/dist-packages (from anyio>=3.1.0->jupyter-server<3,>=1.8->notebook-shim>=0.2.3->nbclassic>=0.4.7->notebook>=4.4.1->widgetsnbextension~=3.6.0->ipywidgets>=7.6.0->yfiles_jupyter_graphs>=1.10.0->yfiles_jupyter_graphs_for_neo4j) (3.10)\n",
            "Requirement already satisfied: sniffio>=1.1 in /usr/local/lib/python3.11/dist-packages (from anyio>=3.1.0->jupyter-server<3,>=1.8->notebook-shim>=0.2.3->nbclassic>=0.4.7->notebook>=4.4.1->widgetsnbextension~=3.6.0->ipywidgets>=7.6.0->yfiles_jupyter_graphs>=1.10.0->yfiles_jupyter_graphs_for_neo4j) (1.3.1)\n",
            "Downloading neo4j-5.28.1-py3-none-any.whl (312 kB)\n",
            "\u001b[2K   \u001b[90m━━━━━━━━━━━━━━━━━━━━━━━━━━━━━━━━━━━━━━━━\u001b[0m \u001b[32m312.3/312.3 kB\u001b[0m \u001b[31m5.3 MB/s\u001b[0m eta \u001b[36m0:00:00\u001b[0m\n",
            "\u001b[?25hDownloading yfiles_jupyter_graphs_for_neo4j-1.7.0-py3-none-any.whl (13 kB)\n",
            "Downloading yfiles_jupyter_graphs-1.10.6-py3-none-any.whl (15.7 MB)\n",
            "\u001b[2K   \u001b[90m━━━━━━━━━━━━━━━━━━━━━━━━━━━━━━━━━━━━━━━━\u001b[0m \u001b[32m15.7/15.7 MB\u001b[0m \u001b[31m25.1 MB/s\u001b[0m eta \u001b[36m0:00:00\u001b[0m\n",
            "\u001b[?25hDownloading jedi-0.19.2-py2.py3-none-any.whl (1.6 MB)\n",
            "\u001b[2K   \u001b[90m━━━━━━━━━━━━━━━━━━━━━━━━━━━━━━━━━━━━━━━━\u001b[0m \u001b[32m1.6/1.6 MB\u001b[0m \u001b[31m44.3 MB/s\u001b[0m eta \u001b[36m0:00:00\u001b[0m\n",
            "\u001b[?25hInstalling collected packages: neo4j, jedi, yfiles_jupyter_graphs, yfiles_jupyter_graphs_for_neo4j\n",
            "Successfully installed jedi-0.19.2 neo4j-5.28.1 yfiles_jupyter_graphs-1.10.6 yfiles_jupyter_graphs_for_neo4j-1.7.0\n"
          ]
        }
      ],
      "source": [
        "!pip install neo4j yfiles_jupyter_graphs_for_neo4j"
      ]
    },
    {
      "cell_type": "code",
      "source": [
        "from neo4j import GraphDatabase"
      ],
      "metadata": {
        "id": "GYFqJsMZPWe0"
      },
      "execution_count": 2,
      "outputs": []
    },
    {
      "cell_type": "code",
      "source": [
        "from google.colab import userdata\n",
        "neo4j_instance_id = userdata.get('neo4j_instance_id')\n",
        "neo4j_password = userdata.get('neo4j_password')\n",
        "\n",
        "driver = GraphDatabase.driver(f\"neo4j+s://{neo4j_instance_id}.databases.neo4j.io:7687\", auth=(\"neo4j\", neo4j_password))"
      ],
      "metadata": {
        "id": "O0pOvkGHPZc7"
      },
      "execution_count": 4,
      "outputs": []
    },
    {
      "cell_type": "code",
      "source": [
        "def insert_data(tx):\n",
        "    query = \"\"\"\n",
        "    // Create account holders\n",
        "    CREATE (accountHolder1:AccountHolder {\n",
        "            FirstName: \"John\",\n",
        "            LastName: \"Doe\",\n",
        "            UniqueId: \"JohnDoe\" })\n",
        "\n",
        "    CREATE (accountHolder2:AccountHolder {\n",
        "            FirstName: \"Jane\",\n",
        "            LastName: \"Appleseed\",\n",
        "            UniqueId: \"JaneAppleseed\" })\n",
        "\n",
        "    CREATE (accountHolder3:AccountHolder {\n",
        "            FirstName: \"Matt\",\n",
        "            LastName: \"Smith\",\n",
        "            UniqueId: \"MattSmith\" })\n",
        "\n",
        "    // Create Address\n",
        "    CREATE (address1:Address {\n",
        "            Street: \"123 NW 1st Street\",\n",
        "            City: \"San Francisco\",\n",
        "            State: \"California\",\n",
        "            ZipCode: \"94101\" })\n",
        "\n",
        "    // Connect 3 account holders to 1 address\n",
        "    CREATE (accountHolder1)-[:HAS_ADDRESS]->(address1),\n",
        "           (accountHolder2)-[:HAS_ADDRESS]->(address1),\n",
        "           (accountHolder3)-[:HAS_ADDRESS]->(address1)\n",
        "\n",
        "    // Create Phone Number\n",
        "    CREATE (phoneNumber1:PhoneNumber { PhoneNumber: \"555-555-5555\" })\n",
        "\n",
        "    // Connect 2 account holders to 1 phone number\n",
        "    CREATE (accountHolder1)-[:HAS_PHONENUMBER]->(phoneNumber1),\n",
        "           (accountHolder2)-[:HAS_PHONENUMBER]->(phoneNumber1)\n",
        "\n",
        "    // Create SSN\n",
        "    CREATE (ssn1:SSN { SSN: \"241-23-1234\" })\n",
        "\n",
        "    // Connect 2 account holders to 1 SSN\n",
        "    CREATE (accountHolder2)-[:HAS_SSN]->(ssn1),\n",
        "           (accountHolder3)-[:HAS_SSN]->(ssn1)\n",
        "\n",
        "    // Create SSN and connect 1 account holder\n",
        "    CREATE (ssn2:SSN { SSN: \"241-23-4567\" })<-[:HAS_SSN]-(accountHolder1)\n",
        "\n",
        "    // Create Credit Card and connect 1 account holder\n",
        "    CREATE (creditCard1:CreditCard {\n",
        "            AccountNumber: \"1234567890123456\",\n",
        "            Limit: 5000, Balance: 1442.23,\n",
        "            ExpirationDate: \"01-20\",\n",
        "            SecurityCode: \"123\" })<-[:HAS_CREDITCARD]-(accountHolder1)\n",
        "\n",
        "    // Create Bank Account and connect 1 account holder\n",
        "    CREATE (bankAccount1:BankAccount {\n",
        "            AccountNumber: \"2345678901234567\",\n",
        "            Balance: 7054.43 })<-[:HAS_BANKACCOUNT]-(accountHolder1)\n",
        "\n",
        "    // Create Credit Card and connect 1 account holder\n",
        "    CREATE (creditCard2:CreditCard {\n",
        "            AccountNumber: \"1234567890123456\",\n",
        "            Limit: 4000, Balance: 2345.56,\n",
        "            ExpirationDate: \"02-20\",\n",
        "            SecurityCode: \"456\" })<-[:HAS_CREDITCARD]-(accountHolder2)\n",
        "\n",
        "    // Create Bank Account and connect 1 account holder\n",
        "    CREATE (bankAccount2:BankAccount {\n",
        "            AccountNumber: \"3456789012345678\",\n",
        "            Balance: 4231.12 })<-[:HAS_BANKACCOUNT]-(accountHolder2)\n",
        "\n",
        "    // Create Unsecured Loan and connect 1 account holder\n",
        "    CREATE (unsecuredLoan2:UnsecuredLoan {\n",
        "            AccountNumber: \"4567890123456789-0\",\n",
        "            Balance: 9045.53,\n",
        "            APR: .0541,\n",
        "            LoanAmount: 12000.00 })<-[:HAS_UNSECUREDLOAN]-(accountHolder2)\n",
        "\n",
        "    // Create Bank Account and connect 1 account holder\n",
        "    CREATE (bankAccount3:BankAccount {\n",
        "            AccountNumber: \"4567890123456789\",\n",
        "            Balance: 12345.45 })<-[:HAS_BANKACCOUNT]-(accountHolder3)\n",
        "\n",
        "    // Create Unsecured Loan and connect 1 account holder\n",
        "    CREATE (unsecuredLoan3:UnsecuredLoan {\n",
        "            AccountNumber: \"5678901234567890-0\",\n",
        "            Balance: 16341.95, APR: .0341,\n",
        "            LoanAmount: 22000.00 })<-[:HAS_UNSECUREDLOAN]-(accountHolder3)\n",
        "\n",
        "    // Create Phone Number and connect 1 account holder\n",
        "    CREATE (phoneNumber2:PhoneNumber {\n",
        "            PhoneNumber: \"555-555-1234\" })<-[:HAS_PHONENUMBER]-(accountHolder3)\n",
        "\n",
        "    RETURN *\n",
        "    \"\"\"\n",
        "    tx.run(query)\n",
        "\n",
        "# Run the query\n",
        "with driver.session() as session:\n",
        "    session.execute_write(insert_data)"
      ],
      "metadata": {
        "id": "8jtAghWCPq8Q"
      },
      "execution_count": 5,
      "outputs": []
    },
    {
      "cell_type": "code",
      "source": [
        "from yfiles_jupyter_graphs_for_neo4j import Neo4jGraphWidget\n",
        "\n",
        "g = Neo4jGraphWidget(driver)\n",
        "\n",
        "def show_graph(driver):\n",
        "    query = \"\"\"\n",
        "    MATCH (n)-[r]->(m)\n",
        "    RETURN n, r, m\n",
        "    \"\"\"\n",
        "    g.show_cypher(query)\n",
        "\n",
        "show_graph(driver)\n"
      ],
      "metadata": {
        "colab": {
          "base_uri": "https://localhost:8080/",
          "height": 707,
          "referenced_widgets": [
            "18767b7401864c8198ee822bac7c9bac",
            "a9b2d65975484b2e84f24a3a1a9f2473"
          ]
        },
        "id": "B2J5dLjHRS9A",
        "outputId": "32595a38-f610-4c3b-808c-968132e37a9b"
      },
      "execution_count": 8,
      "outputs": [
        {
          "output_type": "display_data",
          "data": {
            "text/plain": [
              "GraphWidget(layout=Layout(height='690px', width='100%'))"
            ],
            "application/vnd.jupyter.widget-view+json": {
              "version_major": 2,
              "version_minor": 0,
              "model_id": "18767b7401864c8198ee822bac7c9bac"
            }
          },
          "metadata": {
            "application/vnd.jupyter.widget-view+json": {
              "colab": {
                "custom_widget_manager": {
                  "url": "https://ssl.gstatic.com/colaboratory-static/widgets/colab-cdn-widget-manager/2b70e893a8ba7c0f/manager.min.js"
                }
              }
            }
          }
        }
      ]
    },
    {
      "cell_type": "code",
      "source": [
        "def show_fraud_ring(driver):\n",
        "    query = \"\"\"\n",
        "      MATCH (accountHolder:AccountHolder)-[r]->(contactInformation)\n",
        "      WITH contactInformation, count(accountHolder) AS RingSize, collect(r) AS relationships\n",
        "      WHERE RingSize > 1\n",
        "      MATCH (contactInformation)<-[r2]-(accountHolder)\n",
        "      RETURN accountHolder, contactInformation, r2, relationships\n",
        "    \"\"\"\n",
        "    g.show_cypher(query)\n",
        "\n",
        "show_fraud_ring(driver)"
      ],
      "metadata": {
        "colab": {
          "base_uri": "https://localhost:8080/",
          "height": 517,
          "referenced_widgets": [
            "81dab8743885426ba745e95628f08b59",
            "d38de6919b29426d96cd391c42fafcf6"
          ]
        },
        "id": "c63wg1QuTrZD",
        "outputId": "6491b78a-cdf6-41ba-a8d6-b9f8fde5bd28"
      },
      "execution_count": 9,
      "outputs": [
        {
          "output_type": "display_data",
          "data": {
            "text/plain": [
              "GraphWidget(layout=Layout(height='500px', width='100%'))"
            ],
            "application/vnd.jupyter.widget-view+json": {
              "version_major": 2,
              "version_minor": 0,
              "model_id": "81dab8743885426ba745e95628f08b59"
            }
          },
          "metadata": {
            "application/vnd.jupyter.widget-view+json": {
              "colab": {
                "custom_widget_manager": {
                  "url": "https://ssl.gstatic.com/colaboratory-static/widgets/colab-cdn-widget-manager/2b70e893a8ba7c0f/manager.min.js"
                }
              }
            }
          }
        }
      ]
    },
    {
      "cell_type": "code",
      "source": [
        "import pandas as pd\n",
        "\n",
        "def show_financial_risk(driver):\n",
        "    query = \"\"\"\n",
        "      MATCH \t\t(accountHolder:AccountHolder)-[]->(contactInformation)\n",
        "      WITH \t\tcontactInformation,\n",
        "            count(accountHolder) AS RingSize\n",
        "      MATCH \t\t(contactInformation)<-[]-(accountHolder),\n",
        "            (accountHolder)-[r:HAS_CREDITCARD|HAS_UNSECUREDLOAN]->(unsecuredAccount)\n",
        "      WITH \t\tcollect(DISTINCT accountHolder.UniqueId) AS AccountHolders,\n",
        "            contactInformation, RingSize,\n",
        "            SUM(CASE type(r)\n",
        "              WHEN 'HAS_CREDITCARD' THEN unsecuredAccount.Limit\n",
        "              WHEN 'HAS_UNSECUREDLOAN' THEN unsecuredAccount.Balance\n",
        "              ELSE 0\n",
        "            END) as FinancialRisk\n",
        "      WHERE \t\tRingSize > 1\n",
        "      RETURN \t\tAccountHolders AS FraudRing,\n",
        "            labels(contactInformation) AS ContactType,\n",
        "            RingSize,\n",
        "            round(FinancialRisk) as FinancialRisk\n",
        "      ORDER BY \tFinancialRisk DESC\n",
        "    \"\"\"\n",
        "    with driver.session() as session:\n",
        "        result = session.run(query)\n",
        "        return [record.data() for record in result]\n",
        "\n",
        "results = show_financial_risk(driver)\n",
        "pd.DataFrame(results)"
      ],
      "metadata": {
        "colab": {
          "base_uri": "https://localhost:8080/",
          "height": 143
        },
        "id": "bUtQ7csFVZNZ",
        "outputId": "90f77f99-4e83-4cc5-961d-c47cdbcb800e"
      },
      "execution_count": 10,
      "outputs": [
        {
          "output_type": "execute_result",
          "data": {
            "text/plain": [
              "                             FraudRing    ContactType  RingSize  FinancialRisk\n",
              "0  [JohnDoe, JaneAppleseed, MattSmith]      [Address]         3        34387.0\n",
              "1           [JaneAppleseed, MattSmith]          [SSN]         2        29387.0\n",
              "2             [JohnDoe, JaneAppleseed]  [PhoneNumber]         2        18046.0"
            ],
            "text/html": [
              "\n",
              "  <div id=\"df-dffedd6b-83a0-4904-beac-c9f60a1f65a4\" class=\"colab-df-container\">\n",
              "    <div>\n",
              "<style scoped>\n",
              "    .dataframe tbody tr th:only-of-type {\n",
              "        vertical-align: middle;\n",
              "    }\n",
              "\n",
              "    .dataframe tbody tr th {\n",
              "        vertical-align: top;\n",
              "    }\n",
              "\n",
              "    .dataframe thead th {\n",
              "        text-align: right;\n",
              "    }\n",
              "</style>\n",
              "<table border=\"1\" class=\"dataframe\">\n",
              "  <thead>\n",
              "    <tr style=\"text-align: right;\">\n",
              "      <th></th>\n",
              "      <th>FraudRing</th>\n",
              "      <th>ContactType</th>\n",
              "      <th>RingSize</th>\n",
              "      <th>FinancialRisk</th>\n",
              "    </tr>\n",
              "  </thead>\n",
              "  <tbody>\n",
              "    <tr>\n",
              "      <th>0</th>\n",
              "      <td>[JohnDoe, JaneAppleseed, MattSmith]</td>\n",
              "      <td>[Address]</td>\n",
              "      <td>3</td>\n",
              "      <td>34387.0</td>\n",
              "    </tr>\n",
              "    <tr>\n",
              "      <th>1</th>\n",
              "      <td>[JaneAppleseed, MattSmith]</td>\n",
              "      <td>[SSN]</td>\n",
              "      <td>2</td>\n",
              "      <td>29387.0</td>\n",
              "    </tr>\n",
              "    <tr>\n",
              "      <th>2</th>\n",
              "      <td>[JohnDoe, JaneAppleseed]</td>\n",
              "      <td>[PhoneNumber]</td>\n",
              "      <td>2</td>\n",
              "      <td>18046.0</td>\n",
              "    </tr>\n",
              "  </tbody>\n",
              "</table>\n",
              "</div>\n",
              "    <div class=\"colab-df-buttons\">\n",
              "\n",
              "  <div class=\"colab-df-container\">\n",
              "    <button class=\"colab-df-convert\" onclick=\"convertToInteractive('df-dffedd6b-83a0-4904-beac-c9f60a1f65a4')\"\n",
              "            title=\"Convert this dataframe to an interactive table.\"\n",
              "            style=\"display:none;\">\n",
              "\n",
              "  <svg xmlns=\"http://www.w3.org/2000/svg\" height=\"24px\" viewBox=\"0 -960 960 960\">\n",
              "    <path d=\"M120-120v-720h720v720H120Zm60-500h600v-160H180v160Zm220 220h160v-160H400v160Zm0 220h160v-160H400v160ZM180-400h160v-160H180v160Zm440 0h160v-160H620v160ZM180-180h160v-160H180v160Zm440 0h160v-160H620v160Z\"/>\n",
              "  </svg>\n",
              "    </button>\n",
              "\n",
              "  <style>\n",
              "    .colab-df-container {\n",
              "      display:flex;\n",
              "      gap: 12px;\n",
              "    }\n",
              "\n",
              "    .colab-df-convert {\n",
              "      background-color: #E8F0FE;\n",
              "      border: none;\n",
              "      border-radius: 50%;\n",
              "      cursor: pointer;\n",
              "      display: none;\n",
              "      fill: #1967D2;\n",
              "      height: 32px;\n",
              "      padding: 0 0 0 0;\n",
              "      width: 32px;\n",
              "    }\n",
              "\n",
              "    .colab-df-convert:hover {\n",
              "      background-color: #E2EBFA;\n",
              "      box-shadow: 0px 1px 2px rgba(60, 64, 67, 0.3), 0px 1px 3px 1px rgba(60, 64, 67, 0.15);\n",
              "      fill: #174EA6;\n",
              "    }\n",
              "\n",
              "    .colab-df-buttons div {\n",
              "      margin-bottom: 4px;\n",
              "    }\n",
              "\n",
              "    [theme=dark] .colab-df-convert {\n",
              "      background-color: #3B4455;\n",
              "      fill: #D2E3FC;\n",
              "    }\n",
              "\n",
              "    [theme=dark] .colab-df-convert:hover {\n",
              "      background-color: #434B5C;\n",
              "      box-shadow: 0px 1px 3px 1px rgba(0, 0, 0, 0.15);\n",
              "      filter: drop-shadow(0px 1px 2px rgba(0, 0, 0, 0.3));\n",
              "      fill: #FFFFFF;\n",
              "    }\n",
              "  </style>\n",
              "\n",
              "    <script>\n",
              "      const buttonEl =\n",
              "        document.querySelector('#df-dffedd6b-83a0-4904-beac-c9f60a1f65a4 button.colab-df-convert');\n",
              "      buttonEl.style.display =\n",
              "        google.colab.kernel.accessAllowed ? 'block' : 'none';\n",
              "\n",
              "      async function convertToInteractive(key) {\n",
              "        const element = document.querySelector('#df-dffedd6b-83a0-4904-beac-c9f60a1f65a4');\n",
              "        const dataTable =\n",
              "          await google.colab.kernel.invokeFunction('convertToInteractive',\n",
              "                                                    [key], {});\n",
              "        if (!dataTable) return;\n",
              "\n",
              "        const docLinkHtml = 'Like what you see? Visit the ' +\n",
              "          '<a target=\"_blank\" href=https://colab.research.google.com/notebooks/data_table.ipynb>data table notebook</a>'\n",
              "          + ' to learn more about interactive tables.';\n",
              "        element.innerHTML = '';\n",
              "        dataTable['output_type'] = 'display_data';\n",
              "        await google.colab.output.renderOutput(dataTable, element);\n",
              "        const docLink = document.createElement('div');\n",
              "        docLink.innerHTML = docLinkHtml;\n",
              "        element.appendChild(docLink);\n",
              "      }\n",
              "    </script>\n",
              "  </div>\n",
              "\n",
              "\n",
              "    <div id=\"df-8d1c1318-3c0f-4add-a9e9-00dee9ed1827\">\n",
              "      <button class=\"colab-df-quickchart\" onclick=\"quickchart('df-8d1c1318-3c0f-4add-a9e9-00dee9ed1827')\"\n",
              "                title=\"Suggest charts\"\n",
              "                style=\"display:none;\">\n",
              "\n",
              "<svg xmlns=\"http://www.w3.org/2000/svg\" height=\"24px\"viewBox=\"0 0 24 24\"\n",
              "     width=\"24px\">\n",
              "    <g>\n",
              "        <path d=\"M19 3H5c-1.1 0-2 .9-2 2v14c0 1.1.9 2 2 2h14c1.1 0 2-.9 2-2V5c0-1.1-.9-2-2-2zM9 17H7v-7h2v7zm4 0h-2V7h2v10zm4 0h-2v-4h2v4z\"/>\n",
              "    </g>\n",
              "</svg>\n",
              "      </button>\n",
              "\n",
              "<style>\n",
              "  .colab-df-quickchart {\n",
              "      --bg-color: #E8F0FE;\n",
              "      --fill-color: #1967D2;\n",
              "      --hover-bg-color: #E2EBFA;\n",
              "      --hover-fill-color: #174EA6;\n",
              "      --disabled-fill-color: #AAA;\n",
              "      --disabled-bg-color: #DDD;\n",
              "  }\n",
              "\n",
              "  [theme=dark] .colab-df-quickchart {\n",
              "      --bg-color: #3B4455;\n",
              "      --fill-color: #D2E3FC;\n",
              "      --hover-bg-color: #434B5C;\n",
              "      --hover-fill-color: #FFFFFF;\n",
              "      --disabled-bg-color: #3B4455;\n",
              "      --disabled-fill-color: #666;\n",
              "  }\n",
              "\n",
              "  .colab-df-quickchart {\n",
              "    background-color: var(--bg-color);\n",
              "    border: none;\n",
              "    border-radius: 50%;\n",
              "    cursor: pointer;\n",
              "    display: none;\n",
              "    fill: var(--fill-color);\n",
              "    height: 32px;\n",
              "    padding: 0;\n",
              "    width: 32px;\n",
              "  }\n",
              "\n",
              "  .colab-df-quickchart:hover {\n",
              "    background-color: var(--hover-bg-color);\n",
              "    box-shadow: 0 1px 2px rgba(60, 64, 67, 0.3), 0 1px 3px 1px rgba(60, 64, 67, 0.15);\n",
              "    fill: var(--button-hover-fill-color);\n",
              "  }\n",
              "\n",
              "  .colab-df-quickchart-complete:disabled,\n",
              "  .colab-df-quickchart-complete:disabled:hover {\n",
              "    background-color: var(--disabled-bg-color);\n",
              "    fill: var(--disabled-fill-color);\n",
              "    box-shadow: none;\n",
              "  }\n",
              "\n",
              "  .colab-df-spinner {\n",
              "    border: 2px solid var(--fill-color);\n",
              "    border-color: transparent;\n",
              "    border-bottom-color: var(--fill-color);\n",
              "    animation:\n",
              "      spin 1s steps(1) infinite;\n",
              "  }\n",
              "\n",
              "  @keyframes spin {\n",
              "    0% {\n",
              "      border-color: transparent;\n",
              "      border-bottom-color: var(--fill-color);\n",
              "      border-left-color: var(--fill-color);\n",
              "    }\n",
              "    20% {\n",
              "      border-color: transparent;\n",
              "      border-left-color: var(--fill-color);\n",
              "      border-top-color: var(--fill-color);\n",
              "    }\n",
              "    30% {\n",
              "      border-color: transparent;\n",
              "      border-left-color: var(--fill-color);\n",
              "      border-top-color: var(--fill-color);\n",
              "      border-right-color: var(--fill-color);\n",
              "    }\n",
              "    40% {\n",
              "      border-color: transparent;\n",
              "      border-right-color: var(--fill-color);\n",
              "      border-top-color: var(--fill-color);\n",
              "    }\n",
              "    60% {\n",
              "      border-color: transparent;\n",
              "      border-right-color: var(--fill-color);\n",
              "    }\n",
              "    80% {\n",
              "      border-color: transparent;\n",
              "      border-right-color: var(--fill-color);\n",
              "      border-bottom-color: var(--fill-color);\n",
              "    }\n",
              "    90% {\n",
              "      border-color: transparent;\n",
              "      border-bottom-color: var(--fill-color);\n",
              "    }\n",
              "  }\n",
              "</style>\n",
              "\n",
              "      <script>\n",
              "        async function quickchart(key) {\n",
              "          const quickchartButtonEl =\n",
              "            document.querySelector('#' + key + ' button');\n",
              "          quickchartButtonEl.disabled = true;  // To prevent multiple clicks.\n",
              "          quickchartButtonEl.classList.add('colab-df-spinner');\n",
              "          try {\n",
              "            const charts = await google.colab.kernel.invokeFunction(\n",
              "                'suggestCharts', [key], {});\n",
              "          } catch (error) {\n",
              "            console.error('Error during call to suggestCharts:', error);\n",
              "          }\n",
              "          quickchartButtonEl.classList.remove('colab-df-spinner');\n",
              "          quickchartButtonEl.classList.add('colab-df-quickchart-complete');\n",
              "        }\n",
              "        (() => {\n",
              "          let quickchartButtonEl =\n",
              "            document.querySelector('#df-8d1c1318-3c0f-4add-a9e9-00dee9ed1827 button');\n",
              "          quickchartButtonEl.style.display =\n",
              "            google.colab.kernel.accessAllowed ? 'block' : 'none';\n",
              "        })();\n",
              "      </script>\n",
              "    </div>\n",
              "\n",
              "    </div>\n",
              "  </div>\n"
            ],
            "application/vnd.google.colaboratory.intrinsic+json": {
              "type": "dataframe",
              "summary": "{\n  \"name\": \"pd\",\n  \"rows\": 3,\n  \"fields\": [\n    {\n      \"column\": \"FraudRing\",\n      \"properties\": {\n        \"dtype\": \"object\",\n        \"semantic_type\": \"\",\n        \"description\": \"\"\n      }\n    },\n    {\n      \"column\": \"ContactType\",\n      \"properties\": {\n        \"dtype\": \"object\",\n        \"semantic_type\": \"\",\n        \"description\": \"\"\n      }\n    },\n    {\n      \"column\": \"RingSize\",\n      \"properties\": {\n        \"dtype\": \"number\",\n        \"std\": 0,\n        \"min\": 2,\n        \"max\": 3,\n        \"num_unique_values\": 2,\n        \"samples\": [\n          2,\n          3\n        ],\n        \"semantic_type\": \"\",\n        \"description\": \"\"\n      }\n    },\n    {\n      \"column\": \"FinancialRisk\",\n      \"properties\": {\n        \"dtype\": \"number\",\n        \"std\": 8373.037700460529,\n        \"min\": 18046.0,\n        \"max\": 34387.0,\n        \"num_unique_values\": 3,\n        \"samples\": [\n          34387.0,\n          29387.0\n        ],\n        \"semantic_type\": \"\",\n        \"description\": \"\"\n      }\n    }\n  ]\n}"
            }
          },
          "metadata": {},
          "execution_count": 10
        }
      ]
    },
    {
      "cell_type": "code",
      "source": [
        "from google.colab import output\n",
        "output.enable_custom_widget_manager()"
      ],
      "metadata": {
        "id": "KRY-qFHRSlPe"
      },
      "execution_count": 7,
      "outputs": []
    },
    {
      "cell_type": "markdown",
      "source": [
        "Support for third party widgets will remain active for the duration of the session. To disable support:"
      ],
      "metadata": {
        "id": "loV5b7_lSlPm"
      }
    },
    {
      "cell_type": "code",
      "source": [
        "from google.colab import output\n",
        "output.disable_custom_widget_manager()"
      ],
      "metadata": {
        "id": "CW6eYZjySlPn"
      },
      "execution_count": null,
      "outputs": []
    },
    {
      "cell_type": "code",
      "source": [
        "def clear_graph(tx):\n",
        "    query = \"\"\"\n",
        "    MATCH (n)\n",
        "    DETACH DELETE n\n",
        "    \"\"\"\n",
        "    tx.run(query)\n",
        "\n",
        "with driver.session() as session:\n",
        "    session.execute_write(clear_graph)"
      ],
      "metadata": {
        "id": "Ag_6zmh6amUP"
      },
      "execution_count": 11,
      "outputs": []
    }
  ]
}