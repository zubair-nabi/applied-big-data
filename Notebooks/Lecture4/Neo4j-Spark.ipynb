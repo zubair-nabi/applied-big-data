{
  "nbformat": 4,
  "nbformat_minor": 0,
  "metadata": {
    "colab": {
      "provenance": []
    },
    "kernelspec": {
      "name": "python3",
      "display_name": "Python 3"
    },
    "language_info": {
      "name": "python"
    }
  },
  "cells": [
    {
      "cell_type": "markdown",
      "source": [
        "This notebook assumes that you have a running instance of Neo4J Aura. You can create a free one by heading over to https://neo4j.com/\n",
        "\n",
        "Once you have your instance, save its id as `neo4j_instance_id` and its password as `neo4j_password` as Colab secrets and grant this notebook access to said secrets."
      ],
      "metadata": {
        "id": "bhgnzTwd1vOD"
      }
    },
    {
      "cell_type": "code",
      "source": [
        "!pip install neo4j"
      ],
      "metadata": {
        "id": "X0JIzdt-2brb",
        "outputId": "b0b4eca4-59d0-4540-ecfb-8188be395ab3",
        "colab": {
          "base_uri": "https://localhost:8080/"
        }
      },
      "execution_count": 1,
      "outputs": [
        {
          "output_type": "stream",
          "name": "stdout",
          "text": [
            "Collecting neo4j\n",
            "  Downloading neo4j-5.28.1-py3-none-any.whl.metadata (5.9 kB)\n",
            "Requirement already satisfied: pytz in /usr/local/lib/python3.11/dist-packages (from neo4j) (2025.2)\n",
            "Downloading neo4j-5.28.1-py3-none-any.whl (312 kB)\n",
            "\u001b[2K   \u001b[90m━━━━━━━━━━━━━━━━━━━━━━━━━━━━━━━━━━━━━━━━\u001b[0m \u001b[32m312.3/312.3 kB\u001b[0m \u001b[31m3.1 MB/s\u001b[0m eta \u001b[36m0:00:00\u001b[0m\n",
            "\u001b[?25hInstalling collected packages: neo4j\n",
            "Successfully installed neo4j-5.28.1\n"
          ]
        }
      ]
    },
    {
      "cell_type": "code",
      "source": [
        "from neo4j import GraphDatabase\n",
        "from google.colab import userdata\n",
        "neo4j_instance_id = userdata.get('neo4j_instance_id')\n",
        "neo4j_password = userdata.get('neo4j_password')\n",
        "\n",
        "url = f\"neo4j+s://{neo4j_instance_id}.databases.neo4j.io:7687\"\n",
        "username = \"neo4j\"\n",
        "\n",
        "driver = GraphDatabase.driver(url, auth=(username, neo4j_password))"
      ],
      "metadata": {
        "id": "Vq9osMt92V3q"
      },
      "execution_count": 2,
      "outputs": []
    },
    {
      "cell_type": "code",
      "source": [
        "def insert_data(tx):\n",
        "    query = \"\"\"\n",
        "    // Create account holders\n",
        "    CREATE (accountHolder1:AccountHolder {\n",
        "            FirstName: \"John\",\n",
        "            LastName: \"Doe\",\n",
        "            UniqueId: \"JohnDoe\" })\n",
        "\n",
        "    CREATE (accountHolder2:AccountHolder {\n",
        "            FirstName: \"Jane\",\n",
        "            LastName: \"Appleseed\",\n",
        "            UniqueId: \"JaneAppleseed\" })\n",
        "\n",
        "    CREATE (accountHolder3:AccountHolder {\n",
        "            FirstName: \"Matt\",\n",
        "            LastName: \"Smith\",\n",
        "            UniqueId: \"MattSmith\" })\n",
        "\n",
        "    // Create Address\n",
        "    CREATE (address1:Address {\n",
        "            Street: \"123 NW 1st Street\",\n",
        "            City: \"San Francisco\",\n",
        "            State: \"California\",\n",
        "            ZipCode: \"94101\" })\n",
        "\n",
        "    // Connect 3 account holders to 1 address\n",
        "    CREATE (accountHolder1)-[:HAS_ADDRESS]->(address1),\n",
        "           (accountHolder2)-[:HAS_ADDRESS]->(address1),\n",
        "           (accountHolder3)-[:HAS_ADDRESS]->(address1)\n",
        "\n",
        "    // Create Phone Number\n",
        "    CREATE (phoneNumber1:PhoneNumber { PhoneNumber: \"555-555-5555\" })\n",
        "\n",
        "    // Connect 2 account holders to 1 phone number\n",
        "    CREATE (accountHolder1)-[:HAS_PHONENUMBER]->(phoneNumber1),\n",
        "           (accountHolder2)-[:HAS_PHONENUMBER]->(phoneNumber1)\n",
        "\n",
        "    // Create SSN\n",
        "    CREATE (ssn1:SSN { SSN: \"241-23-1234\" })\n",
        "\n",
        "    // Connect 2 account holders to 1 SSN\n",
        "    CREATE (accountHolder2)-[:HAS_SSN]->(ssn1),\n",
        "           (accountHolder3)-[:HAS_SSN]->(ssn1)\n",
        "\n",
        "    // Create SSN and connect 1 account holder\n",
        "    CREATE (ssn2:SSN { SSN: \"241-23-4567\" })<-[:HAS_SSN]-(accountHolder1)\n",
        "\n",
        "    // Create Credit Card and connect 1 account holder\n",
        "    CREATE (creditCard1:CreditCard {\n",
        "            AccountNumber: \"1234567890123456\",\n",
        "            Limit: 5000, Balance: 1442.23,\n",
        "            ExpirationDate: \"01-20\",\n",
        "            SecurityCode: \"123\" })<-[:HAS_CREDITCARD]-(accountHolder1)\n",
        "\n",
        "    // Create Bank Account and connect 1 account holder\n",
        "    CREATE (bankAccount1:BankAccount {\n",
        "            AccountNumber: \"2345678901234567\",\n",
        "            Balance: 7054.43 })<-[:HAS_BANKACCOUNT]-(accountHolder1)\n",
        "\n",
        "    // Create Credit Card and connect 1 account holder\n",
        "    CREATE (creditCard2:CreditCard {\n",
        "            AccountNumber: \"1234567890123456\",\n",
        "            Limit: 4000, Balance: 2345.56,\n",
        "            ExpirationDate: \"02-20\",\n",
        "            SecurityCode: \"456\" })<-[:HAS_CREDITCARD]-(accountHolder2)\n",
        "\n",
        "    // Create Bank Account and connect 1 account holder\n",
        "    CREATE (bankAccount2:BankAccount {\n",
        "            AccountNumber: \"3456789012345678\",\n",
        "            Balance: 4231.12 })<-[:HAS_BANKACCOUNT]-(accountHolder2)\n",
        "\n",
        "    // Create Unsecured Loan and connect 1 account holder\n",
        "    CREATE (unsecuredLoan2:UnsecuredLoan {\n",
        "            AccountNumber: \"4567890123456789-0\",\n",
        "            Balance: 9045.53,\n",
        "            APR: .0541,\n",
        "            LoanAmount: 12000.00 })<-[:HAS_UNSECUREDLOAN]-(accountHolder2)\n",
        "\n",
        "    // Create Bank Account and connect 1 account holder\n",
        "    CREATE (bankAccount3:BankAccount {\n",
        "            AccountNumber: \"4567890123456789\",\n",
        "            Balance: 12345.45 })<-[:HAS_BANKACCOUNT]-(accountHolder3)\n",
        "\n",
        "    // Create Unsecured Loan and connect 1 account holder\n",
        "    CREATE (unsecuredLoan3:UnsecuredLoan {\n",
        "            AccountNumber: \"5678901234567890-0\",\n",
        "            Balance: 16341.95, APR: .0341,\n",
        "            LoanAmount: 22000.00 })<-[:HAS_UNSECUREDLOAN]-(accountHolder3)\n",
        "\n",
        "    // Create Phone Number and connect 1 account holder\n",
        "    CREATE (phoneNumber2:PhoneNumber {\n",
        "            PhoneNumber: \"555-555-1234\" })<-[:HAS_PHONENUMBER]-(accountHolder3)\n",
        "\n",
        "    RETURN *\n",
        "    \"\"\"\n",
        "    tx.run(query)\n",
        "\n",
        "# Run the query\n",
        "with driver.session() as session:\n",
        "    session.execute_write(insert_data)"
      ],
      "metadata": {
        "id": "P-IDe43H2PjS"
      },
      "execution_count": 3,
      "outputs": []
    },
    {
      "cell_type": "code",
      "execution_count": 4,
      "metadata": {
        "id": "OIiXILujOSMi"
      },
      "outputs": [],
      "source": [
        "from pyspark.sql import SparkSession\n",
        "\n",
        "spark = (\n",
        "    SparkSession.builder.config(\"neo4j.url\", url)\n",
        "    .config(\"spark.jars.packages\", \"org.neo4j:neo4j-connector-apache-spark_2.12:5.3.3_for_spark_3,graphframes:graphframes:0.8.4-spark3.5-s_2.12\") \\\n",
        "    .config(\"neo4j.authentication.basic.username\", username)\n",
        "    .config(\"neo4j.authentication.basic.password\", neo4j_password)\n",
        "    .getOrCreate()\n",
        ")"
      ]
    },
    {
      "cell_type": "markdown",
      "source": [
        "Let's reimplement our Fraud ring example."
      ],
      "metadata": {
        "id": "DHW-YIYKvKUf"
      }
    },
    {
      "cell_type": "code",
      "source": [
        "has_address_df = (spark.read\n",
        "            .format('org.neo4j.spark.DataSource')\n",
        "            .option('relationship', 'HAS_ADDRESS')\n",
        "            .option('relationship.source.labels', ':AccountHolder')\n",
        "            .option('relationship.target.labels', ':Address')\n",
        "            .load())\n",
        "\n",
        "has_address_df.show()"
      ],
      "metadata": {
        "colab": {
          "base_uri": "https://localhost:8080/"
        },
        "id": "GYI26t1LoaC4",
        "outputId": "6c0eee54-55e3-460a-bac4-b58f31ed20c7"
      },
      "execution_count": 5,
      "outputs": [
        {
          "output_type": "stream",
          "name": "stdout",
          "text": [
            "+-------------------+-----------+-----------+---------------+---------------+---------------+----------------+-----------+---------------+--------------+-----------------+------------+-------------+\n",
            "|           <rel.id>| <rel.type>|<source.id>|<source.labels>|source.UniqueId|source.LastName|source.FirstName|<target.id>|<target.labels>|target.ZipCode|    target.Street|target.State|  target.City|\n",
            "+-------------------+-----------+-----------+---------------+---------------+---------------+----------------+-----------+---------------+--------------+-----------------+------------+-------------+\n",
            "|1152925902653358080|HAS_ADDRESS|          0|[AccountHolder]|        JohnDoe|            Doe|            John|          3|      [Address]|         94101|123 NW 1st Street|  California|San Francisco|\n",
            "|1152925902653358081|HAS_ADDRESS|          1|[AccountHolder]|  JaneAppleseed|      Appleseed|            Jane|          3|      [Address]|         94101|123 NW 1st Street|  California|San Francisco|\n",
            "|1152925902653358082|HAS_ADDRESS|          2|[AccountHolder]|      MattSmith|          Smith|            Matt|          3|      [Address]|         94101|123 NW 1st Street|  California|San Francisco|\n",
            "+-------------------+-----------+-----------+---------------+---------------+---------------+----------------+-----------+---------------+--------------+-----------------+------------+-------------+\n",
            "\n"
          ]
        }
      ]
    },
    {
      "cell_type": "code",
      "source": [
        "from pyspark.sql import functions as F\n",
        "\n",
        "account_address_df = has_address_df.select(\n",
        "    F.col(\"`source.UniqueId`\").alias(\"account_id\"),\n",
        "    F.col(\"`source.FirstName`\").alias(\"account_firstname\"),\n",
        "    F.col(\"`source.LastName`\").alias(\"account_lastname\"),\n",
        "    F.col(\"`target.ZipCode`\").alias(\"address_zip\"),\n",
        "    F.col(\"`target.Street`\").alias(\"address_street\"),\n",
        "    F.col(\"`target.City`\").alias(\"address_city\"),\n",
        "    F.col(\"`target.State`\").alias(\"address_state\")\n",
        ")\n",
        "\n",
        "account_address_df.show()"
      ],
      "metadata": {
        "colab": {
          "base_uri": "https://localhost:8080/"
        },
        "id": "zgJoywsVteI-",
        "outputId": "657bbd55-a9dd-40d4-ff22-ecde21d011d6"
      },
      "execution_count": 6,
      "outputs": [
        {
          "output_type": "stream",
          "name": "stdout",
          "text": [
            "+-------------+-----------------+----------------+-----------+-----------------+-------------+-------------+\n",
            "|   account_id|account_firstname|account_lastname|address_zip|   address_street| address_city|address_state|\n",
            "+-------------+-----------------+----------------+-----------+-----------------+-------------+-------------+\n",
            "|      JohnDoe|             John|             Doe|      94101|123 NW 1st Street|San Francisco|   California|\n",
            "|JaneAppleseed|             Jane|       Appleseed|      94101|123 NW 1st Street|San Francisco|   California|\n",
            "|    MattSmith|             Matt|           Smith|      94101|123 NW 1st Street|San Francisco|   California|\n",
            "+-------------+-----------------+----------------+-----------+-----------------+-------------+-------------+\n",
            "\n"
          ]
        }
      ]
    },
    {
      "cell_type": "code",
      "source": [
        "fraud_rings_df = account_address_df.groupBy(\n",
        "    \"address_zip\", \"address_street\", \"address_city\", \"address_state\"\n",
        ").agg(\n",
        "    F.countDistinct(\"account_id\").alias(\"ring_size\"),\n",
        "    F.collect_list(\"account_id\").alias(\"account_ids\"),\n",
        "    F.collect_list(\"account_firstname\").alias(\"first_names\"),\n",
        "    F.collect_list(\"account_lastname\").alias(\"last_names\")\n",
        ")\n",
        "\n",
        "# Filter to find fraud rings with more than 1 AccountHolder\n",
        "fraud_rings_df = fraud_rings_df.filter(\"ring_size > 1\")\n",
        "\n",
        "fraud_rings_df.show()"
      ],
      "metadata": {
        "colab": {
          "base_uri": "https://localhost:8080/"
        },
        "id": "fPqm4Btxunhb",
        "outputId": "c80ae783-72a8-4e71-8db9-1b3f12b28394"
      },
      "execution_count": 7,
      "outputs": [
        {
          "output_type": "stream",
          "name": "stdout",
          "text": [
            "+-----------+-----------------+-------------+-------------+---------+--------------------+------------------+--------------------+\n",
            "|address_zip|   address_street| address_city|address_state|ring_size|         account_ids|       first_names|          last_names|\n",
            "+-----------+-----------------+-------------+-------------+---------+--------------------+------------------+--------------------+\n",
            "|      94101|123 NW 1st Street|San Francisco|   California|        3|[JaneAppleseed, M...|[Jane, Matt, John]|[Appleseed, Smith...|\n",
            "+-----------+-----------------+-------------+-------------+---------+--------------------+------------------+--------------------+\n",
            "\n"
          ]
        }
      ]
    },
    {
      "cell_type": "markdown",
      "source": [
        "Now let's use Graphframes to solve the same problem"
      ],
      "metadata": {
        "id": "Ker_c0cF5o0v"
      }
    },
    {
      "cell_type": "code",
      "source": [
        "pip install graphframes"
      ],
      "metadata": {
        "colab": {
          "base_uri": "https://localhost:8080/"
        },
        "collapsed": true,
        "id": "cRbF1CsA5oGy",
        "outputId": "f7224f31-b81a-42da-ad18-89d25da9b4a9"
      },
      "execution_count": 8,
      "outputs": [
        {
          "output_type": "stream",
          "name": "stdout",
          "text": [
            "Collecting graphframes\n",
            "  Downloading graphframes-0.6-py2.py3-none-any.whl.metadata (934 bytes)\n",
            "Requirement already satisfied: numpy in /usr/local/lib/python3.11/dist-packages (from graphframes) (2.0.2)\n",
            "Collecting nose (from graphframes)\n",
            "  Downloading nose-1.3.7-py3-none-any.whl.metadata (1.7 kB)\n",
            "Downloading graphframes-0.6-py2.py3-none-any.whl (18 kB)\n",
            "Downloading nose-1.3.7-py3-none-any.whl (154 kB)\n",
            "\u001b[2K   \u001b[90m━━━━━━━━━━━━━━━━━━━━━━━━━━━━━━━━━━━━━━━━\u001b[0m \u001b[32m154.7/154.7 kB\u001b[0m \u001b[31m4.1 MB/s\u001b[0m eta \u001b[36m0:00:00\u001b[0m\n",
            "\u001b[?25hInstalling collected packages: nose, graphframes\n",
            "Successfully installed graphframes-0.6 nose-1.3.7\n"
          ]
        }
      ]
    },
    {
      "cell_type": "code",
      "source": [
        "from graphframes import GraphFrame\n",
        "\n",
        "has_address_edges_df = (spark.read\n",
        "            .format('org.neo4j.spark.DataSource')\n",
        "            .option('relationship', 'HAS_ADDRESS')\n",
        "            .option('relationship.source.labels', ':AccountHolder')\n",
        "            .option('relationship.target.labels', ':Address')\n",
        "            .load())\n",
        "\n",
        "account_df = spark.read \\\n",
        "            .format('org.neo4j.spark.DataSource') \\\n",
        "            .option('labels', ':AccountHolder') \\\n",
        "            .load()\n",
        "\n",
        "account_df = account_df \\\n",
        "    .select(\n",
        "        F.col(\"<id>\").alias(\"id\"),\n",
        "        F.col(\"<labels>\").alias(\"labels\"),\n",
        "    )\n",
        "\n",
        "address_df = spark.read \\\n",
        "            .format('org.neo4j.spark.DataSource') \\\n",
        "            .option('labels', ':Address') \\\n",
        "            .load()\n",
        "\n",
        "address_df = address_df \\\n",
        "    .select(\n",
        "        F.col(\"<id>\").alias(\"id\"),\n",
        "        F.col(\"<labels>\").alias(\"labels\"),\n",
        "    )\n",
        "\n",
        "vertices_df = account_df.union(address_df)\n",
        "\n",
        "edges_df = has_address_edges_df \\\n",
        "    .select(\n",
        "        F.col(\"`<source.id>`\").alias(\"src\"),\n",
        "        F.col(\"`<target.id>`\").alias(\"dst\"),\n",
        "        F.col(\"`<rel.type>`\").alias(\"relationship\")\n",
        "    )\n",
        "\n",
        "g = GraphFrame(vertices_df, edges_df)\n",
        "\n",
        "g.vertices.show()\n",
        "g.edges.show()"
      ],
      "metadata": {
        "colab": {
          "base_uri": "https://localhost:8080/"
        },
        "id": "jy_nmxNHSwLw",
        "outputId": "0e59897b-5093-4cf2-8ca4-278475f6b37f"
      },
      "execution_count": 9,
      "outputs": [
        {
          "output_type": "stream",
          "name": "stdout",
          "text": [
            "+---+---------------+\n",
            "| id|         labels|\n",
            "+---+---------------+\n",
            "|  0|[AccountHolder]|\n",
            "|  1|[AccountHolder]|\n",
            "|  2|[AccountHolder]|\n",
            "|  3|      [Address]|\n",
            "+---+---------------+\n",
            "\n",
            "+---+---+------------+\n",
            "|src|dst|relationship|\n",
            "+---+---+------------+\n",
            "|  0|  3| HAS_ADDRESS|\n",
            "|  1|  3| HAS_ADDRESS|\n",
            "|  2|  3| HAS_ADDRESS|\n",
            "+---+---+------------+\n",
            "\n"
          ]
        }
      ]
    },
    {
      "cell_type": "code",
      "source": [
        "df_AC = (\n",
        "    g.find(\"(A)-[r]->(C)\")\n",
        "    .select(\"A\", \"C\", \"r\")\n",
        ")\n",
        "df_AC.show(truncate=False)\n",
        "\n",
        "df_grouped = (\n",
        "    df_AC\n",
        "    .groupBy(\"C\")\n",
        "    .agg(\n",
        "        F.countDistinct(\"A\").alias(\"RingSize\"),\n",
        "        F.collect_list(\"r\").alias(\"relationships\")\n",
        "    )\n",
        "    .filter(\"RingSize > 1\")\n",
        ")\n",
        "\n",
        "df_grouped.show(truncate=False)\n"
      ],
      "metadata": {
        "colab": {
          "base_uri": "https://localhost:8080/"
        },
        "id": "k0Ef9uwr8Ro2",
        "outputId": "6af7ae48-6c45-498b-a95e-cfc0b5e43054"
      },
      "execution_count": 10,
      "outputs": [
        {
          "output_type": "stream",
          "name": "stdout",
          "text": [
            "+--------------------+--------------+-------------------+\n",
            "|A                   |C             |r                  |\n",
            "+--------------------+--------------+-------------------+\n",
            "|{2, [AccountHolder]}|{3, [Address]}|{2, 3, HAS_ADDRESS}|\n",
            "|{1, [AccountHolder]}|{3, [Address]}|{1, 3, HAS_ADDRESS}|\n",
            "|{0, [AccountHolder]}|{3, [Address]}|{0, 3, HAS_ADDRESS}|\n",
            "+--------------------+--------------+-------------------+\n",
            "\n",
            "+--------------+--------+---------------------------------------------------------------+\n",
            "|C             |RingSize|relationships                                                  |\n",
            "+--------------+--------+---------------------------------------------------------------+\n",
            "|{3, [Address]}|3       |[{0, 3, HAS_ADDRESS}, {2, 3, HAS_ADDRESS}, {1, 3, HAS_ADDRESS}]|\n",
            "+--------------+--------+---------------------------------------------------------------+\n",
            "\n"
          ]
        }
      ]
    },
    {
      "cell_type": "markdown",
      "source": [
        "You can also use a Cypher query to read data from Neo4j into a Dataframe. This example reads the entire graph which in most cases is probably overkill."
      ],
      "metadata": {
        "id": "kPwjuMYYuw9G"
      }
    },
    {
      "cell_type": "code",
      "source": [
        "full_graph_df = (spark.read\n",
        "            .format('org.neo4j.spark.DataSource')\n",
        "            .option('query', '''\n",
        "              MATCH (n)-[r]->(m)\n",
        "              RETURN n, r, m\n",
        "              ''')\n",
        "            .load())\n",
        "\n",
        "full_graph_df.show()"
      ],
      "metadata": {
        "colab": {
          "base_uri": "https://localhost:8080/"
        },
        "id": "yfYuLz46W95C",
        "outputId": "3ca5e94a-4bc9-45a8-f765-ee0547890e3f"
      },
      "execution_count": 11,
      "outputs": [
        {
          "output_type": "stream",
          "name": "stdout",
          "text": [
            "+--------------------+--------------------+--------------------+\n",
            "|                   n|                   r|                   m|\n",
            "+--------------------+--------------------+--------------------+\n",
            "|{0, [AccountHolde...|{1152925902653358...|{3, [Address], 12...|\n",
            "|{0, [AccountHolde...|{1152927002164985...|{4, [PhoneNumber]...|\n",
            "|{0, [AccountHolde...|{1152928101676613...|{6, [SSN], NULL, ...|\n",
            "|{0, [AccountHolde...|{1152929201188241...|{7, [CreditCard],...|\n",
            "|{0, [AccountHolde...|{1152930300699869...|{8, [BankAccount]...|\n",
            "|{1, [AccountHolde...|{1152925902653358...|{3, [Address], 12...|\n",
            "|{1, [AccountHolde...|{1152927002164985...|{4, [PhoneNumber]...|\n",
            "|{1, [AccountHolde...|{1152928101676613...|{5, [SSN], NULL, ...|\n",
            "|{1, [AccountHolde...|{1152929201188241...|{9, [CreditCard],...|\n",
            "|{1, [AccountHolde...|{1152930300699869...|{10, [BankAccount...|\n",
            "|{1, [AccountHolde...|{1152931400211496...|{11, [UnsecuredLo...|\n",
            "|{2, [AccountHolde...|{1152925902653358...|{3, [Address], 12...|\n",
            "|{2, [AccountHolde...|{1152927002164985...|{14, [PhoneNumber...|\n",
            "|{2, [AccountHolde...|{1152928101676613...|{5, [SSN], NULL, ...|\n",
            "|{2, [AccountHolde...|{1152930300699869...|{12, [BankAccount...|\n",
            "|{2, [AccountHolde...|{1152931400211496...|{13, [UnsecuredLo...|\n",
            "+--------------------+--------------------+--------------------+\n",
            "\n"
          ]
        }
      ]
    },
    {
      "cell_type": "code",
      "source": [
        "full_graph_df.printSchema()"
      ],
      "metadata": {
        "colab": {
          "base_uri": "https://localhost:8080/"
        },
        "id": "SRk8Hs2-roG3",
        "outputId": "2ba59df9-28c5-481d-aec8-4395ec41c640"
      },
      "execution_count": 12,
      "outputs": [
        {
          "output_type": "stream",
          "name": "stdout",
          "text": [
            "root\n",
            " |-- n: struct (nullable = true)\n",
            " |    |-- <id>: long (nullable = false)\n",
            " |    |-- <labels>: array (nullable = true)\n",
            " |    |    |-- element: string (containsNull = true)\n",
            " |    |-- UniqueId: string (nullable = true)\n",
            " |    |-- LastName: string (nullable = true)\n",
            " |    |-- FirstName: string (nullable = true)\n",
            " |-- r: struct (nullable = true)\n",
            " |    |-- <rel.id>: long (nullable = false)\n",
            " |    |-- <rel.type>: string (nullable = false)\n",
            " |    |-- <source.id>: long (nullable = false)\n",
            " |    |-- <target.id>: long (nullable = false)\n",
            " |-- m: struct (nullable = true)\n",
            " |    |-- <id>: long (nullable = false)\n",
            " |    |-- <labels>: array (nullable = true)\n",
            " |    |    |-- element: string (containsNull = true)\n",
            " |    |-- Street: string (nullable = true)\n",
            " |    |-- City: string (nullable = true)\n",
            " |    |-- State: string (nullable = true)\n",
            " |    |-- ZipCode: string (nullable = true)\n",
            "\n"
          ]
        }
      ]
    }
  ]
}