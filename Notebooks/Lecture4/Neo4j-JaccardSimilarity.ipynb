{
  "nbformat": 4,
  "nbformat_minor": 0,
  "metadata": {
    "colab": {
      "provenance": []
    },
    "kernelspec": {
      "name": "python3",
      "display_name": "Python 3"
    },
    "language_info": {
      "name": "python"
    },
    "widgets": {
      "application/vnd.jupyter.widget-state+json": {
        "66406e415a89470f8b567a4ac78f1afc": {
          "model_module": "yfiles-jupyter-graphs",
          "model_name": "GraphModel",
          "model_module_version": "^1.10.6",
          "state": {
            "_context_pane_mapping": [
              {
                "id": "Neighborhood",
                "title": "Neighborhood"
              },
              {
                "id": "Data",
                "title": "Data"
              },
              {
                "id": "Search",
                "title": "Search"
              },
              {
                "id": "About",
                "title": "About"
              }
            ],
            "_data_importer": "neo4j",
            "_directed": true,
            "_dom_classes": [],
            "_edges": [
              {
                "id": 1152922604118474800,
                "start": 0,
                "end": 1,
                "properties": {
                  "label": "FRIEND"
                },
                "color": "#F44336",
                "thickness_factor": 1,
                "directed": true,
                "styles": {},
                "label": "FRIEND"
              },
              {
                "id": 1155174403932160000,
                "start": 0,
                "end": 2,
                "properties": {
                  "label": "FRIEND"
                },
                "color": "#F44336",
                "thickness_factor": 1,
                "directed": true,
                "styles": {},
                "label": "FRIEND"
              },
              {
                "id": 1152922604118474800,
                "start": 1,
                "end": 2,
                "properties": {
                  "label": "FRIEND"
                },
                "color": "#F44336",
                "thickness_factor": 1,
                "directed": true,
                "styles": {},
                "label": "FRIEND"
              },
              {
                "id": 1152922604118474800,
                "start": 2,
                "end": 3,
                "properties": {
                  "label": "FRIEND"
                },
                "color": "#F44336",
                "thickness_factor": 1,
                "directed": true,
                "styles": {},
                "label": "FRIEND"
              },
              {
                "id": 1152922604118474800,
                "start": 3,
                "end": 4,
                "properties": {
                  "label": "FRIEND"
                },
                "color": "#F44336",
                "thickness_factor": 1,
                "directed": true,
                "styles": {},
                "label": "FRIEND"
              },
              {
                "id": 1152923703630102500,
                "start": 5,
                "end": 9,
                "properties": {
                  "label": "LIKES"
                },
                "color": "#607D8B",
                "thickness_factor": 1,
                "directed": true,
                "styles": {},
                "label": "LIKES"
              },
              {
                "id": 1155175503443787800,
                "start": 5,
                "end": 10,
                "properties": {
                  "label": "LIKES"
                },
                "color": "#607D8B",
                "thickness_factor": 1,
                "directed": true,
                "styles": {},
                "label": "LIKES"
              },
              {
                "id": 1157427303257473000,
                "start": 5,
                "end": 13,
                "properties": {
                  "label": "LIKES"
                },
                "color": "#607D8B",
                "thickness_factor": 1,
                "directed": true,
                "styles": {},
                "label": "LIKES"
              },
              {
                "id": 1152923703630102500,
                "start": 6,
                "end": 10,
                "properties": {
                  "label": "LIKES"
                },
                "color": "#607D8B",
                "thickness_factor": 1,
                "directed": true,
                "styles": {},
                "label": "LIKES"
              },
              {
                "id": 1155175503443787800,
                "start": 6,
                "end": 11,
                "properties": {
                  "label": "LIKES"
                },
                "color": "#607D8B",
                "thickness_factor": 1,
                "directed": true,
                "styles": {},
                "label": "LIKES"
              },
              {
                "id": 1157427303257473000,
                "start": 6,
                "end": 14,
                "properties": {
                  "label": "LIKES"
                },
                "color": "#607D8B",
                "thickness_factor": 1,
                "directed": true,
                "styles": {},
                "label": "LIKES"
              },
              {
                "id": 1152923703630102500,
                "start": 7,
                "end": 9,
                "properties": {
                  "label": "LIKES"
                },
                "color": "#607D8B",
                "thickness_factor": 1,
                "directed": true,
                "styles": {},
                "label": "LIKES"
              },
              {
                "id": 1155175503443787800,
                "start": 7,
                "end": 12,
                "properties": {
                  "label": "LIKES"
                },
                "color": "#607D8B",
                "thickness_factor": 1,
                "directed": true,
                "styles": {},
                "label": "LIKES"
              },
              {
                "id": 1152923703630102500,
                "start": 8,
                "end": 11,
                "properties": {
                  "label": "LIKES"
                },
                "color": "#607D8B",
                "thickness_factor": 1,
                "directed": true,
                "styles": {},
                "label": "LIKES"
              },
              {
                "id": 1159679103071158300,
                "start": 8,
                "end": 12,
                "properties": {
                  "label": "LIKES"
                },
                "color": "#607D8B",
                "thickness_factor": 1,
                "directed": true,
                "styles": {},
                "label": "LIKES"
              },
              {
                "id": 1155175503443787800,
                "start": 8,
                "end": 13,
                "properties": {
                  "label": "LIKES"
                },
                "color": "#607D8B",
                "thickness_factor": 1,
                "directed": true,
                "styles": {},
                "label": "LIKES"
              },
              {
                "id": 1157427303257473000,
                "start": 8,
                "end": 14,
                "properties": {
                  "label": "LIKES"
                },
                "color": "#607D8B",
                "thickness_factor": 1,
                "directed": true,
                "styles": {},
                "label": "LIKES"
              }
            ],
            "_graph_layout": {
              "algorithm": "organic",
              "options": {}
            },
            "_highlight": [],
            "_license": {},
            "_model_module": "yfiles-jupyter-graphs",
            "_model_module_version": "^1.10.6",
            "_model_name": "GraphModel",
            "_neighborhood": {},
            "_nodes": [
              {
                "id": 0,
                "properties": {
                  "name": "Walt Whitman",
                  "label": "Person"
                },
                "color": "#2196F3",
                "styles": {},
                "label": "Walt Whitman",
                "scale_factor": 1,
                "type": "#2196F3",
                "size": [
                  55,
                  55
                ],
                "position": [
                  0,
                  0
                ]
              },
              {
                "id": 1,
                "properties": {
                  "name": "Pablo Neruda",
                  "label": "Person"
                },
                "color": "#2196F3",
                "styles": {},
                "label": "Pablo Neruda",
                "scale_factor": 1,
                "type": "#2196F3",
                "size": [
                  55,
                  55
                ],
                "position": [
                  0,
                  0
                ]
              },
              {
                "id": 2,
                "properties": {
                  "name": "Nasir Kazmi",
                  "label": "Person"
                },
                "color": "#2196F3",
                "styles": {},
                "label": "Nasir Kazmi",
                "scale_factor": 1,
                "type": "#2196F3",
                "size": [
                  55,
                  55
                ],
                "position": [
                  0,
                  0
                ]
              },
              {
                "id": 3,
                "properties": {
                  "name": "Sylvia Plath",
                  "label": "Person"
                },
                "color": "#2196F3",
                "styles": {},
                "label": "Sylvia Plath",
                "scale_factor": 1,
                "type": "#2196F3",
                "size": [
                  55,
                  55
                ],
                "position": [
                  0,
                  0
                ]
              },
              {
                "id": 4,
                "properties": {
                  "name": "Charles Bukowski",
                  "label": "Person"
                },
                "color": "#2196F3",
                "styles": {},
                "label": "Charles Bukowski",
                "scale_factor": 1,
                "type": "#2196F3",
                "size": [
                  55,
                  55
                ],
                "position": [
                  0,
                  0
                ]
              },
              {
                "id": 5,
                "properties": {
                  "name": "Alice",
                  "label": "Person"
                },
                "color": "#2196F3",
                "styles": {},
                "label": "Alice",
                "scale_factor": 1,
                "type": "#2196F3",
                "size": [
                  55,
                  55
                ],
                "position": [
                  0,
                  0
                ]
              },
              {
                "id": 9,
                "properties": {
                  "name": "Reading",
                  "label": "Interest"
                },
                "color": "#4CAF50",
                "styles": {},
                "label": "Reading",
                "scale_factor": 1,
                "type": "#4CAF50",
                "size": [
                  55,
                  55
                ],
                "position": [
                  0,
                  0
                ]
              },
              {
                "id": 10,
                "properties": {
                  "name": "Cooking",
                  "label": "Interest"
                },
                "color": "#4CAF50",
                "styles": {},
                "label": "Cooking",
                "scale_factor": 1,
                "type": "#4CAF50",
                "size": [
                  55,
                  55
                ],
                "position": [
                  0,
                  0
                ]
              },
              {
                "id": 13,
                "properties": {
                  "name": "Chess",
                  "label": "Interest"
                },
                "color": "#4CAF50",
                "styles": {},
                "label": "Chess",
                "scale_factor": 1,
                "type": "#4CAF50",
                "size": [
                  55,
                  55
                ],
                "position": [
                  0,
                  0
                ]
              },
              {
                "id": 6,
                "properties": {
                  "name": "Bob",
                  "label": "Person"
                },
                "color": "#2196F3",
                "styles": {},
                "label": "Bob",
                "scale_factor": 1,
                "type": "#2196F3",
                "size": [
                  55,
                  55
                ],
                "position": [
                  0,
                  0
                ]
              },
              {
                "id": 11,
                "properties": {
                  "name": "Cycling",
                  "label": "Interest"
                },
                "color": "#4CAF50",
                "styles": {},
                "label": "Cycling",
                "scale_factor": 1,
                "type": "#4CAF50",
                "size": [
                  55,
                  55
                ],
                "position": [
                  0,
                  0
                ]
              },
              {
                "id": 14,
                "properties": {
                  "name": "Music",
                  "label": "Interest"
                },
                "color": "#4CAF50",
                "styles": {},
                "label": "Music",
                "scale_factor": 1,
                "type": "#4CAF50",
                "size": [
                  55,
                  55
                ],
                "position": [
                  0,
                  0
                ]
              },
              {
                "id": 7,
                "properties": {
                  "name": "Carol",
                  "label": "Person"
                },
                "color": "#2196F3",
                "styles": {},
                "label": "Carol",
                "scale_factor": 1,
                "type": "#2196F3",
                "size": [
                  55,
                  55
                ],
                "position": [
                  0,
                  0
                ]
              },
              {
                "id": 12,
                "properties": {
                  "name": "Hiking",
                  "label": "Interest"
                },
                "color": "#4CAF50",
                "styles": {},
                "label": "Hiking",
                "scale_factor": 1,
                "type": "#4CAF50",
                "size": [
                  55,
                  55
                ],
                "position": [
                  0,
                  0
                ]
              },
              {
                "id": 8,
                "properties": {
                  "name": "Dave",
                  "label": "Person"
                },
                "color": "#2196F3",
                "styles": {},
                "label": "Dave",
                "scale_factor": 1,
                "type": "#2196F3",
                "size": [
                  55,
                  55
                ],
                "position": [
                  0,
                  0
                ]
              }
            ],
            "_overview": {
              "enabled": null,
              "overview_set": false
            },
            "_selected_graph": [
              [],
              []
            ],
            "_sidebar": {
              "enabled": false,
              "start_with": null
            },
            "_view_count": null,
            "_view_module": "yfiles-jupyter-graphs",
            "_view_module_version": "^1.10.6",
            "_view_name": "GraphView",
            "layout": "IPY_MODEL_46f0a0150d294be9b47f12534fcc7a4b"
          }
        },
        "46f0a0150d294be9b47f12534fcc7a4b": {
          "model_module": "@jupyter-widgets/base",
          "model_name": "LayoutModel",
          "model_module_version": "1.2.0",
          "state": {
            "_model_module": "@jupyter-widgets/base",
            "_model_module_version": "1.2.0",
            "_model_name": "LayoutModel",
            "_view_count": null,
            "_view_module": "@jupyter-widgets/base",
            "_view_module_version": "1.2.0",
            "_view_name": "LayoutView",
            "align_content": null,
            "align_items": null,
            "align_self": null,
            "border": null,
            "bottom": null,
            "display": null,
            "flex": null,
            "flex_flow": null,
            "grid_area": null,
            "grid_auto_columns": null,
            "grid_auto_flow": null,
            "grid_auto_rows": null,
            "grid_column": null,
            "grid_gap": null,
            "grid_row": null,
            "grid_template_areas": null,
            "grid_template_columns": null,
            "grid_template_rows": null,
            "height": "650px",
            "justify_content": null,
            "justify_items": null,
            "left": null,
            "margin": null,
            "max_height": null,
            "max_width": null,
            "min_height": null,
            "min_width": null,
            "object_fit": null,
            "object_position": null,
            "order": null,
            "overflow": null,
            "overflow_x": null,
            "overflow_y": null,
            "padding": null,
            "right": null,
            "top": null,
            "visibility": null,
            "width": "100%"
          }
        }
      }
    }
  },
  "cells": [
    {
      "cell_type": "markdown",
      "source": [
        "This notebook assumes that you have a running instance of Neo4J Aura. You can create a free one by heading over to https://neo4j.com/\n",
        "\n",
        "Once you have your instance, save its id as `neo4j_instance_id` and its password as `neo4j_password` as Colab secrets and grant this notebook access to said secrets."
      ],
      "metadata": {
        "id": "dK1t5a8QyD1j"
      }
    },
    {
      "cell_type": "code",
      "execution_count": 1,
      "metadata": {
        "id": "JOlp5qcRPTJl",
        "outputId": "212e2410-94dd-45f4-81b4-8d077b5285ba",
        "colab": {
          "base_uri": "https://localhost:8080/"
        }
      },
      "outputs": [
        {
          "output_type": "stream",
          "name": "stdout",
          "text": [
            "Collecting neo4j\n",
            "  Downloading neo4j-5.28.1-py3-none-any.whl.metadata (5.9 kB)\n",
            "Collecting yfiles_jupyter_graphs_for_neo4j\n",
            "  Downloading yfiles_jupyter_graphs_for_neo4j-1.7.0-py3-none-any.whl.metadata (18 kB)\n",
            "Requirement already satisfied: pandas in /usr/local/lib/python3.11/dist-packages (2.2.2)\n",
            "Requirement already satisfied: pytz in /usr/local/lib/python3.11/dist-packages (from neo4j) (2025.2)\n",
            "Collecting yfiles_jupyter_graphs>=1.10.0 (from yfiles_jupyter_graphs_for_neo4j)\n",
            "  Downloading yfiles_jupyter_graphs-1.10.6-py3-none-any.whl.metadata (21 kB)\n",
            "Requirement already satisfied: numpy>=1.23.2 in /usr/local/lib/python3.11/dist-packages (from pandas) (2.0.2)\n",
            "Requirement already satisfied: python-dateutil>=2.8.2 in /usr/local/lib/python3.11/dist-packages (from pandas) (2.9.0.post0)\n",
            "Requirement already satisfied: tzdata>=2022.7 in /usr/local/lib/python3.11/dist-packages (from pandas) (2025.2)\n",
            "Requirement already satisfied: six>=1.5 in /usr/local/lib/python3.11/dist-packages (from python-dateutil>=2.8.2->pandas) (1.17.0)\n",
            "Requirement already satisfied: ipywidgets>=7.6.0 in /usr/local/lib/python3.11/dist-packages (from yfiles_jupyter_graphs>=1.10.0->yfiles_jupyter_graphs_for_neo4j) (7.7.1)\n",
            "Requirement already satisfied: ipykernel>=4.5.1 in /usr/local/lib/python3.11/dist-packages (from ipywidgets>=7.6.0->yfiles_jupyter_graphs>=1.10.0->yfiles_jupyter_graphs_for_neo4j) (6.17.1)\n",
            "Requirement already satisfied: ipython-genutils~=0.2.0 in /usr/local/lib/python3.11/dist-packages (from ipywidgets>=7.6.0->yfiles_jupyter_graphs>=1.10.0->yfiles_jupyter_graphs_for_neo4j) (0.2.0)\n",
            "Requirement already satisfied: traitlets>=4.3.1 in /usr/local/lib/python3.11/dist-packages (from ipywidgets>=7.6.0->yfiles_jupyter_graphs>=1.10.0->yfiles_jupyter_graphs_for_neo4j) (5.7.1)\n",
            "Requirement already satisfied: widgetsnbextension~=3.6.0 in /usr/local/lib/python3.11/dist-packages (from ipywidgets>=7.6.0->yfiles_jupyter_graphs>=1.10.0->yfiles_jupyter_graphs_for_neo4j) (3.6.10)\n",
            "Requirement already satisfied: ipython>=4.0.0 in /usr/local/lib/python3.11/dist-packages (from ipywidgets>=7.6.0->yfiles_jupyter_graphs>=1.10.0->yfiles_jupyter_graphs_for_neo4j) (7.34.0)\n",
            "Requirement already satisfied: jupyterlab-widgets>=1.0.0 in /usr/local/lib/python3.11/dist-packages (from ipywidgets>=7.6.0->yfiles_jupyter_graphs>=1.10.0->yfiles_jupyter_graphs_for_neo4j) (3.0.15)\n",
            "Requirement already satisfied: debugpy>=1.0 in /usr/local/lib/python3.11/dist-packages (from ipykernel>=4.5.1->ipywidgets>=7.6.0->yfiles_jupyter_graphs>=1.10.0->yfiles_jupyter_graphs_for_neo4j) (1.8.0)\n",
            "Requirement already satisfied: jupyter-client>=6.1.12 in /usr/local/lib/python3.11/dist-packages (from ipykernel>=4.5.1->ipywidgets>=7.6.0->yfiles_jupyter_graphs>=1.10.0->yfiles_jupyter_graphs_for_neo4j) (6.1.12)\n",
            "Requirement already satisfied: matplotlib-inline>=0.1 in /usr/local/lib/python3.11/dist-packages (from ipykernel>=4.5.1->ipywidgets>=7.6.0->yfiles_jupyter_graphs>=1.10.0->yfiles_jupyter_graphs_for_neo4j) (0.1.7)\n",
            "Requirement already satisfied: nest-asyncio in /usr/local/lib/python3.11/dist-packages (from ipykernel>=4.5.1->ipywidgets>=7.6.0->yfiles_jupyter_graphs>=1.10.0->yfiles_jupyter_graphs_for_neo4j) (1.6.0)\n",
            "Requirement already satisfied: packaging in /usr/local/lib/python3.11/dist-packages (from ipykernel>=4.5.1->ipywidgets>=7.6.0->yfiles_jupyter_graphs>=1.10.0->yfiles_jupyter_graphs_for_neo4j) (24.2)\n",
            "Requirement already satisfied: psutil in /usr/local/lib/python3.11/dist-packages (from ipykernel>=4.5.1->ipywidgets>=7.6.0->yfiles_jupyter_graphs>=1.10.0->yfiles_jupyter_graphs_for_neo4j) (5.9.5)\n",
            "Requirement already satisfied: pyzmq>=17 in /usr/local/lib/python3.11/dist-packages (from ipykernel>=4.5.1->ipywidgets>=7.6.0->yfiles_jupyter_graphs>=1.10.0->yfiles_jupyter_graphs_for_neo4j) (24.0.1)\n",
            "Requirement already satisfied: tornado>=6.1 in /usr/local/lib/python3.11/dist-packages (from ipykernel>=4.5.1->ipywidgets>=7.6.0->yfiles_jupyter_graphs>=1.10.0->yfiles_jupyter_graphs_for_neo4j) (6.4.2)\n",
            "Requirement already satisfied: setuptools>=18.5 in /usr/local/lib/python3.11/dist-packages (from ipython>=4.0.0->ipywidgets>=7.6.0->yfiles_jupyter_graphs>=1.10.0->yfiles_jupyter_graphs_for_neo4j) (75.2.0)\n",
            "Collecting jedi>=0.16 (from ipython>=4.0.0->ipywidgets>=7.6.0->yfiles_jupyter_graphs>=1.10.0->yfiles_jupyter_graphs_for_neo4j)\n",
            "  Downloading jedi-0.19.2-py2.py3-none-any.whl.metadata (22 kB)\n",
            "Requirement already satisfied: decorator in /usr/local/lib/python3.11/dist-packages (from ipython>=4.0.0->ipywidgets>=7.6.0->yfiles_jupyter_graphs>=1.10.0->yfiles_jupyter_graphs_for_neo4j) (4.4.2)\n",
            "Requirement already satisfied: pickleshare in /usr/local/lib/python3.11/dist-packages (from ipython>=4.0.0->ipywidgets>=7.6.0->yfiles_jupyter_graphs>=1.10.0->yfiles_jupyter_graphs_for_neo4j) (0.7.5)\n",
            "Requirement already satisfied: prompt-toolkit!=3.0.0,!=3.0.1,<3.1.0,>=2.0.0 in /usr/local/lib/python3.11/dist-packages (from ipython>=4.0.0->ipywidgets>=7.6.0->yfiles_jupyter_graphs>=1.10.0->yfiles_jupyter_graphs_for_neo4j) (3.0.51)\n",
            "Requirement already satisfied: pygments in /usr/local/lib/python3.11/dist-packages (from ipython>=4.0.0->ipywidgets>=7.6.0->yfiles_jupyter_graphs>=1.10.0->yfiles_jupyter_graphs_for_neo4j) (2.19.1)\n",
            "Requirement already satisfied: backcall in /usr/local/lib/python3.11/dist-packages (from ipython>=4.0.0->ipywidgets>=7.6.0->yfiles_jupyter_graphs>=1.10.0->yfiles_jupyter_graphs_for_neo4j) (0.2.0)\n",
            "Requirement already satisfied: pexpect>4.3 in /usr/local/lib/python3.11/dist-packages (from ipython>=4.0.0->ipywidgets>=7.6.0->yfiles_jupyter_graphs>=1.10.0->yfiles_jupyter_graphs_for_neo4j) (4.9.0)\n",
            "Requirement already satisfied: notebook>=4.4.1 in /usr/local/lib/python3.11/dist-packages (from widgetsnbextension~=3.6.0->ipywidgets>=7.6.0->yfiles_jupyter_graphs>=1.10.0->yfiles_jupyter_graphs_for_neo4j) (6.5.7)\n",
            "Requirement already satisfied: parso<0.9.0,>=0.8.4 in /usr/local/lib/python3.11/dist-packages (from jedi>=0.16->ipython>=4.0.0->ipywidgets>=7.6.0->yfiles_jupyter_graphs>=1.10.0->yfiles_jupyter_graphs_for_neo4j) (0.8.4)\n",
            "Requirement already satisfied: jupyter-core>=4.6.0 in /usr/local/lib/python3.11/dist-packages (from jupyter-client>=6.1.12->ipykernel>=4.5.1->ipywidgets>=7.6.0->yfiles_jupyter_graphs>=1.10.0->yfiles_jupyter_graphs_for_neo4j) (5.7.2)\n",
            "Requirement already satisfied: jinja2 in /usr/local/lib/python3.11/dist-packages (from notebook>=4.4.1->widgetsnbextension~=3.6.0->ipywidgets>=7.6.0->yfiles_jupyter_graphs>=1.10.0->yfiles_jupyter_graphs_for_neo4j) (3.1.6)\n",
            "Requirement already satisfied: argon2-cffi in /usr/local/lib/python3.11/dist-packages (from notebook>=4.4.1->widgetsnbextension~=3.6.0->ipywidgets>=7.6.0->yfiles_jupyter_graphs>=1.10.0->yfiles_jupyter_graphs_for_neo4j) (23.1.0)\n",
            "Requirement already satisfied: nbformat in /usr/local/lib/python3.11/dist-packages (from notebook>=4.4.1->widgetsnbextension~=3.6.0->ipywidgets>=7.6.0->yfiles_jupyter_graphs>=1.10.0->yfiles_jupyter_graphs_for_neo4j) (5.10.4)\n",
            "Requirement already satisfied: nbconvert>=5 in /usr/local/lib/python3.11/dist-packages (from notebook>=4.4.1->widgetsnbextension~=3.6.0->ipywidgets>=7.6.0->yfiles_jupyter_graphs>=1.10.0->yfiles_jupyter_graphs_for_neo4j) (7.16.6)\n",
            "Requirement already satisfied: Send2Trash>=1.8.0 in /usr/local/lib/python3.11/dist-packages (from notebook>=4.4.1->widgetsnbextension~=3.6.0->ipywidgets>=7.6.0->yfiles_jupyter_graphs>=1.10.0->yfiles_jupyter_graphs_for_neo4j) (1.8.3)\n",
            "Requirement already satisfied: terminado>=0.8.3 in /usr/local/lib/python3.11/dist-packages (from notebook>=4.4.1->widgetsnbextension~=3.6.0->ipywidgets>=7.6.0->yfiles_jupyter_graphs>=1.10.0->yfiles_jupyter_graphs_for_neo4j) (0.18.1)\n",
            "Requirement already satisfied: prometheus-client in /usr/local/lib/python3.11/dist-packages (from notebook>=4.4.1->widgetsnbextension~=3.6.0->ipywidgets>=7.6.0->yfiles_jupyter_graphs>=1.10.0->yfiles_jupyter_graphs_for_neo4j) (0.22.0)\n",
            "Requirement already satisfied: nbclassic>=0.4.7 in /usr/local/lib/python3.11/dist-packages (from notebook>=4.4.1->widgetsnbextension~=3.6.0->ipywidgets>=7.6.0->yfiles_jupyter_graphs>=1.10.0->yfiles_jupyter_graphs_for_neo4j) (1.3.1)\n",
            "Requirement already satisfied: ptyprocess>=0.5 in /usr/local/lib/python3.11/dist-packages (from pexpect>4.3->ipython>=4.0.0->ipywidgets>=7.6.0->yfiles_jupyter_graphs>=1.10.0->yfiles_jupyter_graphs_for_neo4j) (0.7.0)\n",
            "Requirement already satisfied: wcwidth in /usr/local/lib/python3.11/dist-packages (from prompt-toolkit!=3.0.0,!=3.0.1,<3.1.0,>=2.0.0->ipython>=4.0.0->ipywidgets>=7.6.0->yfiles_jupyter_graphs>=1.10.0->yfiles_jupyter_graphs_for_neo4j) (0.2.13)\n",
            "Requirement already satisfied: platformdirs>=2.5 in /usr/local/lib/python3.11/dist-packages (from jupyter-core>=4.6.0->jupyter-client>=6.1.12->ipykernel>=4.5.1->ipywidgets>=7.6.0->yfiles_jupyter_graphs>=1.10.0->yfiles_jupyter_graphs_for_neo4j) (4.3.8)\n",
            "Requirement already satisfied: notebook-shim>=0.2.3 in /usr/local/lib/python3.11/dist-packages (from nbclassic>=0.4.7->notebook>=4.4.1->widgetsnbextension~=3.6.0->ipywidgets>=7.6.0->yfiles_jupyter_graphs>=1.10.0->yfiles_jupyter_graphs_for_neo4j) (0.2.4)\n",
            "Requirement already satisfied: beautifulsoup4 in /usr/local/lib/python3.11/dist-packages (from nbconvert>=5->notebook>=4.4.1->widgetsnbextension~=3.6.0->ipywidgets>=7.6.0->yfiles_jupyter_graphs>=1.10.0->yfiles_jupyter_graphs_for_neo4j) (4.13.4)\n",
            "Requirement already satisfied: bleach!=5.0.0 in /usr/local/lib/python3.11/dist-packages (from bleach[css]!=5.0.0->nbconvert>=5->notebook>=4.4.1->widgetsnbextension~=3.6.0->ipywidgets>=7.6.0->yfiles_jupyter_graphs>=1.10.0->yfiles_jupyter_graphs_for_neo4j) (6.2.0)\n",
            "Requirement already satisfied: defusedxml in /usr/local/lib/python3.11/dist-packages (from nbconvert>=5->notebook>=4.4.1->widgetsnbextension~=3.6.0->ipywidgets>=7.6.0->yfiles_jupyter_graphs>=1.10.0->yfiles_jupyter_graphs_for_neo4j) (0.7.1)\n",
            "Requirement already satisfied: jupyterlab-pygments in /usr/local/lib/python3.11/dist-packages (from nbconvert>=5->notebook>=4.4.1->widgetsnbextension~=3.6.0->ipywidgets>=7.6.0->yfiles_jupyter_graphs>=1.10.0->yfiles_jupyter_graphs_for_neo4j) (0.3.0)\n",
            "Requirement already satisfied: markupsafe>=2.0 in /usr/local/lib/python3.11/dist-packages (from nbconvert>=5->notebook>=4.4.1->widgetsnbextension~=3.6.0->ipywidgets>=7.6.0->yfiles_jupyter_graphs>=1.10.0->yfiles_jupyter_graphs_for_neo4j) (3.0.2)\n",
            "Requirement already satisfied: mistune<4,>=2.0.3 in /usr/local/lib/python3.11/dist-packages (from nbconvert>=5->notebook>=4.4.1->widgetsnbextension~=3.6.0->ipywidgets>=7.6.0->yfiles_jupyter_graphs>=1.10.0->yfiles_jupyter_graphs_for_neo4j) (3.1.3)\n",
            "Requirement already satisfied: nbclient>=0.5.0 in /usr/local/lib/python3.11/dist-packages (from nbconvert>=5->notebook>=4.4.1->widgetsnbextension~=3.6.0->ipywidgets>=7.6.0->yfiles_jupyter_graphs>=1.10.0->yfiles_jupyter_graphs_for_neo4j) (0.10.2)\n",
            "Requirement already satisfied: pandocfilters>=1.4.1 in /usr/local/lib/python3.11/dist-packages (from nbconvert>=5->notebook>=4.4.1->widgetsnbextension~=3.6.0->ipywidgets>=7.6.0->yfiles_jupyter_graphs>=1.10.0->yfiles_jupyter_graphs_for_neo4j) (1.5.1)\n",
            "Requirement already satisfied: fastjsonschema>=2.15 in /usr/local/lib/python3.11/dist-packages (from nbformat->notebook>=4.4.1->widgetsnbextension~=3.6.0->ipywidgets>=7.6.0->yfiles_jupyter_graphs>=1.10.0->yfiles_jupyter_graphs_for_neo4j) (2.21.1)\n",
            "Requirement already satisfied: jsonschema>=2.6 in /usr/local/lib/python3.11/dist-packages (from nbformat->notebook>=4.4.1->widgetsnbextension~=3.6.0->ipywidgets>=7.6.0->yfiles_jupyter_graphs>=1.10.0->yfiles_jupyter_graphs_for_neo4j) (4.23.0)\n",
            "Requirement already satisfied: argon2-cffi-bindings in /usr/local/lib/python3.11/dist-packages (from argon2-cffi->notebook>=4.4.1->widgetsnbextension~=3.6.0->ipywidgets>=7.6.0->yfiles_jupyter_graphs>=1.10.0->yfiles_jupyter_graphs_for_neo4j) (21.2.0)\n",
            "Requirement already satisfied: webencodings in /usr/local/lib/python3.11/dist-packages (from bleach!=5.0.0->bleach[css]!=5.0.0->nbconvert>=5->notebook>=4.4.1->widgetsnbextension~=3.6.0->ipywidgets>=7.6.0->yfiles_jupyter_graphs>=1.10.0->yfiles_jupyter_graphs_for_neo4j) (0.5.1)\n",
            "Requirement already satisfied: tinycss2<1.5,>=1.1.0 in /usr/local/lib/python3.11/dist-packages (from bleach[css]!=5.0.0->nbconvert>=5->notebook>=4.4.1->widgetsnbextension~=3.6.0->ipywidgets>=7.6.0->yfiles_jupyter_graphs>=1.10.0->yfiles_jupyter_graphs_for_neo4j) (1.4.0)\n",
            "Requirement already satisfied: attrs>=22.2.0 in /usr/local/lib/python3.11/dist-packages (from jsonschema>=2.6->nbformat->notebook>=4.4.1->widgetsnbextension~=3.6.0->ipywidgets>=7.6.0->yfiles_jupyter_graphs>=1.10.0->yfiles_jupyter_graphs_for_neo4j) (25.3.0)\n",
            "Requirement already satisfied: jsonschema-specifications>=2023.03.6 in /usr/local/lib/python3.11/dist-packages (from jsonschema>=2.6->nbformat->notebook>=4.4.1->widgetsnbextension~=3.6.0->ipywidgets>=7.6.0->yfiles_jupyter_graphs>=1.10.0->yfiles_jupyter_graphs_for_neo4j) (2025.4.1)\n",
            "Requirement already satisfied: referencing>=0.28.4 in /usr/local/lib/python3.11/dist-packages (from jsonschema>=2.6->nbformat->notebook>=4.4.1->widgetsnbextension~=3.6.0->ipywidgets>=7.6.0->yfiles_jupyter_graphs>=1.10.0->yfiles_jupyter_graphs_for_neo4j) (0.36.2)\n",
            "Requirement already satisfied: rpds-py>=0.7.1 in /usr/local/lib/python3.11/dist-packages (from jsonschema>=2.6->nbformat->notebook>=4.4.1->widgetsnbextension~=3.6.0->ipywidgets>=7.6.0->yfiles_jupyter_graphs>=1.10.0->yfiles_jupyter_graphs_for_neo4j) (0.25.1)\n",
            "Requirement already satisfied: jupyter-server<3,>=1.8 in /usr/local/lib/python3.11/dist-packages (from notebook-shim>=0.2.3->nbclassic>=0.4.7->notebook>=4.4.1->widgetsnbextension~=3.6.0->ipywidgets>=7.6.0->yfiles_jupyter_graphs>=1.10.0->yfiles_jupyter_graphs_for_neo4j) (1.16.0)\n",
            "Requirement already satisfied: cffi>=1.0.1 in /usr/local/lib/python3.11/dist-packages (from argon2-cffi-bindings->argon2-cffi->notebook>=4.4.1->widgetsnbextension~=3.6.0->ipywidgets>=7.6.0->yfiles_jupyter_graphs>=1.10.0->yfiles_jupyter_graphs_for_neo4j) (1.17.1)\n",
            "Requirement already satisfied: soupsieve>1.2 in /usr/local/lib/python3.11/dist-packages (from beautifulsoup4->nbconvert>=5->notebook>=4.4.1->widgetsnbextension~=3.6.0->ipywidgets>=7.6.0->yfiles_jupyter_graphs>=1.10.0->yfiles_jupyter_graphs_for_neo4j) (2.7)\n",
            "Requirement already satisfied: typing-extensions>=4.0.0 in /usr/local/lib/python3.11/dist-packages (from beautifulsoup4->nbconvert>=5->notebook>=4.4.1->widgetsnbextension~=3.6.0->ipywidgets>=7.6.0->yfiles_jupyter_graphs>=1.10.0->yfiles_jupyter_graphs_for_neo4j) (4.13.2)\n",
            "Requirement already satisfied: pycparser in /usr/local/lib/python3.11/dist-packages (from cffi>=1.0.1->argon2-cffi-bindings->argon2-cffi->notebook>=4.4.1->widgetsnbextension~=3.6.0->ipywidgets>=7.6.0->yfiles_jupyter_graphs>=1.10.0->yfiles_jupyter_graphs_for_neo4j) (2.22)\n",
            "Requirement already satisfied: anyio>=3.1.0 in /usr/local/lib/python3.11/dist-packages (from jupyter-server<3,>=1.8->notebook-shim>=0.2.3->nbclassic>=0.4.7->notebook>=4.4.1->widgetsnbextension~=3.6.0->ipywidgets>=7.6.0->yfiles_jupyter_graphs>=1.10.0->yfiles_jupyter_graphs_for_neo4j) (4.9.0)\n",
            "Requirement already satisfied: websocket-client in /usr/local/lib/python3.11/dist-packages (from jupyter-server<3,>=1.8->notebook-shim>=0.2.3->nbclassic>=0.4.7->notebook>=4.4.1->widgetsnbextension~=3.6.0->ipywidgets>=7.6.0->yfiles_jupyter_graphs>=1.10.0->yfiles_jupyter_graphs_for_neo4j) (1.8.0)\n",
            "Requirement already satisfied: idna>=2.8 in /usr/local/lib/python3.11/dist-packages (from anyio>=3.1.0->jupyter-server<3,>=1.8->notebook-shim>=0.2.3->nbclassic>=0.4.7->notebook>=4.4.1->widgetsnbextension~=3.6.0->ipywidgets>=7.6.0->yfiles_jupyter_graphs>=1.10.0->yfiles_jupyter_graphs_for_neo4j) (3.10)\n",
            "Requirement already satisfied: sniffio>=1.1 in /usr/local/lib/python3.11/dist-packages (from anyio>=3.1.0->jupyter-server<3,>=1.8->notebook-shim>=0.2.3->nbclassic>=0.4.7->notebook>=4.4.1->widgetsnbextension~=3.6.0->ipywidgets>=7.6.0->yfiles_jupyter_graphs>=1.10.0->yfiles_jupyter_graphs_for_neo4j) (1.3.1)\n",
            "Downloading neo4j-5.28.1-py3-none-any.whl (312 kB)\n",
            "\u001b[2K   \u001b[90m━━━━━━━━━━━━━━━━━━━━━━━━━━━━━━━━━━━━━━━━\u001b[0m \u001b[32m312.3/312.3 kB\u001b[0m \u001b[31m4.7 MB/s\u001b[0m eta \u001b[36m0:00:00\u001b[0m\n",
            "\u001b[?25hDownloading yfiles_jupyter_graphs_for_neo4j-1.7.0-py3-none-any.whl (13 kB)\n",
            "Downloading yfiles_jupyter_graphs-1.10.6-py3-none-any.whl (15.7 MB)\n",
            "\u001b[2K   \u001b[90m━━━━━━━━━━━━━━━━━━━━━━━━━━━━━━━━━━━━━━━━\u001b[0m \u001b[32m15.7/15.7 MB\u001b[0m \u001b[31m36.5 MB/s\u001b[0m eta \u001b[36m0:00:00\u001b[0m\n",
            "\u001b[?25hDownloading jedi-0.19.2-py2.py3-none-any.whl (1.6 MB)\n",
            "\u001b[2K   \u001b[90m━━━━━━━━━━━━━━━━━━━━━━━━━━━━━━━━━━━━━━━━\u001b[0m \u001b[32m1.6/1.6 MB\u001b[0m \u001b[31m21.2 MB/s\u001b[0m eta \u001b[36m0:00:00\u001b[0m\n",
            "\u001b[?25hInstalling collected packages: neo4j, jedi, yfiles_jupyter_graphs, yfiles_jupyter_graphs_for_neo4j\n",
            "Successfully installed jedi-0.19.2 neo4j-5.28.1 yfiles_jupyter_graphs-1.10.6 yfiles_jupyter_graphs_for_neo4j-1.7.0\n"
          ]
        }
      ],
      "source": [
        "!pip install neo4j yfiles_jupyter_graphs_for_neo4j pandas"
      ]
    },
    {
      "cell_type": "code",
      "source": [
        "from neo4j import GraphDatabase"
      ],
      "metadata": {
        "id": "GYFqJsMZPWe0"
      },
      "execution_count": 2,
      "outputs": []
    },
    {
      "cell_type": "code",
      "source": [
        "from google.colab import userdata\n",
        "neo4j_instance_id = userdata.get('neo4j_instance_id')\n",
        "neo4j_password = userdata.get('neo4j_password')\n",
        "\n",
        "driver = GraphDatabase.driver(f\"neo4j+s://{neo4j_instance_id}.databases.neo4j.io:7687\", auth=(\"neo4j\", neo4j_password))"
      ],
      "metadata": {
        "id": "O0pOvkGHPZc7"
      },
      "execution_count": 3,
      "outputs": []
    },
    {
      "cell_type": "code",
      "source": [
        "def insert_data(tx):\n",
        "    query = \"\"\"\n",
        "    // Create Person nodes\n",
        "      CREATE (alice:Person {name: 'Alice'})\n",
        "      CREATE (bob:Person   {name: 'Bob'})\n",
        "      CREATE (carol:Person {name: 'Carol'})\n",
        "      CREATE (dave:Person  {name: 'Dave'})\n",
        "\n",
        "      // Create Interest nodes\n",
        "      CREATE (reading:Interest  {name: 'Reading'})\n",
        "      CREATE (cooking:Interest  {name: 'Cooking'})\n",
        "      CREATE (cycling:Interest  {name: 'Cycling'})\n",
        "      CREATE (hiking:Interest   {name: 'Hiking'})\n",
        "      CREATE (chess:Interest    {name: 'Chess'})\n",
        "      CREATE (music:Interest    {name: 'Music'})\n",
        "\n",
        "      // Create :LIKES relationships\n",
        "\n",
        "      // Alice likes Reading, Cooking, Chess\n",
        "      CREATE (alice)-[:LIKES]->(reading)\n",
        "      CREATE (alice)-[:LIKES]->(cooking)\n",
        "      CREATE (alice)-[:LIKES]->(chess)\n",
        "\n",
        "      // Bob likes Cooking, Cycling, Music\n",
        "      CREATE (bob)-[:LIKES]->(cooking)\n",
        "      CREATE (bob)-[:LIKES]->(cycling)\n",
        "      CREATE (bob)-[:LIKES]->(music)\n",
        "\n",
        "      // Carol likes Reading, Hiking\n",
        "      CREATE (carol)-[:LIKES]->(reading)\n",
        "      CREATE (carol)-[:LIKES]->(hiking)\n",
        "\n",
        "      // Dave likes Cycling, Chess, Music, Hiking\n",
        "      CREATE (dave)-[:LIKES]->(cycling)\n",
        "      CREATE (dave)-[:LIKES]->(chess)\n",
        "      CREATE (dave)-[:LIKES]->(music)\n",
        "      CREATE (dave)-[:LIKES]->(hiking)\n",
        "      RETURN *\n",
        "    \"\"\"\n",
        "    tx.run(query)\n",
        "\n",
        "with driver.session() as session:\n",
        "    session.execute_write(insert_data)"
      ],
      "metadata": {
        "id": "8jtAghWCPq8Q"
      },
      "execution_count": 4,
      "outputs": []
    },
    {
      "cell_type": "code",
      "source": [
        "from yfiles_jupyter_graphs_for_neo4j import Neo4jGraphWidget\n",
        "\n",
        "g = Neo4jGraphWidget(driver)\n",
        "\n",
        "def show_graph(driver):\n",
        "    query = \"\"\"\n",
        "    MATCH (n)-[r]->(m)\n",
        "    RETURN n, r, m\n",
        "    \"\"\"\n",
        "    g.show_cypher(query)\n",
        "\n",
        "show_graph(driver)"
      ],
      "metadata": {
        "colab": {
          "base_uri": "https://localhost:8080/",
          "height": 667,
          "referenced_widgets": [
            "66406e415a89470f8b567a4ac78f1afc",
            "46f0a0150d294be9b47f12534fcc7a4b"
          ]
        },
        "id": "t8J5nj7a9Ya2",
        "outputId": "4195224b-d203-4f86-ed96-0351d15e1b59"
      },
      "execution_count": 7,
      "outputs": [
        {
          "output_type": "display_data",
          "data": {
            "text/plain": [
              "GraphWidget(layout=Layout(height='650px', width='100%'))"
            ],
            "application/vnd.jupyter.widget-view+json": {
              "version_major": 2,
              "version_minor": 0,
              "model_id": "66406e415a89470f8b567a4ac78f1afc"
            }
          },
          "metadata": {
            "application/vnd.jupyter.widget-view+json": {
              "colab": {
                "custom_widget_manager": {
                  "url": "https://ssl.gstatic.com/colaboratory-static/widgets/colab-cdn-widget-manager/2b70e893a8ba7c0f/manager.min.js"
                }
              }
            }
          }
        }
      ]
    },
    {
      "cell_type": "code",
      "source": [
        "from google.colab import output\n",
        "output.enable_custom_widget_manager()"
      ],
      "metadata": {
        "id": "0ic-PU6p9hKT"
      },
      "execution_count": 6,
      "outputs": []
    },
    {
      "cell_type": "markdown",
      "source": [
        "Support for third party widgets will remain active for the duration of the session. To disable support:"
      ],
      "metadata": {
        "id": "GNm57WYd9hKT"
      }
    },
    {
      "cell_type": "code",
      "source": [
        "from google.colab import output\n",
        "output.disable_custom_widget_manager()"
      ],
      "metadata": {
        "id": "6dTxaTAA9hKT"
      },
      "execution_count": null,
      "outputs": []
    },
    {
      "cell_type": "code",
      "source": [
        "import pandas as pd\n",
        "\n",
        "def show_jaccard_similarity(driver):\n",
        "    query = \"\"\"\n",
        "      MATCH (p1:Person)-[:LIKES]->(i1:Interest),\n",
        "        (p2:Person)-[:LIKES]->(i2:Interest)\n",
        "      WHERE p1 <> p2\n",
        "      WITH p1, p2,\n",
        "          collect(DISTINCT i1.name) AS interests1,\n",
        "          collect(DISTINCT i2.name) AS interests2\n",
        "      WITH p1, p2,\n",
        "          apoc.coll.intersection(interests1, interests2) AS intersection,\n",
        "          apoc.coll.union(interests1, interests2) AS union\n",
        "      RETURN p1.name AS PersonA,\n",
        "            p2.name AS PersonB,\n",
        "            CASE WHEN size(union) = 0 THEN 0\n",
        "                  ELSE size(intersection)*1.0/size(union)\n",
        "            END AS jaccard_similarity\n",
        "      ORDER BY jaccard_similarity DESC;\n",
        "    \"\"\"\n",
        "    with driver.session() as session:\n",
        "        result = session.run(query)\n",
        "        return [record.data() for record in result]\n",
        "\n",
        "results = show_jaccard_similarity(driver)\n",
        "pd.DataFrame(results)"
      ],
      "metadata": {
        "colab": {
          "base_uri": "https://localhost:8080/",
          "height": 426
        },
        "id": "bUtQ7csFVZNZ",
        "outputId": "011b0f3f-c6b9-4463-b88c-7748db8e4736"
      },
      "execution_count": 8,
      "outputs": [
        {
          "output_type": "execute_result",
          "data": {
            "text/plain": [
              "   PersonA PersonB  jaccard_similarity\n",
              "0      Bob    Dave            0.400000\n",
              "1     Dave     Bob            0.400000\n",
              "2    Alice   Carol            0.250000\n",
              "3    Carol   Alice            0.250000\n",
              "4    Alice     Bob            0.200000\n",
              "5      Bob   Alice            0.200000\n",
              "6    Carol    Dave            0.200000\n",
              "7     Dave   Carol            0.200000\n",
              "8    Alice    Dave            0.166667\n",
              "9     Dave   Alice            0.166667\n",
              "10     Bob   Carol            0.000000\n",
              "11   Carol     Bob            0.000000"
            ],
            "text/html": [
              "\n",
              "  <div id=\"df-837c43b6-a3f4-4700-9c47-9bf024d7bd68\" class=\"colab-df-container\">\n",
              "    <div>\n",
              "<style scoped>\n",
              "    .dataframe tbody tr th:only-of-type {\n",
              "        vertical-align: middle;\n",
              "    }\n",
              "\n",
              "    .dataframe tbody tr th {\n",
              "        vertical-align: top;\n",
              "    }\n",
              "\n",
              "    .dataframe thead th {\n",
              "        text-align: right;\n",
              "    }\n",
              "</style>\n",
              "<table border=\"1\" class=\"dataframe\">\n",
              "  <thead>\n",
              "    <tr style=\"text-align: right;\">\n",
              "      <th></th>\n",
              "      <th>PersonA</th>\n",
              "      <th>PersonB</th>\n",
              "      <th>jaccard_similarity</th>\n",
              "    </tr>\n",
              "  </thead>\n",
              "  <tbody>\n",
              "    <tr>\n",
              "      <th>0</th>\n",
              "      <td>Bob</td>\n",
              "      <td>Dave</td>\n",
              "      <td>0.400000</td>\n",
              "    </tr>\n",
              "    <tr>\n",
              "      <th>1</th>\n",
              "      <td>Dave</td>\n",
              "      <td>Bob</td>\n",
              "      <td>0.400000</td>\n",
              "    </tr>\n",
              "    <tr>\n",
              "      <th>2</th>\n",
              "      <td>Alice</td>\n",
              "      <td>Carol</td>\n",
              "      <td>0.250000</td>\n",
              "    </tr>\n",
              "    <tr>\n",
              "      <th>3</th>\n",
              "      <td>Carol</td>\n",
              "      <td>Alice</td>\n",
              "      <td>0.250000</td>\n",
              "    </tr>\n",
              "    <tr>\n",
              "      <th>4</th>\n",
              "      <td>Alice</td>\n",
              "      <td>Bob</td>\n",
              "      <td>0.200000</td>\n",
              "    </tr>\n",
              "    <tr>\n",
              "      <th>5</th>\n",
              "      <td>Bob</td>\n",
              "      <td>Alice</td>\n",
              "      <td>0.200000</td>\n",
              "    </tr>\n",
              "    <tr>\n",
              "      <th>6</th>\n",
              "      <td>Carol</td>\n",
              "      <td>Dave</td>\n",
              "      <td>0.200000</td>\n",
              "    </tr>\n",
              "    <tr>\n",
              "      <th>7</th>\n",
              "      <td>Dave</td>\n",
              "      <td>Carol</td>\n",
              "      <td>0.200000</td>\n",
              "    </tr>\n",
              "    <tr>\n",
              "      <th>8</th>\n",
              "      <td>Alice</td>\n",
              "      <td>Dave</td>\n",
              "      <td>0.166667</td>\n",
              "    </tr>\n",
              "    <tr>\n",
              "      <th>9</th>\n",
              "      <td>Dave</td>\n",
              "      <td>Alice</td>\n",
              "      <td>0.166667</td>\n",
              "    </tr>\n",
              "    <tr>\n",
              "      <th>10</th>\n",
              "      <td>Bob</td>\n",
              "      <td>Carol</td>\n",
              "      <td>0.000000</td>\n",
              "    </tr>\n",
              "    <tr>\n",
              "      <th>11</th>\n",
              "      <td>Carol</td>\n",
              "      <td>Bob</td>\n",
              "      <td>0.000000</td>\n",
              "    </tr>\n",
              "  </tbody>\n",
              "</table>\n",
              "</div>\n",
              "    <div class=\"colab-df-buttons\">\n",
              "\n",
              "  <div class=\"colab-df-container\">\n",
              "    <button class=\"colab-df-convert\" onclick=\"convertToInteractive('df-837c43b6-a3f4-4700-9c47-9bf024d7bd68')\"\n",
              "            title=\"Convert this dataframe to an interactive table.\"\n",
              "            style=\"display:none;\">\n",
              "\n",
              "  <svg xmlns=\"http://www.w3.org/2000/svg\" height=\"24px\" viewBox=\"0 -960 960 960\">\n",
              "    <path d=\"M120-120v-720h720v720H120Zm60-500h600v-160H180v160Zm220 220h160v-160H400v160Zm0 220h160v-160H400v160ZM180-400h160v-160H180v160Zm440 0h160v-160H620v160ZM180-180h160v-160H180v160Zm440 0h160v-160H620v160Z\"/>\n",
              "  </svg>\n",
              "    </button>\n",
              "\n",
              "  <style>\n",
              "    .colab-df-container {\n",
              "      display:flex;\n",
              "      gap: 12px;\n",
              "    }\n",
              "\n",
              "    .colab-df-convert {\n",
              "      background-color: #E8F0FE;\n",
              "      border: none;\n",
              "      border-radius: 50%;\n",
              "      cursor: pointer;\n",
              "      display: none;\n",
              "      fill: #1967D2;\n",
              "      height: 32px;\n",
              "      padding: 0 0 0 0;\n",
              "      width: 32px;\n",
              "    }\n",
              "\n",
              "    .colab-df-convert:hover {\n",
              "      background-color: #E2EBFA;\n",
              "      box-shadow: 0px 1px 2px rgba(60, 64, 67, 0.3), 0px 1px 3px 1px rgba(60, 64, 67, 0.15);\n",
              "      fill: #174EA6;\n",
              "    }\n",
              "\n",
              "    .colab-df-buttons div {\n",
              "      margin-bottom: 4px;\n",
              "    }\n",
              "\n",
              "    [theme=dark] .colab-df-convert {\n",
              "      background-color: #3B4455;\n",
              "      fill: #D2E3FC;\n",
              "    }\n",
              "\n",
              "    [theme=dark] .colab-df-convert:hover {\n",
              "      background-color: #434B5C;\n",
              "      box-shadow: 0px 1px 3px 1px rgba(0, 0, 0, 0.15);\n",
              "      filter: drop-shadow(0px 1px 2px rgba(0, 0, 0, 0.3));\n",
              "      fill: #FFFFFF;\n",
              "    }\n",
              "  </style>\n",
              "\n",
              "    <script>\n",
              "      const buttonEl =\n",
              "        document.querySelector('#df-837c43b6-a3f4-4700-9c47-9bf024d7bd68 button.colab-df-convert');\n",
              "      buttonEl.style.display =\n",
              "        google.colab.kernel.accessAllowed ? 'block' : 'none';\n",
              "\n",
              "      async function convertToInteractive(key) {\n",
              "        const element = document.querySelector('#df-837c43b6-a3f4-4700-9c47-9bf024d7bd68');\n",
              "        const dataTable =\n",
              "          await google.colab.kernel.invokeFunction('convertToInteractive',\n",
              "                                                    [key], {});\n",
              "        if (!dataTable) return;\n",
              "\n",
              "        const docLinkHtml = 'Like what you see? Visit the ' +\n",
              "          '<a target=\"_blank\" href=https://colab.research.google.com/notebooks/data_table.ipynb>data table notebook</a>'\n",
              "          + ' to learn more about interactive tables.';\n",
              "        element.innerHTML = '';\n",
              "        dataTable['output_type'] = 'display_data';\n",
              "        await google.colab.output.renderOutput(dataTable, element);\n",
              "        const docLink = document.createElement('div');\n",
              "        docLink.innerHTML = docLinkHtml;\n",
              "        element.appendChild(docLink);\n",
              "      }\n",
              "    </script>\n",
              "  </div>\n",
              "\n",
              "\n",
              "    <div id=\"df-c5a9eff4-7c71-4507-b2ae-9bbcab68df9d\">\n",
              "      <button class=\"colab-df-quickchart\" onclick=\"quickchart('df-c5a9eff4-7c71-4507-b2ae-9bbcab68df9d')\"\n",
              "                title=\"Suggest charts\"\n",
              "                style=\"display:none;\">\n",
              "\n",
              "<svg xmlns=\"http://www.w3.org/2000/svg\" height=\"24px\"viewBox=\"0 0 24 24\"\n",
              "     width=\"24px\">\n",
              "    <g>\n",
              "        <path d=\"M19 3H5c-1.1 0-2 .9-2 2v14c0 1.1.9 2 2 2h14c1.1 0 2-.9 2-2V5c0-1.1-.9-2-2-2zM9 17H7v-7h2v7zm4 0h-2V7h2v10zm4 0h-2v-4h2v4z\"/>\n",
              "    </g>\n",
              "</svg>\n",
              "      </button>\n",
              "\n",
              "<style>\n",
              "  .colab-df-quickchart {\n",
              "      --bg-color: #E8F0FE;\n",
              "      --fill-color: #1967D2;\n",
              "      --hover-bg-color: #E2EBFA;\n",
              "      --hover-fill-color: #174EA6;\n",
              "      --disabled-fill-color: #AAA;\n",
              "      --disabled-bg-color: #DDD;\n",
              "  }\n",
              "\n",
              "  [theme=dark] .colab-df-quickchart {\n",
              "      --bg-color: #3B4455;\n",
              "      --fill-color: #D2E3FC;\n",
              "      --hover-bg-color: #434B5C;\n",
              "      --hover-fill-color: #FFFFFF;\n",
              "      --disabled-bg-color: #3B4455;\n",
              "      --disabled-fill-color: #666;\n",
              "  }\n",
              "\n",
              "  .colab-df-quickchart {\n",
              "    background-color: var(--bg-color);\n",
              "    border: none;\n",
              "    border-radius: 50%;\n",
              "    cursor: pointer;\n",
              "    display: none;\n",
              "    fill: var(--fill-color);\n",
              "    height: 32px;\n",
              "    padding: 0;\n",
              "    width: 32px;\n",
              "  }\n",
              "\n",
              "  .colab-df-quickchart:hover {\n",
              "    background-color: var(--hover-bg-color);\n",
              "    box-shadow: 0 1px 2px rgba(60, 64, 67, 0.3), 0 1px 3px 1px rgba(60, 64, 67, 0.15);\n",
              "    fill: var(--button-hover-fill-color);\n",
              "  }\n",
              "\n",
              "  .colab-df-quickchart-complete:disabled,\n",
              "  .colab-df-quickchart-complete:disabled:hover {\n",
              "    background-color: var(--disabled-bg-color);\n",
              "    fill: var(--disabled-fill-color);\n",
              "    box-shadow: none;\n",
              "  }\n",
              "\n",
              "  .colab-df-spinner {\n",
              "    border: 2px solid var(--fill-color);\n",
              "    border-color: transparent;\n",
              "    border-bottom-color: var(--fill-color);\n",
              "    animation:\n",
              "      spin 1s steps(1) infinite;\n",
              "  }\n",
              "\n",
              "  @keyframes spin {\n",
              "    0% {\n",
              "      border-color: transparent;\n",
              "      border-bottom-color: var(--fill-color);\n",
              "      border-left-color: var(--fill-color);\n",
              "    }\n",
              "    20% {\n",
              "      border-color: transparent;\n",
              "      border-left-color: var(--fill-color);\n",
              "      border-top-color: var(--fill-color);\n",
              "    }\n",
              "    30% {\n",
              "      border-color: transparent;\n",
              "      border-left-color: var(--fill-color);\n",
              "      border-top-color: var(--fill-color);\n",
              "      border-right-color: var(--fill-color);\n",
              "    }\n",
              "    40% {\n",
              "      border-color: transparent;\n",
              "      border-right-color: var(--fill-color);\n",
              "      border-top-color: var(--fill-color);\n",
              "    }\n",
              "    60% {\n",
              "      border-color: transparent;\n",
              "      border-right-color: var(--fill-color);\n",
              "    }\n",
              "    80% {\n",
              "      border-color: transparent;\n",
              "      border-right-color: var(--fill-color);\n",
              "      border-bottom-color: var(--fill-color);\n",
              "    }\n",
              "    90% {\n",
              "      border-color: transparent;\n",
              "      border-bottom-color: var(--fill-color);\n",
              "    }\n",
              "  }\n",
              "</style>\n",
              "\n",
              "      <script>\n",
              "        async function quickchart(key) {\n",
              "          const quickchartButtonEl =\n",
              "            document.querySelector('#' + key + ' button');\n",
              "          quickchartButtonEl.disabled = true;  // To prevent multiple clicks.\n",
              "          quickchartButtonEl.classList.add('colab-df-spinner');\n",
              "          try {\n",
              "            const charts = await google.colab.kernel.invokeFunction(\n",
              "                'suggestCharts', [key], {});\n",
              "          } catch (error) {\n",
              "            console.error('Error during call to suggestCharts:', error);\n",
              "          }\n",
              "          quickchartButtonEl.classList.remove('colab-df-spinner');\n",
              "          quickchartButtonEl.classList.add('colab-df-quickchart-complete');\n",
              "        }\n",
              "        (() => {\n",
              "          let quickchartButtonEl =\n",
              "            document.querySelector('#df-c5a9eff4-7c71-4507-b2ae-9bbcab68df9d button');\n",
              "          quickchartButtonEl.style.display =\n",
              "            google.colab.kernel.accessAllowed ? 'block' : 'none';\n",
              "        })();\n",
              "      </script>\n",
              "    </div>\n",
              "\n",
              "    </div>\n",
              "  </div>\n"
            ],
            "application/vnd.google.colaboratory.intrinsic+json": {
              "type": "dataframe",
              "summary": "{\n  \"name\": \"pd\",\n  \"rows\": 12,\n  \"fields\": [\n    {\n      \"column\": \"PersonA\",\n      \"properties\": {\n        \"dtype\": \"category\",\n        \"num_unique_values\": 4,\n        \"samples\": [\n          \"Dave\",\n          \"Carol\",\n          \"Bob\"\n        ],\n        \"semantic_type\": \"\",\n        \"description\": \"\"\n      }\n    },\n    {\n      \"column\": \"PersonB\",\n      \"properties\": {\n        \"dtype\": \"category\",\n        \"num_unique_values\": 4,\n        \"samples\": [\n          \"Bob\",\n          \"Alice\",\n          \"Dave\"\n        ],\n        \"semantic_type\": \"\",\n        \"description\": \"\"\n      }\n    },\n    {\n      \"column\": \"jaccard_similarity\",\n      \"properties\": {\n        \"dtype\": \"number\",\n        \"std\": 0.12326233282557446,\n        \"min\": 0.0,\n        \"max\": 0.4,\n        \"num_unique_values\": 5,\n        \"samples\": [\n          0.25,\n          0.0,\n          0.2\n        ],\n        \"semantic_type\": \"\",\n        \"description\": \"\"\n      }\n    }\n  ]\n}"
            }
          },
          "metadata": {},
          "execution_count": 8
        }
      ]
    },
    {
      "cell_type": "code",
      "source": [
        "def clear_graph(tx):\n",
        "    query = \"\"\"\n",
        "    MATCH (n)\n",
        "    DETACH DELETE n\n",
        "    \"\"\"\n",
        "    tx.run(query)\n",
        "\n",
        "with driver.session() as session:\n",
        "    session.execute_write(clear_graph)"
      ],
      "metadata": {
        "id": "VfbYf1xVkDjL"
      },
      "execution_count": 9,
      "outputs": []
    }
  ]
}