{
  "nbformat": 4,
  "nbformat_minor": 0,
  "metadata": {
    "colab": {
      "provenance": []
    },
    "kernelspec": {
      "name": "python3",
      "display_name": "Python 3"
    },
    "language_info": {
      "name": "python"
    },
    "widgets": {
      "application/vnd.jupyter.widget-state+json": {
        "7d5b3f2589b446e69ec36fd5047ac22a": {
          "model_module": "yfiles-jupyter-graphs",
          "model_name": "GraphModel",
          "model_module_version": "^1.10.6",
          "state": {
            "_context_pane_mapping": [
              {
                "id": "Neighborhood",
                "title": "Neighborhood"
              },
              {
                "id": "Data",
                "title": "Data"
              },
              {
                "id": "Search",
                "title": "Search"
              },
              {
                "id": "About",
                "title": "About"
              }
            ],
            "_data_importer": "neo4j",
            "_directed": true,
            "_dom_classes": [],
            "_edges": [
              {
                "id": 1152921504606847000,
                "start": 0,
                "end": 1,
                "properties": {
                  "label": "MADE"
                },
                "color": "#F44336",
                "thickness_factor": 1,
                "directed": true,
                "styles": {},
                "label": "MADE"
              }
            ],
            "_graph_layout": {
              "algorithm": "organic",
              "options": {}
            },
            "_highlight": [],
            "_license": {},
            "_model_module": "yfiles-jupyter-graphs",
            "_model_module_version": "^1.10.6",
            "_model_name": "GraphModel",
            "_neighborhood": {},
            "_nodes": [
              {
                "id": 0,
                "properties": {
                  "balance": 1200,
                  "name": "Walt Whitman",
                  "id": "ACC123456",
                  "type": "Checking",
                  "label": "Account"
                },
                "color": "#2196F3",
                "styles": {},
                "label": "Walt Whitman",
                "scale_factor": 1,
                "type": "#2196F3",
                "size": [
                  55,
                  55
                ],
                "position": [
                  0,
                  0
                ]
              },
              {
                "id": 1,
                "properties": {
                  "datetime": "2024-08-25 14:32",
                  "amount": 150.75,
                  "merchant": "ABC Store",
                  "location": "New York, NY",
                  "id": "1234567890",
                  "type": "Purchase",
                  "label": "Transaction"
                },
                "color": "#4CAF50",
                "styles": {},
                "label": "Transaction",
                "scale_factor": 1,
                "type": "#4CAF50",
                "size": [
                  55,
                  55
                ],
                "position": [
                  0,
                  0
                ]
              }
            ],
            "_overview": {
              "enabled": null,
              "overview_set": false
            },
            "_selected_graph": [],
            "_sidebar": {
              "enabled": false,
              "start_with": null
            },
            "_view_count": null,
            "_view_module": "yfiles-jupyter-graphs",
            "_view_module_version": "^1.10.6",
            "_view_name": "GraphView",
            "layout": "IPY_MODEL_4e18cc087d45490fb5c49398856ae1f0"
          }
        },
        "a32af8b5506844059528a539cc7059db": {
          "model_module": "yfiles-jupyter-graphs",
          "model_name": "GraphModel",
          "model_module_version": "^1.10.6",
          "state": {
            "_context_pane_mapping": [
              {
                "id": "Neighborhood",
                "title": "Neighborhood"
              },
              {
                "id": "Data",
                "title": "Data"
              },
              {
                "id": "Search",
                "title": "Search"
              },
              {
                "id": "About",
                "title": "About"
              }
            ],
            "_data_importer": "neo4j",
            "_directed": true,
            "_dom_classes": [],
            "_edges": [],
            "_graph_layout": {
              "algorithm": "organic",
              "options": {}
            },
            "_highlight": [],
            "_license": {},
            "_model_module": "yfiles-jupyter-graphs",
            "_model_module_version": "^1.10.6",
            "_model_name": "GraphModel",
            "_neighborhood": {},
            "_nodes": [
              {
                "id": 1,
                "properties": {
                  "datetime": "2024-08-25 14:32",
                  "amount": 150.75,
                  "merchant": "ABC Store",
                  "location": "New York, NY",
                  "id": "1234567890",
                  "type": "Purchase",
                  "label": "Transaction"
                },
                "color": "#2196F3",
                "styles": {},
                "label": "Transaction",
                "scale_factor": 1,
                "type": "#2196F3",
                "size": [
                  55,
                  55
                ],
                "position": [
                  0,
                  0
                ]
              }
            ],
            "_overview": {
              "enabled": null,
              "overview_set": false
            },
            "_selected_graph": [
              [],
              []
            ],
            "_sidebar": {
              "enabled": false,
              "start_with": null
            },
            "_view_count": null,
            "_view_module": "yfiles-jupyter-graphs",
            "_view_module_version": "^1.10.6",
            "_view_name": "GraphView",
            "layout": "IPY_MODEL_a22684625f38442d8b883f12c35b18f9"
          }
        },
        "a22684625f38442d8b883f12c35b18f9": {
          "model_module": "@jupyter-widgets/base",
          "model_name": "LayoutModel",
          "model_module_version": "1.2.0",
          "state": {
            "_model_module": "@jupyter-widgets/base",
            "_model_module_version": "1.2.0",
            "_model_name": "LayoutModel",
            "_view_count": null,
            "_view_module": "@jupyter-widgets/base",
            "_view_module_version": "1.2.0",
            "_view_name": "LayoutView",
            "align_content": null,
            "align_items": null,
            "align_self": null,
            "border": null,
            "bottom": null,
            "display": null,
            "flex": null,
            "flex_flow": null,
            "grid_area": null,
            "grid_auto_columns": null,
            "grid_auto_flow": null,
            "grid_auto_rows": null,
            "grid_column": null,
            "grid_gap": null,
            "grid_row": null,
            "grid_template_areas": null,
            "grid_template_columns": null,
            "grid_template_rows": null,
            "height": "500px",
            "justify_content": null,
            "justify_items": null,
            "left": null,
            "margin": null,
            "max_height": null,
            "max_width": null,
            "min_height": null,
            "min_width": null,
            "object_fit": null,
            "object_position": null,
            "order": null,
            "overflow": null,
            "overflow_x": null,
            "overflow_y": null,
            "padding": null,
            "right": null,
            "top": null,
            "visibility": null,
            "width": "100%"
          }
        },
        "5d4473e784ff4d88a9daf236132c1b18": {
          "model_module": "yfiles-jupyter-graphs",
          "model_name": "GraphModel",
          "model_module_version": "^1.10.6",
          "state": {
            "_context_pane_mapping": [
              {
                "id": "Neighborhood",
                "title": "Neighborhood"
              },
              {
                "id": "Data",
                "title": "Data"
              },
              {
                "id": "Search",
                "title": "Search"
              },
              {
                "id": "About",
                "title": "About"
              }
            ],
            "_data_importer": "neo4j",
            "_directed": true,
            "_dom_classes": [],
            "_edges": [
              {
                "id": 1152921504606847000,
                "start": 0,
                "end": 1,
                "properties": {
                  "label": "MADE"
                },
                "color": "#F44336",
                "thickness_factor": 1,
                "directed": true,
                "styles": {},
                "label": "MADE"
              }
            ],
            "_graph_layout": {
              "algorithm": "organic",
              "options": {}
            },
            "_highlight": [],
            "_license": {},
            "_model_module": "yfiles-jupyter-graphs",
            "_model_module_version": "^1.10.6",
            "_model_name": "GraphModel",
            "_neighborhood": {},
            "_nodes": [
              {
                "id": 0,
                "properties": {
                  "balance": 1200,
                  "name": "Walt Whitman",
                  "id": "ACC123456",
                  "type": "Checking",
                  "label": "Account"
                },
                "color": "#2196F3",
                "styles": {},
                "label": "Walt Whitman",
                "scale_factor": 1,
                "type": "#2196F3",
                "size": [
                  55,
                  55
                ],
                "position": [
                  0,
                  0
                ]
              },
              {
                "id": 1,
                "properties": {
                  "datetime": "2024-08-25 14:32",
                  "amount": 150.75,
                  "merchant": "ABC Store",
                  "location": "New York, NY",
                  "id": "1234567890",
                  "type": "Purchase",
                  "label": "Transaction"
                },
                "color": "#4CAF50",
                "styles": {},
                "label": "Transaction",
                "scale_factor": 1,
                "type": "#4CAF50",
                "size": [
                  55,
                  55
                ],
                "position": [
                  0,
                  0
                ]
              }
            ],
            "_overview": {
              "enabled": null,
              "overview_set": false
            },
            "_selected_graph": [
              [],
              []
            ],
            "_sidebar": {
              "enabled": false,
              "start_with": null
            },
            "_view_count": null,
            "_view_module": "yfiles-jupyter-graphs",
            "_view_module_version": "^1.10.6",
            "_view_name": "GraphView",
            "layout": "IPY_MODEL_7b49b2733c484a67947cfc5ea3401efc"
          }
        },
        "7b49b2733c484a67947cfc5ea3401efc": {
          "model_module": "@jupyter-widgets/base",
          "model_name": "LayoutModel",
          "model_module_version": "1.2.0",
          "state": {
            "_model_module": "@jupyter-widgets/base",
            "_model_module_version": "1.2.0",
            "_model_name": "LayoutModel",
            "_view_count": null,
            "_view_module": "@jupyter-widgets/base",
            "_view_module_version": "1.2.0",
            "_view_name": "LayoutView",
            "align_content": null,
            "align_items": null,
            "align_self": null,
            "border": null,
            "bottom": null,
            "display": null,
            "flex": null,
            "flex_flow": null,
            "grid_area": null,
            "grid_auto_columns": null,
            "grid_auto_flow": null,
            "grid_auto_rows": null,
            "grid_column": null,
            "grid_gap": null,
            "grid_row": null,
            "grid_template_areas": null,
            "grid_template_columns": null,
            "grid_template_rows": null,
            "height": "500px",
            "justify_content": null,
            "justify_items": null,
            "left": null,
            "margin": null,
            "max_height": null,
            "max_width": null,
            "min_height": null,
            "min_width": null,
            "object_fit": null,
            "object_position": null,
            "order": null,
            "overflow": null,
            "overflow_x": null,
            "overflow_y": null,
            "padding": null,
            "right": null,
            "top": null,
            "visibility": null,
            "width": "100%"
          }
        }
      }
    }
  },
  "cells": [
    {
      "cell_type": "markdown",
      "source": [
        "This notebook assumes that you have a running instance of Neo4J Aura. You can create a free one by heading over to https://neo4j.com/\n",
        "\n",
        "Once you have your instance, save its id as `neo4j_instance_id` and its password as `neo4j_password` as Colab secrets and grant this notebook access to said secrets."
      ],
      "metadata": {
        "id": "bF-Y9abiv1Mb"
      }
    },
    {
      "cell_type": "code",
      "execution_count": 1,
      "metadata": {
        "colab": {
          "base_uri": "https://localhost:8080/"
        },
        "id": "qKh8_uk8hkgb",
        "outputId": "5616cc88-cd5d-40be-c962-1a40e74297bc"
      },
      "outputs": [
        {
          "output_type": "stream",
          "name": "stdout",
          "text": [
            "Collecting neo4j\n",
            "  Downloading neo4j-5.28.1-py3-none-any.whl.metadata (5.9 kB)\n",
            "Collecting yfiles_jupyter_graphs_for_neo4j\n",
            "  Downloading yfiles_jupyter_graphs_for_neo4j-1.7.0-py3-none-any.whl.metadata (18 kB)\n",
            "Requirement already satisfied: pytz in /usr/local/lib/python3.11/dist-packages (from neo4j) (2025.2)\n",
            "Collecting yfiles_jupyter_graphs>=1.10.0 (from yfiles_jupyter_graphs_for_neo4j)\n",
            "  Downloading yfiles_jupyter_graphs-1.10.6-py3-none-any.whl.metadata (21 kB)\n",
            "Requirement already satisfied: ipywidgets>=7.6.0 in /usr/local/lib/python3.11/dist-packages (from yfiles_jupyter_graphs>=1.10.0->yfiles_jupyter_graphs_for_neo4j) (7.7.1)\n",
            "Requirement already satisfied: ipykernel>=4.5.1 in /usr/local/lib/python3.11/dist-packages (from ipywidgets>=7.6.0->yfiles_jupyter_graphs>=1.10.0->yfiles_jupyter_graphs_for_neo4j) (6.17.1)\n",
            "Requirement already satisfied: ipython-genutils~=0.2.0 in /usr/local/lib/python3.11/dist-packages (from ipywidgets>=7.6.0->yfiles_jupyter_graphs>=1.10.0->yfiles_jupyter_graphs_for_neo4j) (0.2.0)\n",
            "Requirement already satisfied: traitlets>=4.3.1 in /usr/local/lib/python3.11/dist-packages (from ipywidgets>=7.6.0->yfiles_jupyter_graphs>=1.10.0->yfiles_jupyter_graphs_for_neo4j) (5.7.1)\n",
            "Requirement already satisfied: widgetsnbextension~=3.6.0 in /usr/local/lib/python3.11/dist-packages (from ipywidgets>=7.6.0->yfiles_jupyter_graphs>=1.10.0->yfiles_jupyter_graphs_for_neo4j) (3.6.10)\n",
            "Requirement already satisfied: ipython>=4.0.0 in /usr/local/lib/python3.11/dist-packages (from ipywidgets>=7.6.0->yfiles_jupyter_graphs>=1.10.0->yfiles_jupyter_graphs_for_neo4j) (7.34.0)\n",
            "Requirement already satisfied: jupyterlab-widgets>=1.0.0 in /usr/local/lib/python3.11/dist-packages (from ipywidgets>=7.6.0->yfiles_jupyter_graphs>=1.10.0->yfiles_jupyter_graphs_for_neo4j) (3.0.15)\n",
            "Requirement already satisfied: debugpy>=1.0 in /usr/local/lib/python3.11/dist-packages (from ipykernel>=4.5.1->ipywidgets>=7.6.0->yfiles_jupyter_graphs>=1.10.0->yfiles_jupyter_graphs_for_neo4j) (1.8.0)\n",
            "Requirement already satisfied: jupyter-client>=6.1.12 in /usr/local/lib/python3.11/dist-packages (from ipykernel>=4.5.1->ipywidgets>=7.6.0->yfiles_jupyter_graphs>=1.10.0->yfiles_jupyter_graphs_for_neo4j) (6.1.12)\n",
            "Requirement already satisfied: matplotlib-inline>=0.1 in /usr/local/lib/python3.11/dist-packages (from ipykernel>=4.5.1->ipywidgets>=7.6.0->yfiles_jupyter_graphs>=1.10.0->yfiles_jupyter_graphs_for_neo4j) (0.1.7)\n",
            "Requirement already satisfied: nest-asyncio in /usr/local/lib/python3.11/dist-packages (from ipykernel>=4.5.1->ipywidgets>=7.6.0->yfiles_jupyter_graphs>=1.10.0->yfiles_jupyter_graphs_for_neo4j) (1.6.0)\n",
            "Requirement already satisfied: packaging in /usr/local/lib/python3.11/dist-packages (from ipykernel>=4.5.1->ipywidgets>=7.6.0->yfiles_jupyter_graphs>=1.10.0->yfiles_jupyter_graphs_for_neo4j) (24.2)\n",
            "Requirement already satisfied: psutil in /usr/local/lib/python3.11/dist-packages (from ipykernel>=4.5.1->ipywidgets>=7.6.0->yfiles_jupyter_graphs>=1.10.0->yfiles_jupyter_graphs_for_neo4j) (5.9.5)\n",
            "Requirement already satisfied: pyzmq>=17 in /usr/local/lib/python3.11/dist-packages (from ipykernel>=4.5.1->ipywidgets>=7.6.0->yfiles_jupyter_graphs>=1.10.0->yfiles_jupyter_graphs_for_neo4j) (24.0.1)\n",
            "Requirement already satisfied: tornado>=6.1 in /usr/local/lib/python3.11/dist-packages (from ipykernel>=4.5.1->ipywidgets>=7.6.0->yfiles_jupyter_graphs>=1.10.0->yfiles_jupyter_graphs_for_neo4j) (6.4.2)\n",
            "Requirement already satisfied: setuptools>=18.5 in /usr/local/lib/python3.11/dist-packages (from ipython>=4.0.0->ipywidgets>=7.6.0->yfiles_jupyter_graphs>=1.10.0->yfiles_jupyter_graphs_for_neo4j) (75.2.0)\n",
            "Collecting jedi>=0.16 (from ipython>=4.0.0->ipywidgets>=7.6.0->yfiles_jupyter_graphs>=1.10.0->yfiles_jupyter_graphs_for_neo4j)\n",
            "  Downloading jedi-0.19.2-py2.py3-none-any.whl.metadata (22 kB)\n",
            "Requirement already satisfied: decorator in /usr/local/lib/python3.11/dist-packages (from ipython>=4.0.0->ipywidgets>=7.6.0->yfiles_jupyter_graphs>=1.10.0->yfiles_jupyter_graphs_for_neo4j) (4.4.2)\n",
            "Requirement already satisfied: pickleshare in /usr/local/lib/python3.11/dist-packages (from ipython>=4.0.0->ipywidgets>=7.6.0->yfiles_jupyter_graphs>=1.10.0->yfiles_jupyter_graphs_for_neo4j) (0.7.5)\n",
            "Requirement already satisfied: prompt-toolkit!=3.0.0,!=3.0.1,<3.1.0,>=2.0.0 in /usr/local/lib/python3.11/dist-packages (from ipython>=4.0.0->ipywidgets>=7.6.0->yfiles_jupyter_graphs>=1.10.0->yfiles_jupyter_graphs_for_neo4j) (3.0.51)\n",
            "Requirement already satisfied: pygments in /usr/local/lib/python3.11/dist-packages (from ipython>=4.0.0->ipywidgets>=7.6.0->yfiles_jupyter_graphs>=1.10.0->yfiles_jupyter_graphs_for_neo4j) (2.19.1)\n",
            "Requirement already satisfied: backcall in /usr/local/lib/python3.11/dist-packages (from ipython>=4.0.0->ipywidgets>=7.6.0->yfiles_jupyter_graphs>=1.10.0->yfiles_jupyter_graphs_for_neo4j) (0.2.0)\n",
            "Requirement already satisfied: pexpect>4.3 in /usr/local/lib/python3.11/dist-packages (from ipython>=4.0.0->ipywidgets>=7.6.0->yfiles_jupyter_graphs>=1.10.0->yfiles_jupyter_graphs_for_neo4j) (4.9.0)\n",
            "Requirement already satisfied: notebook>=4.4.1 in /usr/local/lib/python3.11/dist-packages (from widgetsnbextension~=3.6.0->ipywidgets>=7.6.0->yfiles_jupyter_graphs>=1.10.0->yfiles_jupyter_graphs_for_neo4j) (6.5.7)\n",
            "Requirement already satisfied: parso<0.9.0,>=0.8.4 in /usr/local/lib/python3.11/dist-packages (from jedi>=0.16->ipython>=4.0.0->ipywidgets>=7.6.0->yfiles_jupyter_graphs>=1.10.0->yfiles_jupyter_graphs_for_neo4j) (0.8.4)\n",
            "Requirement already satisfied: jupyter-core>=4.6.0 in /usr/local/lib/python3.11/dist-packages (from jupyter-client>=6.1.12->ipykernel>=4.5.1->ipywidgets>=7.6.0->yfiles_jupyter_graphs>=1.10.0->yfiles_jupyter_graphs_for_neo4j) (5.7.2)\n",
            "Requirement already satisfied: python-dateutil>=2.1 in /usr/local/lib/python3.11/dist-packages (from jupyter-client>=6.1.12->ipykernel>=4.5.1->ipywidgets>=7.6.0->yfiles_jupyter_graphs>=1.10.0->yfiles_jupyter_graphs_for_neo4j) (2.9.0.post0)\n",
            "Requirement already satisfied: jinja2 in /usr/local/lib/python3.11/dist-packages (from notebook>=4.4.1->widgetsnbextension~=3.6.0->ipywidgets>=7.6.0->yfiles_jupyter_graphs>=1.10.0->yfiles_jupyter_graphs_for_neo4j) (3.1.6)\n",
            "Requirement already satisfied: argon2-cffi in /usr/local/lib/python3.11/dist-packages (from notebook>=4.4.1->widgetsnbextension~=3.6.0->ipywidgets>=7.6.0->yfiles_jupyter_graphs>=1.10.0->yfiles_jupyter_graphs_for_neo4j) (23.1.0)\n",
            "Requirement already satisfied: nbformat in /usr/local/lib/python3.11/dist-packages (from notebook>=4.4.1->widgetsnbextension~=3.6.0->ipywidgets>=7.6.0->yfiles_jupyter_graphs>=1.10.0->yfiles_jupyter_graphs_for_neo4j) (5.10.4)\n",
            "Requirement already satisfied: nbconvert>=5 in /usr/local/lib/python3.11/dist-packages (from notebook>=4.4.1->widgetsnbextension~=3.6.0->ipywidgets>=7.6.0->yfiles_jupyter_graphs>=1.10.0->yfiles_jupyter_graphs_for_neo4j) (7.16.6)\n",
            "Requirement already satisfied: Send2Trash>=1.8.0 in /usr/local/lib/python3.11/dist-packages (from notebook>=4.4.1->widgetsnbextension~=3.6.0->ipywidgets>=7.6.0->yfiles_jupyter_graphs>=1.10.0->yfiles_jupyter_graphs_for_neo4j) (1.8.3)\n",
            "Requirement already satisfied: terminado>=0.8.3 in /usr/local/lib/python3.11/dist-packages (from notebook>=4.4.1->widgetsnbextension~=3.6.0->ipywidgets>=7.6.0->yfiles_jupyter_graphs>=1.10.0->yfiles_jupyter_graphs_for_neo4j) (0.18.1)\n",
            "Requirement already satisfied: prometheus-client in /usr/local/lib/python3.11/dist-packages (from notebook>=4.4.1->widgetsnbextension~=3.6.0->ipywidgets>=7.6.0->yfiles_jupyter_graphs>=1.10.0->yfiles_jupyter_graphs_for_neo4j) (0.22.0)\n",
            "Requirement already satisfied: nbclassic>=0.4.7 in /usr/local/lib/python3.11/dist-packages (from notebook>=4.4.1->widgetsnbextension~=3.6.0->ipywidgets>=7.6.0->yfiles_jupyter_graphs>=1.10.0->yfiles_jupyter_graphs_for_neo4j) (1.3.1)\n",
            "Requirement already satisfied: ptyprocess>=0.5 in /usr/local/lib/python3.11/dist-packages (from pexpect>4.3->ipython>=4.0.0->ipywidgets>=7.6.0->yfiles_jupyter_graphs>=1.10.0->yfiles_jupyter_graphs_for_neo4j) (0.7.0)\n",
            "Requirement already satisfied: wcwidth in /usr/local/lib/python3.11/dist-packages (from prompt-toolkit!=3.0.0,!=3.0.1,<3.1.0,>=2.0.0->ipython>=4.0.0->ipywidgets>=7.6.0->yfiles_jupyter_graphs>=1.10.0->yfiles_jupyter_graphs_for_neo4j) (0.2.13)\n",
            "Requirement already satisfied: platformdirs>=2.5 in /usr/local/lib/python3.11/dist-packages (from jupyter-core>=4.6.0->jupyter-client>=6.1.12->ipykernel>=4.5.1->ipywidgets>=7.6.0->yfiles_jupyter_graphs>=1.10.0->yfiles_jupyter_graphs_for_neo4j) (4.3.8)\n",
            "Requirement already satisfied: notebook-shim>=0.2.3 in /usr/local/lib/python3.11/dist-packages (from nbclassic>=0.4.7->notebook>=4.4.1->widgetsnbextension~=3.6.0->ipywidgets>=7.6.0->yfiles_jupyter_graphs>=1.10.0->yfiles_jupyter_graphs_for_neo4j) (0.2.4)\n",
            "Requirement already satisfied: beautifulsoup4 in /usr/local/lib/python3.11/dist-packages (from nbconvert>=5->notebook>=4.4.1->widgetsnbextension~=3.6.0->ipywidgets>=7.6.0->yfiles_jupyter_graphs>=1.10.0->yfiles_jupyter_graphs_for_neo4j) (4.13.4)\n",
            "Requirement already satisfied: bleach!=5.0.0 in /usr/local/lib/python3.11/dist-packages (from bleach[css]!=5.0.0->nbconvert>=5->notebook>=4.4.1->widgetsnbextension~=3.6.0->ipywidgets>=7.6.0->yfiles_jupyter_graphs>=1.10.0->yfiles_jupyter_graphs_for_neo4j) (6.2.0)\n",
            "Requirement already satisfied: defusedxml in /usr/local/lib/python3.11/dist-packages (from nbconvert>=5->notebook>=4.4.1->widgetsnbextension~=3.6.0->ipywidgets>=7.6.0->yfiles_jupyter_graphs>=1.10.0->yfiles_jupyter_graphs_for_neo4j) (0.7.1)\n",
            "Requirement already satisfied: jupyterlab-pygments in /usr/local/lib/python3.11/dist-packages (from nbconvert>=5->notebook>=4.4.1->widgetsnbextension~=3.6.0->ipywidgets>=7.6.0->yfiles_jupyter_graphs>=1.10.0->yfiles_jupyter_graphs_for_neo4j) (0.3.0)\n",
            "Requirement already satisfied: markupsafe>=2.0 in /usr/local/lib/python3.11/dist-packages (from nbconvert>=5->notebook>=4.4.1->widgetsnbextension~=3.6.0->ipywidgets>=7.6.0->yfiles_jupyter_graphs>=1.10.0->yfiles_jupyter_graphs_for_neo4j) (3.0.2)\n",
            "Requirement already satisfied: mistune<4,>=2.0.3 in /usr/local/lib/python3.11/dist-packages (from nbconvert>=5->notebook>=4.4.1->widgetsnbextension~=3.6.0->ipywidgets>=7.6.0->yfiles_jupyter_graphs>=1.10.0->yfiles_jupyter_graphs_for_neo4j) (3.1.3)\n",
            "Requirement already satisfied: nbclient>=0.5.0 in /usr/local/lib/python3.11/dist-packages (from nbconvert>=5->notebook>=4.4.1->widgetsnbextension~=3.6.0->ipywidgets>=7.6.0->yfiles_jupyter_graphs>=1.10.0->yfiles_jupyter_graphs_for_neo4j) (0.10.2)\n",
            "Requirement already satisfied: pandocfilters>=1.4.1 in /usr/local/lib/python3.11/dist-packages (from nbconvert>=5->notebook>=4.4.1->widgetsnbextension~=3.6.0->ipywidgets>=7.6.0->yfiles_jupyter_graphs>=1.10.0->yfiles_jupyter_graphs_for_neo4j) (1.5.1)\n",
            "Requirement already satisfied: fastjsonschema>=2.15 in /usr/local/lib/python3.11/dist-packages (from nbformat->notebook>=4.4.1->widgetsnbextension~=3.6.0->ipywidgets>=7.6.0->yfiles_jupyter_graphs>=1.10.0->yfiles_jupyter_graphs_for_neo4j) (2.21.1)\n",
            "Requirement already satisfied: jsonschema>=2.6 in /usr/local/lib/python3.11/dist-packages (from nbformat->notebook>=4.4.1->widgetsnbextension~=3.6.0->ipywidgets>=7.6.0->yfiles_jupyter_graphs>=1.10.0->yfiles_jupyter_graphs_for_neo4j) (4.23.0)\n",
            "Requirement already satisfied: six>=1.5 in /usr/local/lib/python3.11/dist-packages (from python-dateutil>=2.1->jupyter-client>=6.1.12->ipykernel>=4.5.1->ipywidgets>=7.6.0->yfiles_jupyter_graphs>=1.10.0->yfiles_jupyter_graphs_for_neo4j) (1.17.0)\n",
            "Requirement already satisfied: argon2-cffi-bindings in /usr/local/lib/python3.11/dist-packages (from argon2-cffi->notebook>=4.4.1->widgetsnbextension~=3.6.0->ipywidgets>=7.6.0->yfiles_jupyter_graphs>=1.10.0->yfiles_jupyter_graphs_for_neo4j) (21.2.0)\n",
            "Requirement already satisfied: webencodings in /usr/local/lib/python3.11/dist-packages (from bleach!=5.0.0->bleach[css]!=5.0.0->nbconvert>=5->notebook>=4.4.1->widgetsnbextension~=3.6.0->ipywidgets>=7.6.0->yfiles_jupyter_graphs>=1.10.0->yfiles_jupyter_graphs_for_neo4j) (0.5.1)\n",
            "Requirement already satisfied: tinycss2<1.5,>=1.1.0 in /usr/local/lib/python3.11/dist-packages (from bleach[css]!=5.0.0->nbconvert>=5->notebook>=4.4.1->widgetsnbextension~=3.6.0->ipywidgets>=7.6.0->yfiles_jupyter_graphs>=1.10.0->yfiles_jupyter_graphs_for_neo4j) (1.4.0)\n",
            "Requirement already satisfied: attrs>=22.2.0 in /usr/local/lib/python3.11/dist-packages (from jsonschema>=2.6->nbformat->notebook>=4.4.1->widgetsnbextension~=3.6.0->ipywidgets>=7.6.0->yfiles_jupyter_graphs>=1.10.0->yfiles_jupyter_graphs_for_neo4j) (25.3.0)\n",
            "Requirement already satisfied: jsonschema-specifications>=2023.03.6 in /usr/local/lib/python3.11/dist-packages (from jsonschema>=2.6->nbformat->notebook>=4.4.1->widgetsnbextension~=3.6.0->ipywidgets>=7.6.0->yfiles_jupyter_graphs>=1.10.0->yfiles_jupyter_graphs_for_neo4j) (2025.4.1)\n",
            "Requirement already satisfied: referencing>=0.28.4 in /usr/local/lib/python3.11/dist-packages (from jsonschema>=2.6->nbformat->notebook>=4.4.1->widgetsnbextension~=3.6.0->ipywidgets>=7.6.0->yfiles_jupyter_graphs>=1.10.0->yfiles_jupyter_graphs_for_neo4j) (0.36.2)\n",
            "Requirement already satisfied: rpds-py>=0.7.1 in /usr/local/lib/python3.11/dist-packages (from jsonschema>=2.6->nbformat->notebook>=4.4.1->widgetsnbextension~=3.6.0->ipywidgets>=7.6.0->yfiles_jupyter_graphs>=1.10.0->yfiles_jupyter_graphs_for_neo4j) (0.25.1)\n",
            "Requirement already satisfied: jupyter-server<3,>=1.8 in /usr/local/lib/python3.11/dist-packages (from notebook-shim>=0.2.3->nbclassic>=0.4.7->notebook>=4.4.1->widgetsnbextension~=3.6.0->ipywidgets>=7.6.0->yfiles_jupyter_graphs>=1.10.0->yfiles_jupyter_graphs_for_neo4j) (1.16.0)\n",
            "Requirement already satisfied: cffi>=1.0.1 in /usr/local/lib/python3.11/dist-packages (from argon2-cffi-bindings->argon2-cffi->notebook>=4.4.1->widgetsnbextension~=3.6.0->ipywidgets>=7.6.0->yfiles_jupyter_graphs>=1.10.0->yfiles_jupyter_graphs_for_neo4j) (1.17.1)\n",
            "Requirement already satisfied: soupsieve>1.2 in /usr/local/lib/python3.11/dist-packages (from beautifulsoup4->nbconvert>=5->notebook>=4.4.1->widgetsnbextension~=3.6.0->ipywidgets>=7.6.0->yfiles_jupyter_graphs>=1.10.0->yfiles_jupyter_graphs_for_neo4j) (2.7)\n",
            "Requirement already satisfied: typing-extensions>=4.0.0 in /usr/local/lib/python3.11/dist-packages (from beautifulsoup4->nbconvert>=5->notebook>=4.4.1->widgetsnbextension~=3.6.0->ipywidgets>=7.6.0->yfiles_jupyter_graphs>=1.10.0->yfiles_jupyter_graphs_for_neo4j) (4.13.2)\n",
            "Requirement already satisfied: pycparser in /usr/local/lib/python3.11/dist-packages (from cffi>=1.0.1->argon2-cffi-bindings->argon2-cffi->notebook>=4.4.1->widgetsnbextension~=3.6.0->ipywidgets>=7.6.0->yfiles_jupyter_graphs>=1.10.0->yfiles_jupyter_graphs_for_neo4j) (2.22)\n",
            "Requirement already satisfied: anyio>=3.1.0 in /usr/local/lib/python3.11/dist-packages (from jupyter-server<3,>=1.8->notebook-shim>=0.2.3->nbclassic>=0.4.7->notebook>=4.4.1->widgetsnbextension~=3.6.0->ipywidgets>=7.6.0->yfiles_jupyter_graphs>=1.10.0->yfiles_jupyter_graphs_for_neo4j) (4.9.0)\n",
            "Requirement already satisfied: websocket-client in /usr/local/lib/python3.11/dist-packages (from jupyter-server<3,>=1.8->notebook-shim>=0.2.3->nbclassic>=0.4.7->notebook>=4.4.1->widgetsnbextension~=3.6.0->ipywidgets>=7.6.0->yfiles_jupyter_graphs>=1.10.0->yfiles_jupyter_graphs_for_neo4j) (1.8.0)\n",
            "Requirement already satisfied: idna>=2.8 in /usr/local/lib/python3.11/dist-packages (from anyio>=3.1.0->jupyter-server<3,>=1.8->notebook-shim>=0.2.3->nbclassic>=0.4.7->notebook>=4.4.1->widgetsnbextension~=3.6.0->ipywidgets>=7.6.0->yfiles_jupyter_graphs>=1.10.0->yfiles_jupyter_graphs_for_neo4j) (3.10)\n",
            "Requirement already satisfied: sniffio>=1.1 in /usr/local/lib/python3.11/dist-packages (from anyio>=3.1.0->jupyter-server<3,>=1.8->notebook-shim>=0.2.3->nbclassic>=0.4.7->notebook>=4.4.1->widgetsnbextension~=3.6.0->ipywidgets>=7.6.0->yfiles_jupyter_graphs>=1.10.0->yfiles_jupyter_graphs_for_neo4j) (1.3.1)\n",
            "Downloading neo4j-5.28.1-py3-none-any.whl (312 kB)\n",
            "\u001b[2K   \u001b[90m━━━━━━━━━━━━━━━━━━━━━━━━━━━━━━━━━━━━━━━━\u001b[0m \u001b[32m312.3/312.3 kB\u001b[0m \u001b[31m6.5 MB/s\u001b[0m eta \u001b[36m0:00:00\u001b[0m\n",
            "\u001b[?25hDownloading yfiles_jupyter_graphs_for_neo4j-1.7.0-py3-none-any.whl (13 kB)\n",
            "Downloading yfiles_jupyter_graphs-1.10.6-py3-none-any.whl (15.7 MB)\n",
            "\u001b[2K   \u001b[90m━━━━━━━━━━━━━━━━━━━━━━━━━━━━━━━━━━━━━━━━\u001b[0m \u001b[32m15.7/15.7 MB\u001b[0m \u001b[31m25.0 MB/s\u001b[0m eta \u001b[36m0:00:00\u001b[0m\n",
            "\u001b[?25hDownloading jedi-0.19.2-py2.py3-none-any.whl (1.6 MB)\n",
            "\u001b[2K   \u001b[90m━━━━━━━━━━━━━━━━━━━━━━━━━━━━━━━━━━━━━━━━\u001b[0m \u001b[32m1.6/1.6 MB\u001b[0m \u001b[31m30.6 MB/s\u001b[0m eta \u001b[36m0:00:00\u001b[0m\n",
            "\u001b[?25hInstalling collected packages: neo4j, jedi, yfiles_jupyter_graphs, yfiles_jupyter_graphs_for_neo4j\n",
            "Successfully installed jedi-0.19.2 neo4j-5.28.1 yfiles_jupyter_graphs-1.10.6 yfiles_jupyter_graphs_for_neo4j-1.7.0\n"
          ]
        }
      ],
      "source": [
        "!pip install neo4j yfiles_jupyter_graphs_for_neo4j"
      ]
    },
    {
      "cell_type": "code",
      "source": [
        "from neo4j import GraphDatabase\n",
        "from google.colab import userdata\n",
        "\n",
        "neo4j_instance_id = userdata.get('neo4j_instance_id')\n",
        "neo4j_password = userdata.get('neo4j_password')\n",
        "\n",
        "driver = GraphDatabase.driver(f\"neo4j+s://{neo4j_instance_id}.databases.neo4j.io:7687\", auth=(\"neo4j\", neo4j_password))"
      ],
      "metadata": {
        "id": "bXwDrivhhste"
      },
      "execution_count": 2,
      "outputs": []
    },
    {
      "cell_type": "code",
      "source": [
        "def creating_vertices(tx):\n",
        "    query = \"\"\"\n",
        "      CREATE (a:Account {id: 'ACC123456', name: 'Walt Whitman', type: 'Checking', balance: 1200.00})\n",
        "      CREATE (t:Transaction {id: '1234567890', amount: 150.75, type: 'Purchase', merchant: 'ABC Store', location: 'New York, NY', datetime: '2024-08-25 14:32'})\n",
        "\n",
        "    RETURN *\n",
        "    \"\"\"\n",
        "    tx.run(query)\n",
        "\n",
        "# Run the query\n",
        "with driver.session() as session:\n",
        "    session.execute_write(creating_vertices)"
      ],
      "metadata": {
        "id": "0x7S3YbeiFH-"
      },
      "execution_count": 3,
      "outputs": []
    },
    {
      "cell_type": "code",
      "source": [
        "def creating_edges(tx):\n",
        "    query = \"\"\"\n",
        "      MATCH (a:Account {id: 'ACC123456'}), (t:Transaction {id: '1234567890'})\n",
        "        CREATE (a)-[:MADE]->(t)\n",
        "\n",
        "    RETURN *\n",
        "    \"\"\"\n",
        "    tx.run(query)\n",
        "\n",
        "with driver.session() as session:\n",
        "    session.execute_write(creating_edges)"
      ],
      "metadata": {
        "id": "lTvNEEZDi9Qn"
      },
      "execution_count": 4,
      "outputs": []
    },
    {
      "cell_type": "code",
      "source": [
        "from yfiles_jupyter_graphs_for_neo4j import Neo4jGraphWidget\n",
        "\n",
        "g = Neo4jGraphWidget(driver)\n",
        "\n",
        "def show_graph(driver):\n",
        "    query = \"\"\"\n",
        "    MATCH (n)-[r]->(m)\n",
        "    RETURN n, r, m\n",
        "    \"\"\"\n",
        "    g.show_cypher(query)\n",
        "\n",
        "show_graph(driver)"
      ],
      "metadata": {
        "colab": {
          "base_uri": "https://localhost:8080/",
          "height": 17,
          "referenced_widgets": [
            "7d5b3f2589b446e69ec36fd5047ac22a"
          ]
        },
        "id": "GWb0aPfmjEjV",
        "outputId": "7a23663b-ef3a-4027-bd17-19cfccce1443"
      },
      "execution_count": 5,
      "outputs": [
        {
          "output_type": "display_data",
          "data": {
            "text/plain": [
              "GraphWidget(layout=Layout(height='500px', width='100%'))"
            ],
            "application/vnd.jupyter.widget-view+json": {
              "version_major": 2,
              "version_minor": 0,
              "model_id": "7d5b3f2589b446e69ec36fd5047ac22a"
            }
          },
          "metadata": {}
        }
      ]
    },
    {
      "cell_type": "code",
      "source": [
        "def querying_data(driver):\n",
        "    query = \"\"\"\n",
        "    MATCH (a:Account {id: 'ACC123456'})-[:MADE]->(t:Transaction)\n",
        "    RETURN t\n",
        "    \"\"\"\n",
        "    g.show_cypher(query)\n",
        "\n",
        "querying_data(driver)"
      ],
      "metadata": {
        "colab": {
          "base_uri": "https://localhost:8080/",
          "height": 517,
          "referenced_widgets": [
            "a32af8b5506844059528a539cc7059db",
            "a22684625f38442d8b883f12c35b18f9"
          ]
        },
        "id": "FAysuh5BkvDc",
        "outputId": "8050cef2-fbfb-4192-fb01-a6fa72b8fefe"
      },
      "execution_count": 7,
      "outputs": [
        {
          "output_type": "display_data",
          "data": {
            "text/plain": [
              "GraphWidget(layout=Layout(height='500px', width='100%'))"
            ],
            "application/vnd.jupyter.widget-view+json": {
              "version_major": 2,
              "version_minor": 0,
              "model_id": "a32af8b5506844059528a539cc7059db"
            }
          },
          "metadata": {
            "application/vnd.jupyter.widget-view+json": {
              "colab": {
                "custom_widget_manager": {
                  "url": "https://ssl.gstatic.com/colaboratory-static/widgets/colab-cdn-widget-manager/2b70e893a8ba7c0f/manager.min.js"
                }
              }
            }
          }
        }
      ]
    },
    {
      "cell_type": "code",
      "source": [
        "def filtering_data(driver):\n",
        "    query = \"\"\"\n",
        "    MATCH (a:Account)-[r:MADE]->(t:Transaction)\n",
        "    WHERE t.amount > 100\n",
        "    RETURN a, r, t\n",
        "    \"\"\"\n",
        "    g.show_cypher(query)\n",
        "\n",
        "filtering_data(driver)"
      ],
      "metadata": {
        "colab": {
          "base_uri": "https://localhost:8080/",
          "height": 517,
          "referenced_widgets": [
            "5d4473e784ff4d88a9daf236132c1b18",
            "7b49b2733c484a67947cfc5ea3401efc"
          ]
        },
        "id": "SCPKSUy5lWi3",
        "outputId": "80182d91-cdb0-4e2a-a474-39a1b1d52b03"
      },
      "execution_count": 8,
      "outputs": [
        {
          "output_type": "display_data",
          "data": {
            "text/plain": [
              "GraphWidget(layout=Layout(height='500px', width='100%'))"
            ],
            "application/vnd.jupyter.widget-view+json": {
              "version_major": 2,
              "version_minor": 0,
              "model_id": "5d4473e784ff4d88a9daf236132c1b18"
            }
          },
          "metadata": {
            "application/vnd.jupyter.widget-view+json": {
              "colab": {
                "custom_widget_manager": {
                  "url": "https://ssl.gstatic.com/colaboratory-static/widgets/colab-cdn-widget-manager/2b70e893a8ba7c0f/manager.min.js"
                }
              }
            }
          }
        }
      ]
    },
    {
      "cell_type": "code",
      "source": [
        "def aggregating_data(tx):\n",
        "    query = \"\"\"\n",
        "      MATCH (a:Account {id: 'ACC123456'})-[:MADE]->(t:Transaction)\n",
        "      RETURN a.id AS account_id, SUM(t.amount) AS total_spent\n",
        "    \"\"\"\n",
        "    result = tx.run(query)\n",
        "    return [record.data() for record in result]\n",
        "\n",
        "with driver.session() as session:\n",
        "    results = session.execute_read(aggregating_data)\n",
        "    print(results)"
      ],
      "metadata": {
        "colab": {
          "base_uri": "https://localhost:8080/"
        },
        "id": "ORqzK5CrmB_d",
        "outputId": "a36d43b6-9e59-4b20-c066-04c5952fa9cf"
      },
      "execution_count": 9,
      "outputs": [
        {
          "output_type": "stream",
          "name": "stdout",
          "text": [
            "[{'account_id': 'ACC123456', 'total_spent': 150.75}]\n"
          ]
        }
      ]
    },
    {
      "cell_type": "code",
      "source": [
        "def upserting_vertices(tx):\n",
        "    query = \"\"\"\n",
        "      MERGE (a:Account {id: 'ACC123456'})\n",
        "      ON MATCH SET a.balance = 1300.00\n",
        "      ON CREATE SET a.name = 'Walt Whitman', a.balance = 1200.00, a.type = 'Checking'\n",
        "\n",
        "    RETURN *\n",
        "    \"\"\"\n",
        "    tx.run(query)\n",
        "\n",
        "with driver.session() as session:\n",
        "    session.execute_write(upserting_vertices)"
      ],
      "metadata": {
        "id": "rq0ykujxDaBB"
      },
      "execution_count": 10,
      "outputs": []
    },
    {
      "cell_type": "code",
      "source": [
        "def distinct_data(tx):\n",
        "    query = \"\"\"\n",
        "      MATCH (a:Account)-[:MADE]->(t:Transaction)\n",
        "      RETURN DISTINCT t.merchant\n",
        "    \"\"\"\n",
        "    result = tx.run(query)\n",
        "    return [record.data() for record in result]\n",
        "\n",
        "with driver.session() as session:\n",
        "    results = session.execute_read(distinct_data)\n",
        "    print(results)"
      ],
      "metadata": {
        "id": "ZbLyJKpHIAKx",
        "colab": {
          "base_uri": "https://localhost:8080/"
        },
        "outputId": "faa48e1c-8c34-4f3b-8efb-a108f5c07208"
      },
      "execution_count": 11,
      "outputs": [
        {
          "output_type": "stream",
          "name": "stdout",
          "text": [
            "[{'t.merchant': 'ABC Store'}]\n"
          ]
        }
      ]
    },
    {
      "cell_type": "code",
      "source": [
        "def label_data_with_case(tx):\n",
        "    query = \"\"\"\n",
        "      MATCH (a:Account)-[:MADE]->(t:Transaction)\n",
        "      RETURN a.id,\n",
        "        CASE\n",
        "          WHEN t.amount > 1000 THEN 'High-value transaction'\n",
        "          ELSE 'Regular transaction'\n",
        "        END AS transaction_type\n",
        "    \"\"\"\n",
        "    result = tx.run(query)\n",
        "    return [record.data() for record in result]\n",
        "\n",
        "with driver.session() as session:\n",
        "    results = session.execute_read(label_data_with_case)\n",
        "    print(results)"
      ],
      "metadata": {
        "colab": {
          "base_uri": "https://localhost:8080/"
        },
        "id": "UpL1BspRGacu",
        "outputId": "80b10a1c-3e92-4e8f-f923-258bc634cac1"
      },
      "execution_count": 12,
      "outputs": [
        {
          "output_type": "stream",
          "name": "stdout",
          "text": [
            "[{'a.id': 'ACC123456', 'transaction_type': 'Regular transaction'}]\n"
          ]
        }
      ]
    },
    {
      "cell_type": "code",
      "source": [
        "def ordering_data(tx):\n",
        "    query = \"\"\"\n",
        "      MATCH (a:Account)-[:MADE]->(t:Transaction)\n",
        "      RETURN a.id, t.amount\n",
        "      ORDER BY t.amount DESC\n",
        "    \"\"\"\n",
        "    result = tx.run(query)\n",
        "    return [record.data() for record in result]\n",
        "\n",
        "with driver.session() as session:\n",
        "    results = session.execute_read(ordering_data)\n",
        "    print(results)"
      ],
      "metadata": {
        "colab": {
          "base_uri": "https://localhost:8080/"
        },
        "id": "gKwLOFyeIy1Y",
        "outputId": "74d3e41a-ca0c-4750-fdaf-313588081cbb"
      },
      "execution_count": 13,
      "outputs": [
        {
          "output_type": "stream",
          "name": "stdout",
          "text": [
            "[{'a.id': 'ACC123456', 't.amount': 150.75}]\n"
          ]
        }
      ]
    },
    {
      "cell_type": "code",
      "source": [
        "def deleting_vertices_and_edges(tx):\n",
        "    query = \"\"\"\n",
        "    MATCH (a:Account {id: 'ACC123456'})-[r:MADE]->(t:Transaction)\n",
        "    DELETE r, t, a\n",
        "    \"\"\"\n",
        "    tx.run(query)\n",
        "\n",
        "with driver.session() as session:\n",
        "    session.execute_write(deleting_vertices_and_edges)"
      ],
      "metadata": {
        "id": "4Aw_-LVlJK3S"
      },
      "execution_count": 14,
      "outputs": []
    },
    {
      "cell_type": "code",
      "source": [
        "from google.colab import output\n",
        "output.enable_custom_widget_manager()"
      ],
      "metadata": {
        "id": "W3SoAm9ZjR9Y"
      },
      "execution_count": 6,
      "outputs": []
    },
    {
      "cell_type": "markdown",
      "source": [
        "Support for third party widgets will remain active for the duration of the session. To disable support:"
      ],
      "metadata": {
        "id": "nlHD9N09jR9Z"
      }
    },
    {
      "cell_type": "code",
      "source": [
        "from google.colab import output\n",
        "output.disable_custom_widget_manager()"
      ],
      "metadata": {
        "id": "ORKOLUSWjR9b"
      },
      "execution_count": null,
      "outputs": []
    }
  ]
}