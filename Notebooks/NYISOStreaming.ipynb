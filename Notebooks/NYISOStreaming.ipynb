{
  "cells": [
    {
      "cell_type": "markdown",
      "source": [
        "This is a helper notebook for [Project 4](https://docs.google.com/document/d/1-bpfQw_rlfHUfWkQyWwmPYfMuy931SpU/edit?usp=sharing&ouid=115686932443554238260&rtpof=true&sd=true).\n",
        "It assumes that you have downloaded one of the files (`20241001realtime_zone_csv.zip`) from the NYISO dataset and placed it on your Google Drive."
      ],
      "metadata": {
        "id": "VdBHi6MxyGuJ"
      }
    },
    {
      "cell_type": "code",
      "source": [
        "from google.colab import drive\n",
        "import os\n",
        "import zipfile"
      ],
      "metadata": {
        "id": "gCDL7f2HnJY3"
      },
      "execution_count": 1,
      "outputs": []
    },
    {
      "cell_type": "code",
      "source": [
        "drive.mount('/content/drive')"
      ],
      "metadata": {
        "colab": {
          "base_uri": "https://localhost:8080/"
        },
        "id": "Om-q6SZqnQVZ",
        "outputId": "8b0e8941-8672-4522-e8ab-5a15224fc7bc"
      },
      "execution_count": 2,
      "outputs": [
        {
          "output_type": "stream",
          "name": "stdout",
          "text": [
            "Mounted at /content/drive\n"
          ]
        }
      ]
    },
    {
      "cell_type": "code",
      "source": [
        "base_path = '/content/drive/My Drive/nyiso'\n",
        "unzip_folder = 'unzipped'\n",
        "zip_files = ['20241001realtime_zone_csv.zip']"
      ],
      "metadata": {
        "id": "KccR4QTnnT9M"
      },
      "execution_count": 3,
      "outputs": []
    },
    {
      "cell_type": "code",
      "source": [
        "def unzip_files(zip_files, base_path):\n",
        "    for zip_file in zip_files:\n",
        "        zip_path = os.path.join(base_path, zip_file)\n",
        "        extract_dir = os.path.join(base_path, unzip_folder, f\"{zip_file.replace('.zip', '')}\")\n",
        "\n",
        "        with zipfile.ZipFile(zip_path, 'r') as z:\n",
        "            z.extractall(extract_dir)\n",
        "\n",
        "unzip_files(zip_files, base_path)"
      ],
      "metadata": {
        "id": "R3RbAoAMnaHe"
      },
      "execution_count": 4,
      "outputs": []
    },
    {
      "cell_type": "markdown",
      "source": [
        "Process all CSVs in the unzipped folder for each month and publish all records for a specific timestamp to a socket once a second."
      ],
      "metadata": {
        "id": "K-ZiPVKQ6qlR"
      }
    },
    {
      "cell_type": "code",
      "execution_count": 5,
      "metadata": {
        "colab": {
          "base_uri": "https://localhost:8080/"
        },
        "id": "70izQLWWxQem",
        "outputId": "6be4873d-18bf-43c3-eac2-4634c2c41fc9"
      },
      "outputs": [
        {
          "output_type": "stream",
          "name": "stdout",
          "text": [
            "Server started on 127.0.0.1:9999Socket server is running in the background.\n",
            "\n"
          ]
        }
      ],
      "source": [
        "import socket\n",
        "import random\n",
        "import json\n",
        "from datetime import datetime\n",
        "import time\n",
        "import threading\n",
        "import pandas as pd\n",
        "\n",
        "host = \"127.0.0.1\"\n",
        "port = 9999\n",
        "\n",
        "server_socket = socket.socket(socket.AF_INET, socket.SOCK_STREAM)\n",
        "server_socket.bind((host, port))\n",
        "server_socket.listen(1)\n",
        "\n",
        "\n",
        "def publish_csv_files_in_directory(directory_path, client_socket):\n",
        "    for filename in os.listdir(directory_path):\n",
        "        file_path = os.path.join(directory_path, filename)\n",
        "\n",
        "        if filename.endswith('.csv'):\n",
        "            print(f\"Processing {filename}...\")\n",
        "            df = pd.read_csv(file_path)\n",
        "            previous_timestamp = None\n",
        "            for index, row in df.iterrows():\n",
        "                current_timestamp = row['Time Stamp']\n",
        "                message_str = json.dumps(row.to_dict()) + \"\\n\"\n",
        "                client_socket.sendall(message_str.encode('utf-8'))\n",
        "                if previous_timestamp is None or current_timestamp != previous_timestamp:\n",
        "                    time.sleep(1)\n",
        "\n",
        "                previous_timestamp = current_timestamp\n",
        "\n",
        "def publish_message(client_socket):\n",
        "    for zip_file in zip_files:\n",
        "        extract_dir = os.path.join(base_path, unzip_folder, f\"{zip_file.replace('.zip', '')}\")\n",
        "        publish_csv_files_in_directory(extract_dir, client_socket)\n",
        "\n",
        "def start_socket_server():\n",
        "    print(f\"Server started on {host}:{port}\")\n",
        "    while True:\n",
        "        client_socket, client_address = server_socket.accept()\n",
        "        print(f\"Connection established with {client_address}\")\n",
        "\n",
        "        publish_thread = threading.Thread(target=publish_message, args=(client_socket,))\n",
        "        publish_thread.daemon = True\n",
        "        publish_thread.start()\n",
        "\n",
        "socket_server_thread = threading.Thread(target=start_socket_server)\n",
        "socket_server_thread.daemon = True\n",
        "socket_server_thread.start()\n",
        "\n",
        "print(\"Socket server is running in the background.\")\n"
      ]
    },
    {
      "cell_type": "code",
      "source": [
        "def print_stream(streaming_df, output_mode=\"append\"):\n",
        "\n",
        "  def process_batch(df, epoch_id):\n",
        "          df.show()\n",
        "\n",
        "  query = streaming_df.writeStream \\\n",
        "      .foreachBatch(process_batch) \\\n",
        "      .outputMode(output_mode) \\\n",
        "      .start()\n",
        "\n",
        "\n",
        "  try:\n",
        "      query.awaitTermination()\n",
        "  except KeyboardInterrupt:\n",
        "      query.stop()"
      ],
      "metadata": {
        "id": "TOenTZpL4yqf"
      },
      "execution_count": 6,
      "outputs": []
    },
    {
      "cell_type": "code",
      "execution_count": 7,
      "metadata": {
        "id": "Xfz7hYd_xZEW",
        "colab": {
          "base_uri": "https://localhost:8080/",
          "height": 1000
        },
        "outputId": "f40e5d3c-d3e9-499a-da0e-3c2bda901712"
      },
      "outputs": [
        {
          "output_type": "stream",
          "name": "stdout",
          "text": [
            "Connection established with ('127.0.0.1', 47308)\n",
            "Processing 20241001realtime_zone.csv...\n",
            "+-----+\n",
            "|value|\n",
            "+-----+\n",
            "+-----+\n",
            "\n",
            "+--------------------+\n",
            "|               value|\n",
            "+--------------------+\n",
            "|{\"Time Stamp\": \"1...|\n",
            "|{\"Time Stamp\": \"1...|\n",
            "|{\"Time Stamp\": \"1...|\n",
            "|{\"Time Stamp\": \"1...|\n",
            "|{\"Time Stamp\": \"1...|\n",
            "|{\"Time Stamp\": \"1...|\n",
            "|{\"Time Stamp\": \"1...|\n",
            "|{\"Time Stamp\": \"1...|\n",
            "|{\"Time Stamp\": \"1...|\n",
            "|{\"Time Stamp\": \"1...|\n",
            "|{\"Time Stamp\": \"1...|\n",
            "|{\"Time Stamp\": \"1...|\n",
            "|{\"Time Stamp\": \"1...|\n",
            "|{\"Time Stamp\": \"1...|\n",
            "|{\"Time Stamp\": \"1...|\n",
            "|{\"Time Stamp\": \"1...|\n",
            "|{\"Time Stamp\": \"1...|\n",
            "|{\"Time Stamp\": \"1...|\n",
            "|{\"Time Stamp\": \"1...|\n",
            "|{\"Time Stamp\": \"1...|\n",
            "+--------------------+\n",
            "only showing top 20 rows\n",
            "\n",
            "+--------------------+\n",
            "|               value|\n",
            "+--------------------+\n",
            "|{\"Time Stamp\": \"1...|\n",
            "|{\"Time Stamp\": \"1...|\n",
            "|{\"Time Stamp\": \"1...|\n",
            "|{\"Time Stamp\": \"1...|\n",
            "|{\"Time Stamp\": \"1...|\n",
            "|{\"Time Stamp\": \"1...|\n",
            "|{\"Time Stamp\": \"1...|\n",
            "|{\"Time Stamp\": \"1...|\n",
            "|{\"Time Stamp\": \"1...|\n",
            "|{\"Time Stamp\": \"1...|\n",
            "|{\"Time Stamp\": \"1...|\n",
            "|{\"Time Stamp\": \"1...|\n",
            "|{\"Time Stamp\": \"1...|\n",
            "|{\"Time Stamp\": \"1...|\n",
            "|{\"Time Stamp\": \"1...|\n",
            "|{\"Time Stamp\": \"1...|\n",
            "|{\"Time Stamp\": \"1...|\n",
            "|{\"Time Stamp\": \"1...|\n",
            "|{\"Time Stamp\": \"1...|\n",
            "|{\"Time Stamp\": \"1...|\n",
            "+--------------------+\n",
            "only showing top 20 rows\n",
            "\n",
            "+--------------------+\n",
            "|               value|\n",
            "+--------------------+\n",
            "|{\"Time Stamp\": \"1...|\n",
            "|{\"Time Stamp\": \"1...|\n",
            "|{\"Time Stamp\": \"1...|\n",
            "|{\"Time Stamp\": \"1...|\n",
            "|{\"Time Stamp\": \"1...|\n",
            "|{\"Time Stamp\": \"1...|\n",
            "|{\"Time Stamp\": \"1...|\n",
            "|{\"Time Stamp\": \"1...|\n",
            "|{\"Time Stamp\": \"1...|\n",
            "|{\"Time Stamp\": \"1...|\n",
            "|{\"Time Stamp\": \"1...|\n",
            "|{\"Time Stamp\": \"1...|\n",
            "|{\"Time Stamp\": \"1...|\n",
            "|{\"Time Stamp\": \"1...|\n",
            "|{\"Time Stamp\": \"1...|\n",
            "+--------------------+\n",
            "\n",
            "+--------------------+\n",
            "|               value|\n",
            "+--------------------+\n",
            "|{\"Time Stamp\": \"1...|\n",
            "|{\"Time Stamp\": \"1...|\n",
            "|{\"Time Stamp\": \"1...|\n",
            "|{\"Time Stamp\": \"1...|\n",
            "|{\"Time Stamp\": \"1...|\n",
            "|{\"Time Stamp\": \"1...|\n",
            "|{\"Time Stamp\": \"1...|\n",
            "|{\"Time Stamp\": \"1...|\n",
            "|{\"Time Stamp\": \"1...|\n",
            "|{\"Time Stamp\": \"1...|\n",
            "|{\"Time Stamp\": \"1...|\n",
            "|{\"Time Stamp\": \"1...|\n",
            "|{\"Time Stamp\": \"1...|\n",
            "|{\"Time Stamp\": \"1...|\n",
            "|{\"Time Stamp\": \"1...|\n",
            "+--------------------+\n",
            "\n",
            "+--------------------+\n",
            "|               value|\n",
            "+--------------------+\n",
            "|{\"Time Stamp\": \"1...|\n",
            "|{\"Time Stamp\": \"1...|\n",
            "|{\"Time Stamp\": \"1...|\n",
            "|{\"Time Stamp\": \"1...|\n",
            "|{\"Time Stamp\": \"1...|\n",
            "|{\"Time Stamp\": \"1...|\n",
            "|{\"Time Stamp\": \"1...|\n",
            "|{\"Time Stamp\": \"1...|\n",
            "|{\"Time Stamp\": \"1...|\n",
            "|{\"Time Stamp\": \"1...|\n",
            "|{\"Time Stamp\": \"1...|\n",
            "|{\"Time Stamp\": \"1...|\n",
            "|{\"Time Stamp\": \"1...|\n",
            "|{\"Time Stamp\": \"1...|\n",
            "|{\"Time Stamp\": \"1...|\n",
            "+--------------------+\n",
            "\n",
            "+--------------------+\n",
            "|               value|\n",
            "+--------------------+\n",
            "|{\"Time Stamp\": \"1...|\n",
            "|{\"Time Stamp\": \"1...|\n",
            "|{\"Time Stamp\": \"1...|\n",
            "|{\"Time Stamp\": \"1...|\n",
            "|{\"Time Stamp\": \"1...|\n",
            "|{\"Time Stamp\": \"1...|\n",
            "|{\"Time Stamp\": \"1...|\n",
            "|{\"Time Stamp\": \"1...|\n",
            "|{\"Time Stamp\": \"1...|\n",
            "|{\"Time Stamp\": \"1...|\n",
            "|{\"Time Stamp\": \"1...|\n",
            "|{\"Time Stamp\": \"1...|\n",
            "|{\"Time Stamp\": \"1...|\n",
            "|{\"Time Stamp\": \"1...|\n",
            "|{\"Time Stamp\": \"1...|\n",
            "+--------------------+\n",
            "\n",
            "+--------------------+\n",
            "|               value|\n",
            "+--------------------+\n",
            "|{\"Time Stamp\": \"1...|\n",
            "|{\"Time Stamp\": \"1...|\n",
            "|{\"Time Stamp\": \"1...|\n",
            "|{\"Time Stamp\": \"1...|\n",
            "|{\"Time Stamp\": \"1...|\n",
            "|{\"Time Stamp\": \"1...|\n",
            "|{\"Time Stamp\": \"1...|\n",
            "|{\"Time Stamp\": \"1...|\n",
            "|{\"Time Stamp\": \"1...|\n",
            "|{\"Time Stamp\": \"1...|\n",
            "|{\"Time Stamp\": \"1...|\n",
            "|{\"Time Stamp\": \"1...|\n",
            "|{\"Time Stamp\": \"1...|\n",
            "|{\"Time Stamp\": \"1...|\n",
            "+--------------------+\n",
            "\n",
            "+--------------------+\n",
            "|               value|\n",
            "+--------------------+\n",
            "|{\"Time Stamp\": \"1...|\n",
            "+--------------------+\n",
            "\n"
          ]
        },
        {
          "output_type": "stream",
          "name": "stderr",
          "text": [
            "ERROR:root:Exception while sending command.\n",
            "Traceback (most recent call last):\n",
            "  File \"/usr/local/lib/python3.11/dist-packages/py4j/clientserver.py\", line 511, in send_command\n",
            "    answer = smart_decode(self.stream.readline()[:-1])\n",
            "                          ^^^^^^^^^^^^^^^^^^^^^^\n",
            "RuntimeError: reentrant call inside <_io.BufferedReader name=55>\n",
            "\n",
            "During handling of the above exception, another exception occurred:\n",
            "\n",
            "Traceback (most recent call last):\n",
            "  File \"/usr/local/lib/python3.11/dist-packages/py4j/java_gateway.py\", line 1038, in send_command\n",
            "    response = connection.send_command(command)\n",
            "               ^^^^^^^^^^^^^^^^^^^^^^^^^^^^^^^^\n",
            "  File \"/usr/local/lib/python3.11/dist-packages/py4j/clientserver.py\", line 539, in send_command\n",
            "    raise Py4JNetworkError(\n",
            "py4j.protocol.Py4JNetworkError: Error while sending or receiving\n",
            "ERROR:root:Exception while sending command.\n",
            "Traceback (most recent call last):\n",
            "  File \"/usr/local/lib/python3.11/dist-packages/py4j/clientserver.py\", line 511, in send_command\n",
            "    answer = smart_decode(self.stream.readline()[:-1])\n",
            "                          ^^^^^^^^^^^^^^^^^^^^^^\n",
            "  File \"/usr/lib/python3.11/socket.py\", line 718, in readinto\n",
            "    return self._sock.recv_into(b)\n",
            "           ^^^^^^^^^^^^^^^^^^^^^^^\n",
            "  File \"/usr/local/lib/python3.11/dist-packages/pyspark/context.py\", line 381, in signal_handler\n",
            "    self.cancelAllJobs()\n",
            "  File \"/usr/local/lib/python3.11/dist-packages/pyspark/context.py\", line 2446, in cancelAllJobs\n",
            "    self._jsc.sc().cancelAllJobs()\n",
            "    ^^^^^^^^^^^^^^\n",
            "  File \"/usr/local/lib/python3.11/dist-packages/py4j/java_gateway.py\", line 1322, in __call__\n",
            "    return_value = get_return_value(\n",
            "                   ^^^^^^^^^^^^^^^^^\n",
            "  File \"/usr/local/lib/python3.11/dist-packages/pyspark/errors/exceptions/captured.py\", line 179, in deco\n",
            "    return f(*a, **kw)\n",
            "           ^^^^^^^^^^^\n",
            "  File \"/usr/local/lib/python3.11/dist-packages/py4j/protocol.py\", line 334, in get_return_value\n",
            "    raise Py4JError(\n",
            "py4j.protocol.Py4JError: An error occurred while calling o14.sc\n",
            "\n",
            "During handling of the above exception, another exception occurred:\n",
            "\n",
            "Traceback (most recent call last):\n",
            "  File \"/usr/local/lib/python3.11/dist-packages/py4j/java_gateway.py\", line 1038, in send_command\n",
            "    response = connection.send_command(command)\n",
            "               ^^^^^^^^^^^^^^^^^^^^^^^^^^^^^^^^\n",
            "  File \"/usr/local/lib/python3.11/dist-packages/py4j/clientserver.py\", line 539, in send_command\n",
            "    raise Py4JNetworkError(\n",
            "py4j.protocol.Py4JNetworkError: Error while sending or receiving\n"
          ]
        },
        {
          "output_type": "error",
          "ename": "Py4JError",
          "evalue": "An error occurred while calling o35.awaitTermination",
          "traceback": [
            "\u001b[0;31m---------------------------------------------------------------------------\u001b[0m",
            "\u001b[0;31mPy4JError\u001b[0m                                 Traceback (most recent call last)",
            "\u001b[0;32m<ipython-input-7-6f3ab1f0e2c6>\u001b[0m in \u001b[0;36m<cell line: 0>\u001b[0;34m()\u001b[0m\n\u001b[1;32m     14\u001b[0m     \u001b[0;34m.\u001b[0m\u001b[0mload\u001b[0m\u001b[0;34m(\u001b[0m\u001b[0;34m)\u001b[0m\u001b[0;34m\u001b[0m\u001b[0;34m\u001b[0m\u001b[0m\n\u001b[1;32m     15\u001b[0m \u001b[0;34m\u001b[0m\u001b[0m\n\u001b[0;32m---> 16\u001b[0;31m \u001b[0mprint_stream\u001b[0m\u001b[0;34m(\u001b[0m\u001b[0mstreaming_df\u001b[0m\u001b[0;34m)\u001b[0m\u001b[0;34m\u001b[0m\u001b[0;34m\u001b[0m\u001b[0m\n\u001b[0m",
            "\u001b[0;32m<ipython-input-6-2e31e43e705e>\u001b[0m in \u001b[0;36mprint_stream\u001b[0;34m(streaming_df, output_mode)\u001b[0m\n\u001b[1;32m     11\u001b[0m \u001b[0;34m\u001b[0m\u001b[0m\n\u001b[1;32m     12\u001b[0m   \u001b[0;32mtry\u001b[0m\u001b[0;34m:\u001b[0m\u001b[0;34m\u001b[0m\u001b[0;34m\u001b[0m\u001b[0m\n\u001b[0;32m---> 13\u001b[0;31m       \u001b[0mquery\u001b[0m\u001b[0;34m.\u001b[0m\u001b[0mawaitTermination\u001b[0m\u001b[0;34m(\u001b[0m\u001b[0;34m)\u001b[0m\u001b[0;34m\u001b[0m\u001b[0;34m\u001b[0m\u001b[0m\n\u001b[0m\u001b[1;32m     14\u001b[0m   \u001b[0;32mexcept\u001b[0m \u001b[0mKeyboardInterrupt\u001b[0m\u001b[0;34m:\u001b[0m\u001b[0;34m\u001b[0m\u001b[0;34m\u001b[0m\u001b[0m\n\u001b[1;32m     15\u001b[0m       \u001b[0mquery\u001b[0m\u001b[0;34m.\u001b[0m\u001b[0mstop\u001b[0m\u001b[0;34m(\u001b[0m\u001b[0;34m)\u001b[0m\u001b[0;34m\u001b[0m\u001b[0;34m\u001b[0m\u001b[0m\n",
            "\u001b[0;32m/usr/local/lib/python3.11/dist-packages/pyspark/sql/streaming/query.py\u001b[0m in \u001b[0;36mawaitTermination\u001b[0;34m(self, timeout)\u001b[0m\n\u001b[1;32m    219\u001b[0m             \u001b[0;32mreturn\u001b[0m \u001b[0mself\u001b[0m\u001b[0;34m.\u001b[0m\u001b[0m_jsq\u001b[0m\u001b[0;34m.\u001b[0m\u001b[0mawaitTermination\u001b[0m\u001b[0;34m(\u001b[0m\u001b[0mint\u001b[0m\u001b[0;34m(\u001b[0m\u001b[0mtimeout\u001b[0m \u001b[0;34m*\u001b[0m \u001b[0;36m1000\u001b[0m\u001b[0;34m)\u001b[0m\u001b[0;34m)\u001b[0m\u001b[0;34m\u001b[0m\u001b[0;34m\u001b[0m\u001b[0m\n\u001b[1;32m    220\u001b[0m         \u001b[0;32melse\u001b[0m\u001b[0;34m:\u001b[0m\u001b[0;34m\u001b[0m\u001b[0;34m\u001b[0m\u001b[0m\n\u001b[0;32m--> 221\u001b[0;31m             \u001b[0;32mreturn\u001b[0m \u001b[0mself\u001b[0m\u001b[0;34m.\u001b[0m\u001b[0m_jsq\u001b[0m\u001b[0;34m.\u001b[0m\u001b[0mawaitTermination\u001b[0m\u001b[0;34m(\u001b[0m\u001b[0;34m)\u001b[0m\u001b[0;34m\u001b[0m\u001b[0;34m\u001b[0m\u001b[0m\n\u001b[0m\u001b[1;32m    222\u001b[0m \u001b[0;34m\u001b[0m\u001b[0m\n\u001b[1;32m    223\u001b[0m     \u001b[0;34m@\u001b[0m\u001b[0mproperty\u001b[0m\u001b[0;34m\u001b[0m\u001b[0;34m\u001b[0m\u001b[0m\n",
            "\u001b[0;32m/usr/local/lib/python3.11/dist-packages/py4j/java_gateway.py\u001b[0m in \u001b[0;36m__call__\u001b[0;34m(self, *args)\u001b[0m\n\u001b[1;32m   1320\u001b[0m \u001b[0;34m\u001b[0m\u001b[0m\n\u001b[1;32m   1321\u001b[0m         \u001b[0manswer\u001b[0m \u001b[0;34m=\u001b[0m \u001b[0mself\u001b[0m\u001b[0;34m.\u001b[0m\u001b[0mgateway_client\u001b[0m\u001b[0;34m.\u001b[0m\u001b[0msend_command\u001b[0m\u001b[0;34m(\u001b[0m\u001b[0mcommand\u001b[0m\u001b[0;34m)\u001b[0m\u001b[0;34m\u001b[0m\u001b[0;34m\u001b[0m\u001b[0m\n\u001b[0;32m-> 1322\u001b[0;31m         return_value = get_return_value(\n\u001b[0m\u001b[1;32m   1323\u001b[0m             answer, self.gateway_client, self.target_id, self.name)\n\u001b[1;32m   1324\u001b[0m \u001b[0;34m\u001b[0m\u001b[0m\n",
            "\u001b[0;32m/usr/local/lib/python3.11/dist-packages/pyspark/errors/exceptions/captured.py\u001b[0m in \u001b[0;36mdeco\u001b[0;34m(*a, **kw)\u001b[0m\n\u001b[1;32m    177\u001b[0m     \u001b[0;32mdef\u001b[0m \u001b[0mdeco\u001b[0m\u001b[0;34m(\u001b[0m\u001b[0;34m*\u001b[0m\u001b[0ma\u001b[0m\u001b[0;34m:\u001b[0m \u001b[0mAny\u001b[0m\u001b[0;34m,\u001b[0m \u001b[0;34m**\u001b[0m\u001b[0mkw\u001b[0m\u001b[0;34m:\u001b[0m \u001b[0mAny\u001b[0m\u001b[0;34m)\u001b[0m \u001b[0;34m->\u001b[0m \u001b[0mAny\u001b[0m\u001b[0;34m:\u001b[0m\u001b[0;34m\u001b[0m\u001b[0;34m\u001b[0m\u001b[0m\n\u001b[1;32m    178\u001b[0m         \u001b[0;32mtry\u001b[0m\u001b[0;34m:\u001b[0m\u001b[0;34m\u001b[0m\u001b[0;34m\u001b[0m\u001b[0m\n\u001b[0;32m--> 179\u001b[0;31m             \u001b[0;32mreturn\u001b[0m \u001b[0mf\u001b[0m\u001b[0;34m(\u001b[0m\u001b[0;34m*\u001b[0m\u001b[0ma\u001b[0m\u001b[0;34m,\u001b[0m \u001b[0;34m**\u001b[0m\u001b[0mkw\u001b[0m\u001b[0;34m)\u001b[0m\u001b[0;34m\u001b[0m\u001b[0;34m\u001b[0m\u001b[0m\n\u001b[0m\u001b[1;32m    180\u001b[0m         \u001b[0;32mexcept\u001b[0m \u001b[0mPy4JJavaError\u001b[0m \u001b[0;32mas\u001b[0m \u001b[0me\u001b[0m\u001b[0;34m:\u001b[0m\u001b[0;34m\u001b[0m\u001b[0;34m\u001b[0m\u001b[0m\n\u001b[1;32m    181\u001b[0m             \u001b[0mconverted\u001b[0m \u001b[0;34m=\u001b[0m \u001b[0mconvert_exception\u001b[0m\u001b[0;34m(\u001b[0m\u001b[0me\u001b[0m\u001b[0;34m.\u001b[0m\u001b[0mjava_exception\u001b[0m\u001b[0;34m)\u001b[0m\u001b[0;34m\u001b[0m\u001b[0;34m\u001b[0m\u001b[0m\n",
            "\u001b[0;32m/usr/local/lib/python3.11/dist-packages/py4j/protocol.py\u001b[0m in \u001b[0;36mget_return_value\u001b[0;34m(answer, gateway_client, target_id, name)\u001b[0m\n\u001b[1;32m    332\u001b[0m                     format(target_id, \".\", name, value))\n\u001b[1;32m    333\u001b[0m         \u001b[0;32melse\u001b[0m\u001b[0;34m:\u001b[0m\u001b[0;34m\u001b[0m\u001b[0;34m\u001b[0m\u001b[0m\n\u001b[0;32m--> 334\u001b[0;31m             raise Py4JError(\n\u001b[0m\u001b[1;32m    335\u001b[0m                 \u001b[0;34m\"An error occurred while calling {0}{1}{2}\"\u001b[0m\u001b[0;34m.\u001b[0m\u001b[0;34m\u001b[0m\u001b[0;34m\u001b[0m\u001b[0m\n\u001b[1;32m    336\u001b[0m                 format(target_id, \".\", name))\n",
            "\u001b[0;31mPy4JError\u001b[0m: An error occurred while calling o35.awaitTermination"
          ]
        }
      ],
      "source": [
        "from pyspark.sql import SparkSession\n",
        "from pyspark.sql.functions import col, from_json, to_timestamp\n",
        "from pyspark.sql.types import StringType, StructType, StructField, DoubleType\n",
        "\n",
        "spark = SparkSession.builder \\\n",
        "    .appName(\"NYISOStreaming\") \\\n",
        "    .master(\"local\") \\\n",
        "    .getOrCreate()\n",
        "\n",
        "streaming_df = spark.readStream \\\n",
        "    .format(\"socket\") \\\n",
        "    .option(\"host\", \"127.0.0.1\") \\\n",
        "    .option(\"port\", 9999)  \\\n",
        "    .load()\n",
        "\n",
        "print_stream(streaming_df)"
      ]
    }
  ],
  "metadata": {
    "colab": {
      "provenance": []
    },
    "kernelspec": {
      "display_name": "Python 3",
      "name": "python3"
    },
    "language_info": {
      "name": "python"
    }
  },
  "nbformat": 4,
  "nbformat_minor": 0
}